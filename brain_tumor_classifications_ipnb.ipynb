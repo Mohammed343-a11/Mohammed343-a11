{
  "cells": [
    {
      "cell_type": "markdown",
      "metadata": {
        "id": "view-in-github",
        "colab_type": "text"
      },
      "source": [
        "<a href=\"https://colab.research.google.com/github/Mohammed343-a11/Mohammed343-a11/blob/main/brain_tumor_classifications_ipnb.ipynb\" target=\"_parent\"><img src=\"https://colab.research.google.com/assets/colab-badge.svg\" alt=\"Open In Colab\"/></a>"
      ]
    },
    {
      "cell_type": "markdown",
      "metadata": {
        "id": "PSNDaTjnREBn"
      },
      "source": [
        "**install a library for telling execution time**"
      ]
    },
    {
      "cell_type": "code",
      "source": [
        "from google.colab import drive\n",
        "drive.mount('/content/drive')"
      ],
      "metadata": {
        "colab": {
          "base_uri": "https://localhost:8080/"
        },
        "id": "HWuBm7s1jHbw",
        "outputId": "e5f9b70e-511c-4c2c-c91c-30f9d59a7d92"
      },
      "execution_count": 1,
      "outputs": [
        {
          "output_type": "stream",
          "name": "stdout",
          "text": [
            "Drive already mounted at /content/drive; to attempt to forcibly remount, call drive.mount(\"/content/drive\", force_remount=True).\n"
          ]
        }
      ]
    },
    {
      "cell_type": "code",
      "execution_count": 2,
      "metadata": {
        "id": "adbyJLIjQz1g",
        "colab": {
          "base_uri": "https://localhost:8080/"
        },
        "outputId": "aed2f621-cf03-4005-ee97-3b6e5e32045d"
      },
      "outputs": [
        {
          "output_type": "stream",
          "name": "stdout",
          "text": [
            "Looking in indexes: https://pypi.org/simple, https://us-python.pkg.dev/colab-wheels/public/simple/\n",
            "Collecting ipython-autotime\n",
            "  Downloading ipython_autotime-0.3.1-py2.py3-none-any.whl (6.8 kB)\n",
            "Requirement already satisfied: ipython in /usr/local/lib/python3.8/dist-packages (from ipython-autotime) (7.9.0)\n",
            "Requirement already satisfied: setuptools>=18.5 in /usr/local/lib/python3.8/dist-packages (from ipython->ipython-autotime) (57.4.0)\n",
            "Requirement already satisfied: pexpect in /usr/local/lib/python3.8/dist-packages (from ipython->ipython-autotime) (4.8.0)\n",
            "Collecting jedi>=0.10\n",
            "  Downloading jedi-0.18.2-py2.py3-none-any.whl (1.6 MB)\n",
            "\u001b[2K     \u001b[90m━━━━━━━━━━━━━━━━━━━━━━━━━━━━━━━━━━━━━━━━\u001b[0m \u001b[32m1.6/1.6 MB\u001b[0m \u001b[31m21.3 MB/s\u001b[0m eta \u001b[36m0:00:00\u001b[0m\n",
            "\u001b[?25hRequirement already satisfied: traitlets>=4.2 in /usr/local/lib/python3.8/dist-packages (from ipython->ipython-autotime) (5.7.1)\n",
            "Requirement already satisfied: pickleshare in /usr/local/lib/python3.8/dist-packages (from ipython->ipython-autotime) (0.7.5)\n",
            "Requirement already satisfied: pygments in /usr/local/lib/python3.8/dist-packages (from ipython->ipython-autotime) (2.6.1)\n",
            "Requirement already satisfied: prompt-toolkit<2.1.0,>=2.0.0 in /usr/local/lib/python3.8/dist-packages (from ipython->ipython-autotime) (2.0.10)\n",
            "Requirement already satisfied: backcall in /usr/local/lib/python3.8/dist-packages (from ipython->ipython-autotime) (0.2.0)\n",
            "Requirement already satisfied: decorator in /usr/local/lib/python3.8/dist-packages (from ipython->ipython-autotime) (4.4.2)\n",
            "Requirement already satisfied: parso<0.9.0,>=0.8.0 in /usr/local/lib/python3.8/dist-packages (from jedi>=0.10->ipython->ipython-autotime) (0.8.3)\n",
            "Requirement already satisfied: six>=1.9.0 in /usr/local/lib/python3.8/dist-packages (from prompt-toolkit<2.1.0,>=2.0.0->ipython->ipython-autotime) (1.15.0)\n",
            "Requirement already satisfied: wcwidth in /usr/local/lib/python3.8/dist-packages (from prompt-toolkit<2.1.0,>=2.0.0->ipython->ipython-autotime) (0.2.6)\n",
            "Requirement already satisfied: ptyprocess>=0.5 in /usr/local/lib/python3.8/dist-packages (from pexpect->ipython->ipython-autotime) (0.7.0)\n",
            "Installing collected packages: jedi, ipython-autotime\n",
            "Successfully installed ipython-autotime-0.3.1 jedi-0.18.2\n",
            "time: 723 µs (started: 2023-03-02 19:34:49 +00:00)\n"
          ]
        }
      ],
      "source": [
        "!pip install ipython-autotime\n",
        "%load_ext autotime"
      ]
    },
    {
      "cell_type": "markdown",
      "metadata": {
        "id": "0kgzhvnbRMiH"
      },
      "source": [
        "**import a warning statment**"
      ]
    },
    {
      "cell_type": "code",
      "execution_count": 3,
      "metadata": {
        "colab": {
          "base_uri": "https://localhost:8080/"
        },
        "id": "Wd5svMApPX0b",
        "outputId": "085bfdfe-9531-48e8-ea56-2b51a131bd0b"
      },
      "outputs": [
        {
          "output_type": "stream",
          "name": "stdout",
          "text": [
            "time: 715 µs (started: 2023-03-02 19:34:49 +00:00)\n"
          ]
        }
      ],
      "source": [
        "import warnings\n",
        "warnings.filterwarnings(\"ignore\")"
      ]
    },
    {
      "cell_type": "code",
      "execution_count": 4,
      "metadata": {
        "colab": {
          "base_uri": "https://localhost:8080/"
        },
        "id": "mBV_C0wxQUub",
        "outputId": "770805a6-61b8-42c1-e693-4378cf974b3b"
      },
      "outputs": [
        {
          "output_type": "stream",
          "name": "stdout",
          "text": [
            "time: 620 µs (started: 2023-03-02 19:34:49 +00:00)\n"
          ]
        }
      ],
      "source": [
        "import numpy as np\n",
        "import matplotlib.pyplot as plt\n",
        "import os\n",
        "import math\n",
        "import shutil"
      ]
    },
    {
      "cell_type": "markdown",
      "metadata": {
        "id": "OvNWXoKGSHrf"
      },
      "source": [
        "**read my dataset**\n"
      ]
    },
    {
      "cell_type": "code",
      "execution_count": 5,
      "metadata": {
        "colab": {
          "base_uri": "https://localhost:8080/"
        },
        "id": "_rRND3ATSERK",
        "outputId": "45db4da4-c76f-4464-a51a-5ce0a11135a8"
      },
      "outputs": [
        {
          "output_type": "stream",
          "name": "stdout",
          "text": [
            "time: 18.7 ms (started: 2023-03-02 19:34:49 +00:00)\n"
          ]
        }
      ],
      "source": [
        "ROOT_DIR=\"/content/drive/MyDrive/brain tumerre\"\n",
        "number_of_images={}\n",
        "for dir in os.listdir(ROOT_DIR):\n",
        "  number_of_images[dir]=os.listdir(os.path.join(ROOT_DIR,dir))\n"
      ]
    },
    {
      "cell_type": "markdown",
      "metadata": {
        "id": "o-2_Ah34Yb-5"
      },
      "source": [
        "list the directory of our dataset"
      ]
    },
    {
      "cell_type": "code",
      "execution_count": 6,
      "metadata": {
        "id": "kYWWZ7FvYTDI",
        "colab": {
          "base_uri": "https://localhost:8080/"
        },
        "outputId": "cf31e307-7f28-4875-9448-6cf74aa0096c"
      },
      "outputs": [
        {
          "output_type": "execute_result",
          "data": {
            "text/plain": [
              "['no', 'yes']"
            ]
          },
          "metadata": {},
          "execution_count": 6
        },
        {
          "output_type": "stream",
          "name": "stdout",
          "text": [
            "time: 5.08 ms (started: 2023-03-02 19:34:49 +00:00)\n"
          ]
        }
      ],
      "source": [
        "os.listdir(\"/content/drive/MyDrive/brain tumerre\")"
      ]
    },
    {
      "cell_type": "markdown",
      "metadata": {
        "id": "V19rdPhEXfc4"
      },
      "source": [
        "**see all the number of image**"
      ]
    },
    {
      "cell_type": "code",
      "execution_count": 7,
      "metadata": {
        "id": "kTHMEdgnXWhI",
        "colab": {
          "base_uri": "https://localhost:8080/"
        },
        "outputId": "6c7a21e4-8218-4205-b83d-b5bcd4e40e56"
      },
      "outputs": [
        {
          "output_type": "execute_result",
          "data": {
            "text/plain": [
              "dict_items([('no', ['1 no.jpeg', '10 no.jpg', '11 no.jpg', 'N15.jpg', 'N2.JPG', '35 no.jpg', '2 no.jpeg', '46 no.jpg', '23 no.jpg', 'N1.JPG', '44no.jpg', '26 no.jpg', '37 no.jpg', '48 no.jpeg', '19 no.jpg', 'N20.JPG', '6 no.jpg', '43 no.jpg', '5 no.jpg', '28 no.jpg', '38 no.jpg', '50 no.jpg', '33 no.jpg', '49 no.jpg', '45 no.jpg', '30 no.jpg', '21 no.jpg', 'N16.jpg', '12 no.jpg', 'N11.jpg', '40 no.jpg', '47 no.jpg', '31 no.jpg', '17 no.jpg', '4 no.jpg', '42 no.jpg', '9 no.jpg', '36 no.jpg', '41 no.jpg', 'N19.JPG', '7 no.jpg', '15 no.jpg', '22 no.jpg', 'N22.JPG', '27 no.jpg', 'N17.jpg', '8 no.jpg', 'N21.jpg', '24 no.jpg', '20 no.jpg', '13 no.jpg', '25 no.jpg', '3 no.jpg', '34 no.jpg', '18 no.jpg', '29 no.jpg', '32 no.jpg', '14 no.jpg', '39 no.jpg', 'no 1.jpg', 'No19.jpg', 'No15.jpg', 'no 8.jpg', 'no 4.jpg', 'no 90.jpg', 'N26.JPG', 'no 5.jpeg', 'no 6.jpg', 'no 923.jpg', 'no 96.jpg', 'no 98.jpg', 'no 94.jpg', 'No17.jpg', 'no 2.jpg', 'no 95.jpg', 'No20.jpg', 'no 7.jpeg', 'No12.jpg', 'N3.jpg', 'no 89.jpg', 'no 91.jpeg', 'N5.jpg', 'No14.jpg', 'No16.jpg', 'no 10.jpg', 'No11.jpg', 'no.jpg', 'No22.jpg', 'no 92.jpg', 'No21.jpg', 'no 97.jpg', 'no 100.jpg', 'no 3.jpg', 'no 99.jpg', 'N6.jpg', 'no 9.png', 'No18.jpg', 'No13.jpg', 'image (25).jpg', 'image(89).jpg', 'image(249).jpg', 'image(154).jpg', 'image (52).jpg', 'image(292).jpg', 'image(224).jpg', 'image(165).jpg', 'image(271).jpg', 'image(108).jpg', 'image (55).jpg', 'image(274).jpg', 'image(193).jpg', 'image(211).jpg', 'image (37).jpg', 'image(188).jpg', 'image(204).jpg', 'image(264).jpg', 'image(306).jpg', 'image(59).jpg', 'image(199).jpg', 'image(318).jpg', 'image(43).jpg', 'image(166).jpg', 'image(284).jpg', 'image(47).jpg', 'image(68).jpg', 'image(158).jpg', 'image(195).jpg', 'image(45).jpg', 'image(263).jpg', 'image(114).jpg', 'image(217).jpg', 'image(129).jpg', 'image(302).jpg', 'image(77).jpg', 'image(3).jpg', 'image(132).jpg', 'image(250).jpg', 'image(178).jpg', 'image(280).jpg', 'image(61).jpg', 'image(51).jpg', 'image (59).jpg', 'image(10).jpg', 'image(90).jpg', 'image(247).jpg', 'image (58).jpg', 'image(92).jpg', 'image(200).jpg', 'image (38).jpg', 'image(281).jpg', 'image(130).jpg', 'image(137).jpg', 'image(238).jpg', 'image(24).jpg', 'image(11).jpg', 'image(291).jpg', 'image(233).jpg', 'image(251).jpg', 'image(216).jpg', 'image(142).jpg', 'image(23).jpg', 'image(242).jpg', 'image(1).jpg', 'image(17).jpg', 'image(136).jpg', 'image (43).jpg', 'image(164).jpg', 'image (17).jpg', 'image(283).jpg', 'image(169).jpg', 'image(102).jpg', 'image(313).jpg', 'image(143).jpg', 'image(76).jpg', 'image(191).jpg', 'image(296).jpg', 'image(27).jpg', 'image(157).jpg', 'image(70).jpg', 'image (11).jpg', 'image (30).jpg', 'image(240).jpg', 'image(317).jpg', 'image(152).jpg', 'image(172).jpg', 'image(275).jpg', 'image (15).jpg', 'image (54).jpg', 'image(38).jpg', 'image(79).jpg', 'image(42).jpg', 'image (32).jpg', 'image(202).jpg', 'image(244).jpg', 'image(220).jpg', 'image(118).jpg', 'image(106).jpg', 'image(50).jpg', 'image(5).jpg', 'image(179).jpg', 'image (34).jpg', 'image(260).jpg', 'image(265).jpg', 'image (44).jpg', 'image(230).jpg', 'image(123).jpg', 'image(52).jpg', 'image(73).jpg', 'image(149).jpg', 'image(125).jpg', 'image(212).jpg', 'image(13).jpg', 'image(88).jpg', 'image(87).jpg', '5.jpg', 'image (27).jpg', 'image(295).jpg', 'image(107).jpg', 'image(308).jpg', 'image (60).jpg', 'image(206).jpg', 'image(146).jpg', 'image(309).jpg', 'image(320).jpg', 'image(285).jpg', 'image(321).jpg', 'image(163).jpg', 'image(210).jpg', 'image(101).jpg', 'image(219).jpg', 'image(65).jpg', 'image(270).jpg', 'image (14).jpg', 'image(214).jpg', 'image(177).jpg', '2.jpg', 'image (41).jpg', 'image(289).jpg', 'image.jpg', 'image(112).jpg', 'image(222).jpg', 'image(60).jpg', 'image(44).jpg', 'image (10).jpg', 'image(40).jpg', '6.jpg', 'image(226).jpg', 'image(246).jpg', 'image(117).jpg', 'image(116).jpg', 'image(186).jpg', 'image (31).jpg', 'image(310).jpg', 'image(303).jpg', 'image(326).jpg', 'image (49).jpg', 'image (62).jpg', 'image(209).jpg', 'image(304).jpg', 'image(150).jpg', 'image(221).jpg', 'image (29).jpg', 'image(103).jpg', 'image(37).jpg', 'image(215).jpg', 'image(75).jpg', 'image(237).jpg', 'image(110).jpg', 'image(197).jpg', 'image (48).jpg', 'image (35).jpg', 'image(135).jpg', 'image(85).jpg', 'image(78).jpg', 'image (64).jpg', 'image(311).jpg', 'image(286).jpg', 'image(259).jpg', 'image(63).jpg', 'image(194).jpg', 'image(69).jpg', 'image(82).jpg', 'image(180).jpg', 'image(67).jpg', 'image(268).jpg', 'image(269).jpg', 'image(299).jpg', 'image(184).jpg', 'image(120).jpg', 'image(235).jpg', '1.jpg', 'image(208).jpg', 'image(170).jpg', 'image(7).jpg', 'image(258).jpg', 'image(234).jpg', 'image(294).jpg', 'image(2).jpg', 'image(140).jpg', 'image (7).jpg', 'image(16).jpg', 'image(201).jpg', 'image(312).jpg', 'image (42).jpg', 'image(316).jpg', 'image(57).jpg', 'image (63).jpg', 'image(93).jpg', '3.jpg', 'image(182).jpg', 'image(6).jpg', 'image(236).jpg', 'image (16).jpg', 'image(31).jpg', 'image(8).jpg', 'image(49).jpg', 'image(33).jpg', 'image(176).jpg', 'image(58).jpg', 'image(29).jpg', 'image(81).jpg', 'image(267).jpg', 'image(122).jpg', 'image (22).jpg', 'image(273).jpg', 'image(124).jpg', 'image(293).jpg', 'image (50).jpg', 'image(98).jpg', 'image(156).jpg', 'image(213).jpg', 'image(115).jpg', 'image(276).jpg', 'image(232).jpg', 'image(28).jpg', 'image(278).jpg', 'image(185).jpg', 'image(322).jpg', 'image(287).jpg', 'image(119).jpg', 'image(138).jpg', 'image(324).jpg', 'image(277).jpg', '7.jpg', 'image(288).jpg', 'image (45).jpg', 'image(307).jpg', 'image(225).jpg', 'image (21).jpg', 'image(133).jpg', 'image(141).jpg', 'image(62).jpg', 'image(190).jpg', 'image(151).jpg', 'image(71).jpg', 'image(207).jpg', 'image(30).jpg', 'image(241).jpg', 'image(319).jpg', 'image(134).jpg', 'image (12).jpg', 'image(290).jpg', 'image(272).jpg', 'image(72).jpg', 'image(39).jpg', 'image(4).jpg', 'image(147).jpg', 'image (57).jpg', 'image(181).jpg', 'image(171).jpg', 'image(35).jpg', 'image(53).jpg', 'image(145).jpg', 'image(95).jpg', 'image(139).jpg', 'image(229).jpg', 'image(32).jpg', 'image(64).jpg', 'image(255).jpg', 'image(20).jpg', 'image(187).jpg', 'image (47).jpg', 'image(257).jpg', 'image(175).jpg', 'image(325).jpg', 'image (56).jpg', 'image (28).jpg', 'image(173).jpg', 'image(34).jpg', 'image(231).jpg', 'image(15).jpg', 'image (61).jpg', 'image(74).jpg', '8.jpg', 'image(48).jpg', 'image(314).jpg', 'image (40).jpg', '4.jpg', 'image(223).jpg', 'image(144).jpg', 'image(160).jpg', 'image(297).jpg', 'image(227).jpg', 'image(282).jpg', 'image(126).jpg', 'image(83).jpg', 'image(41).jpg', 'image(113).jpg', 'image (53).jpg', 'image (39).jpg', 'image(248).jpg', 'image(86).jpg', 'image(266).jpg', 'image(196).jpg', 'image(54).jpg', 'image(301).jpg', 'image(168).jpg', 'image(19).jpg', 'image(245).jpg', 'image (19).jpg', 'image (26).jpg', 'image(99).jpg', 'image(167).jpg', 'image(21).jpg', 'image(26).jpg', 'image(91).jpg', 'image(80).jpg', 'image(305).jpg', 'image(128).jpg', 'image(298).jpg', 'image(205).jpg', 'image(198).jpg', 'image(121).jpg', 'image(56).jpg', 'image(9).jpg', 'image(279).jpg', 'image(105).jpg', 'image (36).jpg', 'image (46).jpg', 'image (9).jpg', 'image(262).jpg', 'image(174).jpg', 'image(18).jpg', 'image(127).jpg', 'image (5).jpg', 'image(256).jpg', 'image(100).jpg', 'image(243).jpg', 'image(104).jpg', 'image(183).jpg', 'image(36).jpg', 'image(239).jpg', 'image(84).jpg', 'image (13).jpg', 'image(153).jpg', 'image(189).jpg', 'image(323).jpg', 'image(131).jpg', 'image(12).jpg', 'image(192).jpg', 'image(327).jpg', 'image(66).jpg', 'image(155).jpg', 'image (20).jpg', 'image(253).jpg', 'image(159).jpg', 'image(148).jpg', 'image(46).jpg', 'image(252).jpg', 'image (51).jpg', 'image(254).jpg', 'image(25).jpg', 'image(315).jpg', 'image (18).jpg', 'image(228).jpg', 'image(162).jpg', 'image(14).jpg', 'image(94).jpg', 'image(300).jpg', 'image (24).jpg', 'image(111).jpg', 'image (23).jpg', 'image(218).jpg', 'image (33).jpg', 'image (4).jpg', 'image(161).jpg', 'image (6).jpg', 'image(22).jpg', 'image (8).jpg', 'image(203).jpg', 'image(55).jpg', 'image(96).jpg', 'image(261).jpg']), ('yes', ['Y82.jpg', 'Y246.JPG', 'Y85.JPG', 'Y182.JPG', 'Y92.png', 'Y90.jpg', 'Y153.jpg', 'Y14.jpg', 'Y67.JPG', 'Y107.jpg', 'Y86.JPG', 'Y62.jpg', 'Y12.jpg', 'Y58.JPG', 'Y183.jpg', 'Y111.JPG', 'Y105.jpg', 'Y104.jpg', 'Y250.jpg', 'Y81.jpg', 'Y49.JPG', 'Y24.jpg', 'Y257.jpg', 'Y154.jpg', 'Y73.jpg', 'Y158.JPG', 'Y74.jpg', 'Y101.jpg', 'Y40.JPG', 'Y114.JPG', 'Y255.JPG', 'Y244.JPG', 'Y16.JPG', 'Y106.jpg', 'Y165.JPG', 'Y10.jpg', 'Y163.JPG', 'Y31.jpg', 'Y29.jpg', 'Y170.JPG', 'Y251.JPG', 'Y162.jpg', 'Y253.JPG', 'Y55.jpg', 'Y18.JPG', 'Y25.jpg', 'Y53.jpg', 'Y254.jpg', 'Y11.jpg', 'Y184.JPG', 'Y97.JPG', 'Y65.JPG', 'Y146.JPG', 'Y77.jpg', 'Y147.JPG', 'Y120.JPG', 'Y75.JPG', 'Y41.jpg', 'Y108.jpg', 'Y92.jpg', 'Y247.JPG', 'Y116.JPG', 'Y148.JPG', 'Y155.JPG', 'Y195.JPG', 'Y60.jpg', 'Y52.jpg', 'Y167.JPG', 'Y91.jpg', 'Y42.jpg', 'Y15.jpg', 'Y30.jpg', 'Y180.jpg', 'Y20.jpg', 'Y103.jpg', 'Y160.JPG', 'Y3.jpg', 'Y256.JPG', 'Y21.jpg', 'Y185.jpg', 'Y95.jpg', 'Y54.jpg', 'Y38.jpg', 'Y39.jpg', 'Y117.JPG', 'Y96.jpg', 'Y78.jpg', 'Y70.jpg', 'Y79.jpg', 'Y258.JPG', 'Y61.jpg', 'Y59.JPG', 'Y181.jpg', 'Y45.JPG', 'Y13.jpg', 'Y159.JPG', 'Y36.JPG', 'Y115.JPG', 'Y169.jpg', 'Y168.jpg', 'Y102.jpg', 'Y1.jpg', 'Y161.JPG', 'Y164.JPG', 'Y113.JPG', 'Y186.jpg', 'Y46.jpg', 'Y100.JPG', 'Y6.jpg', 'Y252.jpg', 'Y22.jpg', 'Y112.JPG', 'Y28.jpg', 'Y187.jpg', 'Y193.JPG', 'Y243.JPG', 'Y37.jpg', 'Y89.JPG', 'Y109.JPG', 'Y19.JPG', 'Y27.jpg', 'Y50.JPG', 'Y166.JPG', 'Y66.JPG', 'Y17.jpg', 'Y76.jpg', 'Y33.jpg', 'Y98.JPG', 'Y194.jpg', 'Y34.jpg', 'Y51.jpg', 'Y249.JPG', 'Y56.jpg', 'Y71.JPG', 'Y99.JPG', 'Y35.jpg', 'Y8.jpg', 'Y157.JPG', 'Y32.jpg', 'Y26.jpg', 'Y2.jpg', 'Y248.JPG', 'Y156.JPG', 'Y23.JPG', 'Y188.jpg', 'Y47.JPG', 'Y4.jpg', 'Y259.JPG', 'Y245.jpg', 'Y192.JPG', 'Y9.jpg', 'Y7.jpg', 'Y44.JPG', 'Y69.jpg', 'Y242.JPG', 'p (280).jpg', 'p (339).jpg', 'p (323).jpg', 'p (244).jpg', 'p (180).jpg', 'p (14).jpg', 'p (11).jpg', 'p (213).jpg', 'p (256).jpg', 'p (160).jpg', 'p (12).jpg', 'p (162).jpg', 'p (15).jpg', 'p (18).jpg', 'p (205).jpg', 'p (224).jpg', 'p (115).jpg', 'p (352).jpg', 'p (156).jpg', 'p (260).jpg', 'p (236).jpg', 'p (194).jpg', 'p (318).jpg', 'p (35).jpg', 'p (249).jpg', 'p (19).jpg', 'p (354).jpg', 'p (122).jpg', 'p (327).jpg', 'p (149).jpg', 'p (258).jpg', 'p (234).jpg', 'p (2).jpg', 'p (291).jpg', 'p (31).jpg', 'p (215).jpg', 'p (168).jpg', 'p (123).jpg', 'p (172).jpg', 'p (231).jpg', 'p (295).jpg', 'p (210).jpg', 'p (146).jpg', 'p (20).jpg', 'p (267).jpg', 'p (143).jpg', 'p (44).jpg', 'p (294).jpg', 'p (103).jpg', 'p (310).jpg', 'p (341).jpg', 'p (238).jpg', 'p (111).jpg', 'p (23).jpg', 'p (307).jpg', 'p (126).jpg', 'p (284).jpg', 'p (32).jpg', 'p (30).jpg', 'p (266).jpg', 'p (105).jpg', 'p (40).jpg', 'p (239).jpg', 'p (270).jpg', 'p (235).jpg', 'p (128).jpg', 'p (134).jpg', 'p (167).jpg', 'p (243).jpg', 'p (154).jpg', 'p (110).jpg', 'p (174).jpg', 'p (252).jpg', 'p (335).jpg', 'p (49).jpg', 'p (27).jpg', 'p (303).jpg', 'p (286).jpg', 'p (141).jpg', 'p (242).jpg', 'p (190).jpg', 'p (41).jpg', 'p (130).jpg', 'p (109).jpg', 'p (201).jpg', 'p (175).jpg', 'p (250).jpg', 'p (16).jpg', 'p (211).jpg', 'p (208).jpg', 'p (133).jpg', 'p (37).jpg', 'p (4).jpg', 'p (113).jpg', 'p (340).jpg', 'p (107).jpg', 'p (265).jpg', 'p (24).jpg', 'p (228).jpg', 'p (38).jpg', 'p (221).jpg', 'p (312).jpg', 'p (313).jpg', 'p (129).jpg', 'p (171).jpg', 'p (292).jpg', 'p (290).jpg', 'p (311).jpg', 'p (137).jpg', 'p (212).jpg', 'p (281).jpg', 'p (248).jpg', 'p (362).jpg', 'p (300).jpg', 'p (285).jpg', 'p (192).jpg', 'p (153).jpg', 'p (356).jpg', 'p (296).jpg', 'p (306).jpg', 'p (304).jpg', 'p (106).jpg', 'p (214).jpg', 'p (207).jpg', 'p (301).jpg', 'p (273).jpg', 'p (163).jpg', 'p (45).jpg', 'p (269).jpg', 'p (276).jpg', 'p (319).jpg', 'p (254).jpg', 'p (102).jpg', 'p (28).jpg', 'p (169).jpg', 'p (268).jpg', 'p (330).jpg', 'p (39).jpg', 'p (245).jpg', 'p (203).jpg', 'p (274).jpg', 'p (191).jpg', 'p (164).jpg', 'p (209).jpg', 'p (355).jpg', 'p (232).jpg', 'p (225).jpg', 'p (289).jpg', 'p (257).jpg', 'p (161).jpg', 'p (345).jpg', 'p (316).jpg', 'p (3).jpg', 'p (261).jpg', 'p (21).jpg', 'p (262).jpg', 'p (197).jpg', 'p (264).jpg', 'p (326).jpg', 'p (308).jpg', 'p (230).jpg', 'p (101).jpg', 'p (112).jpg', 'p (332).jpg', 'p (325).jpg', 'p (189).jpg', 'p (346).jpg', 'p (158).jpg', 'p (363).jpg', 'p (121).jpg', 'p (145).jpg', 'p (216).jpg', 'p (353).jpg', 'p (22).jpg', 'p (350).jpg', 'p (47).jpg', 'p (277).jpg', 'p (1).jpg', 'p (298).jpg', 'p (315).jpg', 'p (293).jpg', 'p (275).jpg', 'p (116).jpg', 'p (309).jpg', 'p (33).jpg', 'p (43).jpg', 'p (176).jpg', 'p (229).jpg', 'p (140).jpg', 'p (193).jpg', 'p (287).jpg', 'p (185).jpg', 'p (347).jpg', 'p (338).jpg', 'p (136).jpg', 'p (170).jpg', 'p (138).jpg', 'p (351).jpg', 'p (343).jpg', 'p (279).jpg', 'p (124).jpg', 'p (181).jpg', 'p (34).jpg', 'p (178).jpg', 'p (329).jpg', 'p (150).jpg', 'p (36).jpg', 'p (184).jpg', 'p (246).jpg', 'p (259).jpg', 'p (125).jpg', 'p (177).jpg', 'p (219).jpg', 'p (152).jpg', 'p (202).jpg', 'p (198).jpg', 'p (233).jpg', 'p (253).jpg', 'p (127).jpg', 'p (144).jpg', 'p (199).jpg', 'p (247).jpg', 'p (179).jpg', 'p (226).jpg', 'p (118).jpg', 'p (349).jpg', 'p (119).jpg', 'p (255).jpg', 'p (223).jpg', 'p (240).jpg', 'p (165).jpg', 'p (104).jpg', 'p (263).jpg', 'p (220).jpg', 'p (302).jpg', 'p (13).jpg', 'p (166).jpg', 'p (337).jpg', 'p (151).jpg', 'p (336).jpg', 'p (48).jpg', 'p (182).jpg', 'p (120).jpg', 'p (206).jpg', 'p (186).jpg', 'p (29).jpg', 'p (135).jpg', 'p (324).jpg', 'p (359).jpg', 'p (204).jpg', 'p (114).jpg', 'p (227).jpg', 'p (358).jpg', 'p (360).jpg', 'p (142).jpg', 'p (183).jpg', 'p (271).jpg', 'p (241).jpg', 'p (217).jpg', 'p (17).jpg', 'p (10).jpg', 'p (139).jpg', 'p (159).jpg', 'p (187).jpg', 'p (334).jpg', 'p (196).jpg', 'p (132).jpg', 'p (321).jpg', 'p (357).jpg', 'p (283).jpg', 'p (320).jpg', 'p (237).jpg', 'p (305).jpg', 'p (117).jpg', 'p (25).jpg', 'p (361).jpg', 'p (42).jpg', 'p (278).jpg', 'p (46).jpg', 'p (195).jpg', 'p (317).jpg', 'p (314).jpg', 'p (157).jpg', 'p (100).jpg', 'p (344).jpg', 'p (173).jpg', 'p (155).jpg', 'p (26).jpg', 'p (331).jpg', 'p (288).jpg', 'p (200).jpg', 'p (348).jpg', 'p (251).jpg', 'p (188).jpg', 'p (147).jpg', 'p (299).jpg', 'p (322).jpg', 'p (297).jpg', 'p (222).jpg', 'p (108).jpg', 'p (148).jpg', 'p (328).jpg', 'p (342).jpg', 'p (272).jpg', 'p (218).jpg', 'p (131).jpg', 'p (282).jpg', 'p (333).jpg', 'p (90).jpg', 'p (95).jpg', 'p (9).jpg', 'p (72).jpg', 'p (66).jpg', 'p (7).jpg', 'p (65).jpg', 'p (57).jpg', 'p (92).jpg', 'p (86).jpg', 'p (97).jpg', 'p (77).jpg', 'p (89).jpg', 'p (81).jpg', 'p (58).jpg', 'p (64).jpg', 'p (96).jpg', 'p (73).jpg', 'p (76).jpg', 'p (52).jpg', 'p (78).jpg', 'p (55).jpg', 'p (93).jpg', 'p (79).jpg', 'p (83).jpg', 'p (54).jpg', 'p (62).jpg', 'p (5).jpg', 'p (51).jpg', 'p (6).jpg', 'p (85).jpg', 'p (91).jpg', 'p (8).jpg', 'p (68).jpg', 'p (70).jpg', 'p (60).jpg', 'p (63).jpg', 'p (71).jpg', 'p (74).jpg', 'p (99).jpg', 'p (67).jpg', 'p (87).jpg', 'p (50).jpg', 'p (75).jpg', 'p (82).jpg', 'p (59).jpg', 'p (88).jpg', 'p (80).jpg', 'p (61).jpg', 'p (53).jpg', 'p (94).jpg', 'p (56).jpg', 'p (98).jpg', 'p (69).jpg', 'p (84).jpg'])])"
            ]
          },
          "metadata": {},
          "execution_count": 7
        },
        {
          "output_type": "stream",
          "name": "stdout",
          "text": [
            "time: 3.32 ms (started: 2023-03-02 19:34:49 +00:00)\n"
          ]
        }
      ],
      "source": [
        "number_of_images.items()"
      ]
    },
    {
      "cell_type": "code",
      "execution_count": 8,
      "metadata": {
        "id": "Irl4KzL6Xa8B",
        "colab": {
          "base_uri": "https://localhost:8080/"
        },
        "outputId": "f746ec1a-3a49-4dcf-a3f8-0c9732095ad1"
      },
      "outputs": [
        {
          "output_type": "stream",
          "name": "stdout",
          "text": [
            "time: 14.8 ms (started: 2023-03-02 19:34:49 +00:00)\n"
          ]
        }
      ],
      "source": [
        "number_of_images={}\n",
        "for dir in os.listdir(ROOT_DIR):\n",
        "  number_of_images[dir]=len(os.listdir(os.path.join(ROOT_DIR,dir)))"
      ]
    },
    {
      "cell_type": "markdown",
      "metadata": {
        "id": "iB_Om7pyX8RQ"
      },
      "source": [
        "**see length of tumered and non tumered brain**"
      ]
    },
    {
      "cell_type": "code",
      "execution_count": 9,
      "metadata": {
        "id": "FPDvDwgCXuJ_",
        "colab": {
          "base_uri": "https://localhost:8080/"
        },
        "outputId": "f8b737ab-120d-45f7-ca2a-984d448864e8"
      },
      "outputs": [
        {
          "output_type": "execute_result",
          "data": {
            "text/plain": [
              "dict_items([('no', 493), ('yes', 518)])"
            ]
          },
          "metadata": {},
          "execution_count": 9
        },
        {
          "output_type": "stream",
          "name": "stdout",
          "text": [
            "time: 3.09 ms (started: 2023-03-02 19:34:49 +00:00)\n"
          ]
        }
      ],
      "source": [
        "number_of_images.items()"
      ]
    },
    {
      "cell_type": "code",
      "source": [],
      "metadata": {
        "id": "mgVkSOwbeEGC",
        "colab": {
          "base_uri": "https://localhost:8080/"
        },
        "outputId": "e17ade59-f650-410c-84c1-93e1a6ac511e"
      },
      "execution_count": 9,
      "outputs": [
        {
          "output_type": "stream",
          "name": "stdout",
          "text": [
            "time: 12.3 ms (started: 2023-03-02 19:34:49 +00:00)\n"
          ]
        }
      ]
    },
    {
      "cell_type": "markdown",
      "metadata": {
        "id": "QLlR6cc9dzzQ"
      },
      "source": [
        "**create traning folder**"
      ]
    },
    {
      "cell_type": "code",
      "execution_count": 10,
      "metadata": {
        "id": "xEunQLlqZEwQ",
        "colab": {
          "base_uri": "https://localhost:8080/"
        },
        "outputId": "9922e085-9523-4764-fdbb-161f920104fe"
      },
      "outputs": [
        {
          "output_type": "stream",
          "name": "stdout",
          "text": [
            "the folder exist\n",
            "the folder exist\n",
            "time: 11.7 s (started: 2023-03-02 19:34:49 +00:00)\n"
          ]
        }
      ],
      "source": [
        "if not os.path.exists(\"./train\"):\n",
        "  os.mkdir(\"./train\")\n",
        "  \n",
        "  for dir in os.listdir(ROOT_DIR):\n",
        "    os.makedirs(\"./train/\"+dir)\n",
        "    for img in np.random.choice(a=os.listdir(os.path.join(ROOT_DIR,dir)),size=(math.floor(70/100*number_of_images[dir])-5),replace=False):\n",
        "      O=os.path.join(ROOT_DIR,dir,img)#path\n",
        "      D=os.path.join(\"./train\",dir)\n",
        "      shutil.copy(O,D)\n",
        "      os.remove(O)\n",
        "    else:\n",
        "      print(\"the folder exist\")\n"
      ]
    },
    {
      "cell_type": "markdown",
      "source": [
        " **bold data spliting\n",
        "90%for traning\n",
        "5%validating\n",
        "5%testingtext** "
      ],
      "metadata": {
        "id": "gsgqKNy3eNmx"
      }
    },
    {
      "cell_type": "code",
      "execution_count": 11,
      "metadata": {
        "id": "VZX8E_hWYMZ5",
        "colab": {
          "base_uri": "https://localhost:8080/"
        },
        "outputId": "c5e7c353-2509-4c52-f5f6-4a19a7856fc3"
      },
      "outputs": [
        {
          "output_type": "stream",
          "name": "stdout",
          "text": [
            "time: 4.42 ms (started: 2023-03-02 19:35:01 +00:00)\n"
          ]
        }
      ],
      "source": [
        "def dataFolder(p,split):\n",
        "  if not os.path.exists(\"./\"+p):\n",
        "    os.mkdir(\"./\"+p)\n",
        "    for dir in os.listdir(ROOT_DIR):\n",
        "      os.makedirs(\"./\"+p+\"/\"+dir)\n",
        "      for img in np.random.choice(a=os.listdir(os.path.join(ROOT_DIR,dir)),size=(math.floor(split*number_of_images[dir])-5),replace=False):\n",
        "        O=os.path.join(ROOT_DIR,dir,img)#path\n",
        "        D=os.path.join(\"./\"+p,dir)\n",
        "        shutil.copy(O,D)\n",
        "        os.remove(O)\n",
        "    else:\n",
        "      print(f\"{p}the folder exist\")\n"
      ]
    },
    {
      "cell_type": "markdown",
      "source": [
        "**for traning**"
      ],
      "metadata": {
        "id": "mnkGw0QjeRmx"
      }
    },
    {
      "cell_type": "code",
      "execution_count": 12,
      "metadata": {
        "id": "Mrv0BmuvhHW4",
        "colab": {
          "base_uri": "https://localhost:8080/"
        },
        "outputId": "0cc08676-3a8b-4f93-fcc7-24943aca4d50"
      },
      "outputs": [
        {
          "output_type": "stream",
          "name": "stdout",
          "text": [
            "time: 2.14 ms (started: 2023-03-02 19:35:01 +00:00)\n"
          ]
        }
      ],
      "source": [
        "dataFolder(\"train\",0.7)"
      ]
    },
    {
      "cell_type": "markdown",
      "source": [
        "**for validation**"
      ],
      "metadata": {
        "id": "JkV20wQ9eV1R"
      }
    },
    {
      "cell_type": "code",
      "execution_count": 13,
      "metadata": {
        "id": "ZvwM_yr_hfUI",
        "colab": {
          "base_uri": "https://localhost:8080/"
        },
        "outputId": "0296ed47-a46f-40d6-f5d5-db594ecd40d9"
      },
      "outputs": [
        {
          "output_type": "stream",
          "name": "stdout",
          "text": [
            "valthe folder exist\n",
            "time: 645 ms (started: 2023-03-02 19:35:01 +00:00)\n"
          ]
        }
      ],
      "source": [
        "dataFolder(\"val\",0.15)"
      ]
    },
    {
      "cell_type": "markdown",
      "source": [
        "**for validation**"
      ],
      "metadata": {
        "id": "v9nL2JcWeaTS"
      }
    },
    {
      "cell_type": "code",
      "execution_count": 14,
      "metadata": {
        "id": "HJZZ9R1Jh8G_",
        "colab": {
          "base_uri": "https://localhost:8080/"
        },
        "outputId": "9efdad05-f5e7-4430-f189-782080f5ff8b"
      },
      "outputs": [
        {
          "output_type": "stream",
          "name": "stdout",
          "text": [
            "testthe folder exist\n",
            "time: 516 ms (started: 2023-03-02 19:35:02 +00:00)\n"
          ]
        }
      ],
      "source": [
        "dataFolder(\"test\",0.15)"
      ]
    },
    {
      "cell_type": "code",
      "source": [],
      "metadata": {
        "id": "QkD3LRITSMPc",
        "colab": {
          "base_uri": "https://localhost:8080/"
        },
        "outputId": "43751b20-fbbb-4917-d95e-aee320acd52e"
      },
      "execution_count": 14,
      "outputs": [
        {
          "output_type": "stream",
          "name": "stdout",
          "text": [
            "time: 528 ms (started: 2023-03-02 19:35:02 +00:00)\n"
          ]
        }
      ]
    },
    {
      "cell_type": "markdown",
      "metadata": {
        "id": "c25f3LborZ6Y"
      },
      "source": [
        "**model building**"
      ]
    },
    {
      "cell_type": "code",
      "execution_count": 15,
      "metadata": {
        "id": "VBz7AUV1rP1f",
        "colab": {
          "base_uri": "https://localhost:8080/"
        },
        "outputId": "8713a039-4ed7-4f1a-e4da-ba01786e4e8f"
      },
      "outputs": [
        {
          "output_type": "stream",
          "name": "stdout",
          "text": [
            "time: 3.41 s (started: 2023-03-02 19:35:02 +00:00)\n"
          ]
        }
      ],
      "source": [
        "from keras.utils import img_to_array #underling frame work for tensorflow\n",
        "from keras.utils.image_dataset import load_image\n",
        "from keras.layers import Conv2D,MaxPool2D,Dropout,Flatten,Dense,BatchNormalization,GlobalAveragePooling2D\n",
        "from keras.models import Sequential\n",
        "from keras.preprocessing.image import ImageDataGenerator\n",
        "import keras"
      ]
    },
    {
      "cell_type": "markdown",
      "metadata": {
        "id": "yzJHt5NOsmV4"
      },
      "source": [
        "** 2D CNN model**"
      ]
    },
    {
      "cell_type": "code",
      "execution_count": 16,
      "metadata": {
        "id": "waW5gxU_qY6h",
        "colab": {
          "base_uri": "https://localhost:8080/"
        },
        "outputId": "bfb3119d-7562-494a-d320-c0db9a3a2957"
      },
      "outputs": [
        {
          "output_type": "stream",
          "name": "stdout",
          "text": [
            "Model: \"sequential\"\n",
            "_________________________________________________________________\n",
            " Layer (type)                Output Shape              Param #   \n",
            "=================================================================\n",
            " conv2d (Conv2D)             (None, 242, 242, 16)      448       \n",
            "                                                                 \n",
            " conv2d_1 (Conv2D)           (None, 240, 240, 32)      4640      \n",
            "                                                                 \n",
            " max_pooling2d (MaxPooling2D  (None, 120, 120, 32)     0         \n",
            " )                                                               \n",
            "                                                                 \n",
            " conv2d_2 (Conv2D)           (None, 118, 118, 64)      18496     \n",
            "                                                                 \n",
            " max_pooling2d_1 (MaxPooling  (None, 59, 59, 64)       0         \n",
            " 2D)                                                             \n",
            "                                                                 \n",
            " conv2d_3 (Conv2D)           (None, 57, 57, 128)       73856     \n",
            "                                                                 \n",
            " max_pooling2d_2 (MaxPooling  (None, 28, 28, 128)      0         \n",
            " 2D)                                                             \n",
            "                                                                 \n",
            " flatten (Flatten)           (None, 100352)            0         \n",
            "                                                                 \n",
            " dense (Dense)               (None, 64)                6422592   \n",
            "                                                                 \n",
            " dropout (Dropout)           (None, 64)                0         \n",
            "                                                                 \n",
            " dense_1 (Dense)             (None, 1)                 65        \n",
            "                                                                 \n",
            "=================================================================\n",
            "Total params: 6,520,097\n",
            "Trainable params: 6,520,097\n",
            "Non-trainable params: 0\n",
            "_________________________________________________________________\n",
            "time: 5.46 s (started: 2023-03-02 19:35:06 +00:00)\n"
          ]
        }
      ],
      "source": [
        "from keras.backend import dropout\n",
        "from keras.engine import sequential\n",
        "model=Sequential()\n",
        "model.add(Conv2D(filters=16,kernel_size=(3,3),activation='relu',input_shape=(244,244,3)))\n",
        "\n",
        "model.add(Conv2D(filters=32,kernel_size=(3,3),activation='relu'))\n",
        "model.add(MaxPool2D(pool_size=(2,2)))\n",
        "\n",
        "model.add(Conv2D(filters=64,kernel_size=(3,3),activation='relu'))\n",
        "model.add(MaxPool2D(pool_size=(2,2)))\n",
        "\n",
        "model.add(Conv2D(filters=128,kernel_size=(3,3),activation='relu'))\n",
        "model.add(MaxPool2D(pool_size=(2,2)))\n",
        "\n",
        "model.add(Flatten())\n",
        "model.add(Dense(units=64,activation='relu'))\n",
        "model.add(Dropout(rate=0.25))\n",
        "model.add(Dense(units=1,activation='sigmoid'))\n",
        "\n",
        "model.summary()\n",
        "\n"
      ]
    },
    {
      "cell_type": "markdown",
      "source": [
        "used optimizer and evaluation metrics"
      ],
      "metadata": {
        "id": "xKyjD3SjfjUK"
      }
    },
    {
      "cell_type": "code",
      "execution_count": 17,
      "metadata": {
        "id": "e37u4-IJ3xXK",
        "colab": {
          "base_uri": "https://localhost:8080/"
        },
        "outputId": "cdab9588-f83e-4f9a-a1b3-b734bbdb9cbc"
      },
      "outputs": [
        {
          "output_type": "stream",
          "name": "stdout",
          "text": [
            "time: 323 ms (started: 2023-03-02 19:35:11 +00:00)\n"
          ]
        }
      ],
      "source": [
        "import tensorflow as tf\n",
        "model.compile(optimizer='adam',loss = tf.keras.losses.binary_crossentropy,metrics=['accuracy'])\n"
      ]
    },
    {
      "cell_type": "markdown",
      "metadata": {
        "id": "d6-gMEai8kKA"
      },
      "source": [
        "**preparing ourdata using data generator**"
      ]
    },
    {
      "cell_type": "code",
      "execution_count": 18,
      "metadata": {
        "id": "eLYWsS4f72UJ",
        "colab": {
          "base_uri": "https://localhost:8080/"
        },
        "outputId": "234c2691-e1e3-4c14-9cc5-a3a67caea3ff"
      },
      "outputs": [
        {
          "output_type": "stream",
          "name": "stdout",
          "text": [
            "time: 1.53 ms (started: 2023-03-02 19:35:11 +00:00)\n"
          ]
        }
      ],
      "source": [
        "def preprocessingImages(path):\n",
        "  \"\"\"\n",
        "  \n",
        "  input:path\n",
        "  output:preprocessed image\n",
        "  \"\"\"\n",
        "  image_data=ImageDataGenerator(zoom_range=0.2,shear_range=0.2,rescale=1/255,horizontal_flip=True)\n",
        "  image=image_data.flow_from_directory(directory=path,target_size=(244,244),batch_size=(32),class_mode='binary')\n",
        "  return image\n"
      ]
    },
    {
      "cell_type": "markdown",
      "metadata": {
        "id": "OKdUhQ89AKfx"
      },
      "source": [
        "**for traning**"
      ]
    },
    {
      "cell_type": "code",
      "execution_count": 19,
      "metadata": {
        "id": "yGGdbHGU_CQR",
        "colab": {
          "base_uri": "https://localhost:8080/"
        },
        "outputId": "cf90eff8-e504-449c-bfa5-cb17209f7f45"
      },
      "outputs": [
        {
          "output_type": "stream",
          "name": "stdout",
          "text": [
            "Found 697 images belonging to 2 classes.\n",
            "time: 97.2 ms (started: 2023-03-02 19:35:11 +00:00)\n"
          ]
        }
      ],
      "source": [
        "path='/content/train'\n",
        "train_data=preprocessingImages(path)"
      ]
    },
    {
      "cell_type": "markdown",
      "metadata": {
        "id": "8VH4OZK-AH3c"
      },
      "source": [
        "**for test data**"
      ]
    },
    {
      "cell_type": "code",
      "execution_count": 20,
      "metadata": {
        "id": "MhVvsHUQ_x4H",
        "colab": {
          "base_uri": "https://localhost:8080/"
        },
        "outputId": "96188c23-3dab-4330-f5c8-ad1c2ef4e1c9"
      },
      "outputs": [
        {
          "output_type": "stream",
          "name": "stdout",
          "text": [
            "time: 1.29 ms (started: 2023-03-02 19:35:11 +00:00)\n"
          ]
        }
      ],
      "source": [
        "def preprocessingImages2(path):\n",
        "  \"\"\"\n",
        "  input:path\n",
        "  output:preprocessed image\n",
        "  \"\"\"\n",
        "  image_data=ImageDataGenerator(rescale=1/255)\n",
        "  image=image_data.flow_from_directory(directory=path,target_size=(244,244),batch_size=(32),class_mode='binary')\n",
        "  return image"
      ]
    },
    {
      "cell_type": "code",
      "execution_count": 21,
      "metadata": {
        "id": "_uws_FcLAgoi",
        "colab": {
          "base_uri": "https://localhost:8080/"
        },
        "outputId": "f4192aa9-bb63-4a58-d788-b72d2ffec434"
      },
      "outputs": [
        {
          "output_type": "stream",
          "name": "stdout",
          "text": [
            "Found 140 images belonging to 2 classes.\n",
            "time: 29.7 ms (started: 2023-03-02 19:35:12 +00:00)\n"
          ]
        }
      ],
      "source": [
        "path='/content/test'\n",
        "test_data=preprocessingImages2(path)"
      ]
    },
    {
      "cell_type": "markdown",
      "source": [
        "**for validating**"
      ],
      "metadata": {
        "id": "qetkFIVniTAc"
      }
    },
    {
      "cell_type": "code",
      "execution_count": 22,
      "metadata": {
        "id": "GzPoRMSQAm2o",
        "colab": {
          "base_uri": "https://localhost:8080/"
        },
        "outputId": "80e87c3b-3ef0-4265-e4bf-ef4c95509415"
      },
      "outputs": [
        {
          "output_type": "stream",
          "name": "stdout",
          "text": [
            "Found 140 images belonging to 2 classes.\n",
            "time: 28.1 ms (started: 2023-03-02 19:35:12 +00:00)\n"
          ]
        }
      ],
      "source": [
        "path='/content/val'\n",
        "val_data=preprocessingImages2(path)"
      ]
    },
    {
      "cell_type": "markdown",
      "metadata": {
        "id": "he5W2lsbBAlX"
      },
      "source": [
        "**early stoping the model cheak point**"
      ]
    },
    {
      "cell_type": "code",
      "execution_count": 23,
      "metadata": {
        "id": "c7MMuivCA17R",
        "colab": {
          "base_uri": "https://localhost:8080/"
        },
        "outputId": "3bd015b2-4e1f-4f2e-8698-43ebef08cd22"
      },
      "outputs": [
        {
          "output_type": "stream",
          "name": "stdout",
          "text": [
            "time: 14.3 ms (started: 2023-03-02 19:35:12 +00:00)\n"
          ]
        }
      ],
      "source": [
        "from keras.callbacks import ModelCheckpoint,EarlyStopping\n",
        "#early stoping\n",
        "er=EarlyStopping(monitor=\"val_accuracy\",min_delta=0.01,patience=3,verbose=1,mode='auto')\n",
        "#model cheakpoint\n",
        "mc=ModelCheckpoint(monitor=\"val_accuracy\",filepath=\"./bestmodel.h5\",verbose=1,save_best_only=True,mode='auto')\n",
        "cd=[er,mc]"
      ]
    },
    {
      "cell_type": "markdown",
      "metadata": {
        "id": "ftoasA9_DHTE"
      },
      "source": [
        "**model traning**"
      ]
    },
    {
      "cell_type": "code",
      "execution_count": 24,
      "metadata": {
        "id": "slo4FM7WDEwB",
        "colab": {
          "base_uri": "https://localhost:8080/"
        },
        "outputId": "aa10708c-a863-4012-ec38-693ca20b9d62"
      },
      "outputs": [
        {
          "output_type": "stream",
          "name": "stdout",
          "text": [
            "Epoch 1/10\n",
            "22/22 [==============================] - ETA: 0s - loss: 0.7004 - accuracy: 0.5997"
          ]
        },
        {
          "output_type": "stream",
          "name": "stderr",
          "text": [
            "WARNING:tensorflow:Your input ran out of data; interrupting training. Make sure that your dataset or generator can generate at least `steps_per_epoch * epochs` batches (in this case, 16 batches). You may need to use the repeat() function when building your dataset.\n"
          ]
        },
        {
          "output_type": "stream",
          "name": "stdout",
          "text": [
            "\n",
            "Epoch 1: val_accuracy improved from -inf to 0.63571, saving model to ./bestmodel.h5\n",
            "22/22 [==============================] - 30s 628ms/step - loss: 0.7004 - accuracy: 0.5997 - val_loss: 0.5925 - val_accuracy: 0.6357\n",
            "Epoch 2/10\n",
            "22/22 [==============================] - ETA: 0s - loss: 0.6209 - accuracy: 0.6614"
          ]
        },
        {
          "output_type": "stream",
          "name": "stderr",
          "text": [
            "WARNING:tensorflow:Early stopping conditioned on metric `val_accuracy` which is not available. Available metrics are: loss,accuracy\n",
            "WARNING:tensorflow:Can save best model only with val_accuracy available, skipping.\n"
          ]
        },
        {
          "output_type": "stream",
          "name": "stdout",
          "text": [
            "\b\b\b\b\b\b\b\b\b\b\b\b\b\b\b\b\b\b\b\b\b\b\b\b\b\b\b\b\b\b\b\b\b\b\b\b\b\b\b\b\b\b\b\b\b\b\b\b\b\b\b\b\b\b\b\b\b\b\b\b\b\b\b\b\b\b\b\b\b\b\b\b\b\b\b\b\b\b\b\b\b\b\r22/22 [==============================] - 12s 536ms/step - loss: 0.6209 - accuracy: 0.6614\n",
            "Epoch 3/10\n",
            "22/22 [==============================] - ETA: 0s - loss: 0.5604 - accuracy: 0.7202"
          ]
        },
        {
          "output_type": "stream",
          "name": "stderr",
          "text": [
            "WARNING:tensorflow:Early stopping conditioned on metric `val_accuracy` which is not available. Available metrics are: loss,accuracy\n",
            "WARNING:tensorflow:Can save best model only with val_accuracy available, skipping.\n"
          ]
        },
        {
          "output_type": "stream",
          "name": "stdout",
          "text": [
            "\b\b\b\b\b\b\b\b\b\b\b\b\b\b\b\b\b\b\b\b\b\b\b\b\b\b\b\b\b\b\b\b\b\b\b\b\b\b\b\b\b\b\b\b\b\b\b\b\b\b\b\b\b\b\b\b\b\b\b\b\b\b\b\b\b\b\b\b\b\b\b\b\b\b\b\b\b\b\b\b\b\b\r22/22 [==============================] - 11s 502ms/step - loss: 0.5604 - accuracy: 0.7202\n",
            "Epoch 4/10\n",
            "22/22 [==============================] - ETA: 0s - loss: 0.5066 - accuracy: 0.7719"
          ]
        },
        {
          "output_type": "stream",
          "name": "stderr",
          "text": [
            "WARNING:tensorflow:Early stopping conditioned on metric `val_accuracy` which is not available. Available metrics are: loss,accuracy\n",
            "WARNING:tensorflow:Can save best model only with val_accuracy available, skipping.\n"
          ]
        },
        {
          "output_type": "stream",
          "name": "stdout",
          "text": [
            "\b\b\b\b\b\b\b\b\b\b\b\b\b\b\b\b\b\b\b\b\b\b\b\b\b\b\b\b\b\b\b\b\b\b\b\b\b\b\b\b\b\b\b\b\b\b\b\b\b\b\b\b\b\b\b\b\b\b\b\b\b\b\b\b\b\b\b\b\b\b\b\b\b\b\b\b\b\b\b\b\b\b\r22/22 [==============================] - 15s 667ms/step - loss: 0.5066 - accuracy: 0.7719\n",
            "Epoch 5/10\n",
            "22/22 [==============================] - ETA: 0s - loss: 0.5001 - accuracy: 0.7633"
          ]
        },
        {
          "output_type": "stream",
          "name": "stderr",
          "text": [
            "WARNING:tensorflow:Early stopping conditioned on metric `val_accuracy` which is not available. Available metrics are: loss,accuracy\n",
            "WARNING:tensorflow:Can save best model only with val_accuracy available, skipping.\n"
          ]
        },
        {
          "output_type": "stream",
          "name": "stdout",
          "text": [
            "\b\b\b\b\b\b\b\b\b\b\b\b\b\b\b\b\b\b\b\b\b\b\b\b\b\b\b\b\b\b\b\b\b\b\b\b\b\b\b\b\b\b\b\b\b\b\b\b\b\b\b\b\b\b\b\b\b\b\b\b\b\b\b\b\b\b\b\b\b\b\b\b\b\b\b\b\b\b\b\b\b\b\r22/22 [==============================] - 12s 532ms/step - loss: 0.5001 - accuracy: 0.7633\n",
            "Epoch 6/10\n",
            "22/22 [==============================] - ETA: 0s - loss: 0.4973 - accuracy: 0.7604"
          ]
        },
        {
          "output_type": "stream",
          "name": "stderr",
          "text": [
            "WARNING:tensorflow:Early stopping conditioned on metric `val_accuracy` which is not available. Available metrics are: loss,accuracy\n",
            "WARNING:tensorflow:Can save best model only with val_accuracy available, skipping.\n"
          ]
        },
        {
          "output_type": "stream",
          "name": "stdout",
          "text": [
            "\b\b\b\b\b\b\b\b\b\b\b\b\b\b\b\b\b\b\b\b\b\b\b\b\b\b\b\b\b\b\b\b\b\b\b\b\b\b\b\b\b\b\b\b\b\b\b\b\b\b\b\b\b\b\b\b\b\b\b\b\b\b\b\b\b\b\b\b\b\b\b\b\b\b\b\b\b\b\b\b\b\b\r22/22 [==============================] - 12s 533ms/step - loss: 0.4973 - accuracy: 0.7604\n",
            "Epoch 7/10\n",
            "22/22 [==============================] - ETA: 0s - loss: 0.4143 - accuracy: 0.8006"
          ]
        },
        {
          "output_type": "stream",
          "name": "stderr",
          "text": [
            "WARNING:tensorflow:Early stopping conditioned on metric `val_accuracy` which is not available. Available metrics are: loss,accuracy\n",
            "WARNING:tensorflow:Can save best model only with val_accuracy available, skipping.\n"
          ]
        },
        {
          "output_type": "stream",
          "name": "stdout",
          "text": [
            "\b\b\b\b\b\b\b\b\b\b\b\b\b\b\b\b\b\b\b\b\b\b\b\b\b\b\b\b\b\b\b\b\b\b\b\b\b\b\b\b\b\b\b\b\b\b\b\b\b\b\b\b\b\b\b\b\b\b\b\b\b\b\b\b\b\b\b\b\b\b\b\b\b\b\b\b\b\b\b\b\b\b\r22/22 [==============================] - 12s 546ms/step - loss: 0.4143 - accuracy: 0.8006\n",
            "Epoch 8/10\n",
            "22/22 [==============================] - ETA: 0s - loss: 0.4304 - accuracy: 0.7762"
          ]
        },
        {
          "output_type": "stream",
          "name": "stderr",
          "text": [
            "WARNING:tensorflow:Early stopping conditioned on metric `val_accuracy` which is not available. Available metrics are: loss,accuracy\n",
            "WARNING:tensorflow:Can save best model only with val_accuracy available, skipping.\n"
          ]
        },
        {
          "output_type": "stream",
          "name": "stdout",
          "text": [
            "\b\b\b\b\b\b\b\b\b\b\b\b\b\b\b\b\b\b\b\b\b\b\b\b\b\b\b\b\b\b\b\b\b\b\b\b\b\b\b\b\b\b\b\b\b\b\b\b\b\b\b\b\b\b\b\b\b\b\b\b\b\b\b\b\b\b\b\b\b\b\b\b\b\b\b\b\b\b\b\b\b\b\r22/22 [==============================] - 11s 495ms/step - loss: 0.4304 - accuracy: 0.7762\n",
            "Epoch 9/10\n",
            "22/22 [==============================] - ETA: 0s - loss: 0.3861 - accuracy: 0.8149"
          ]
        },
        {
          "output_type": "stream",
          "name": "stderr",
          "text": [
            "WARNING:tensorflow:Early stopping conditioned on metric `val_accuracy` which is not available. Available metrics are: loss,accuracy\n",
            "WARNING:tensorflow:Can save best model only with val_accuracy available, skipping.\n"
          ]
        },
        {
          "output_type": "stream",
          "name": "stdout",
          "text": [
            "\b\b\b\b\b\b\b\b\b\b\b\b\b\b\b\b\b\b\b\b\b\b\b\b\b\b\b\b\b\b\b\b\b\b\b\b\b\b\b\b\b\b\b\b\b\b\b\b\b\b\b\b\b\b\b\b\b\b\b\b\b\b\b\b\b\b\b\b\b\b\b\b\b\b\b\b\b\b\b\b\b\b\r22/22 [==============================] - 12s 537ms/step - loss: 0.3861 - accuracy: 0.8149\n",
            "Epoch 10/10\n",
            "22/22 [==============================] - ETA: 0s - loss: 0.3523 - accuracy: 0.8393"
          ]
        },
        {
          "output_type": "stream",
          "name": "stderr",
          "text": [
            "WARNING:tensorflow:Early stopping conditioned on metric `val_accuracy` which is not available. Available metrics are: loss,accuracy\n",
            "WARNING:tensorflow:Can save best model only with val_accuracy available, skipping.\n"
          ]
        },
        {
          "output_type": "stream",
          "name": "stdout",
          "text": [
            "\b\b\b\b\b\b\b\b\b\b\b\b\b\b\b\b\b\b\b\b\b\b\b\b\b\b\b\b\b\b\b\b\b\b\b\b\b\b\b\b\b\b\b\b\b\b\b\b\b\b\b\b\b\b\b\b\b\b\b\b\b\b\b\b\b\b\b\b\b\b\b\b\b\b\b\b\b\b\b\b\b\b\r22/22 [==============================] - 12s 531ms/step - loss: 0.3523 - accuracy: 0.8393\n",
            "time: 2min 38s (started: 2023-03-02 19:35:12 +00:00)\n"
          ]
        }
      ],
      "source": [
        "hs=model.fit_generator(generator=train_data,\n",
        "                    steps_per_epoch = len(train_data),\n",
        "                       epochs=10,\n",
        "                       verbose=1,# what ever the execution is i wanna be shewn it\n",
        "                       validation_data=(val_data),\n",
        "                       validation_steps=16,\n",
        "                       callbacks=cd,\n",
        "                       )"
      ]
    },
    {
      "cell_type": "markdown",
      "metadata": {
        "id": "Bijwty_A1VQZ"
      },
      "source": [
        "**model graphical interpretation**"
      ]
    },
    {
      "cell_type": "code",
      "execution_count": 25,
      "metadata": {
        "id": "dJYAEhSN0zjt",
        "colab": {
          "base_uri": "https://localhost:8080/"
        },
        "outputId": "a7ecbafe-12d8-43fc-cc32-62179f79a7f0"
      },
      "outputs": [
        {
          "output_type": "execute_result",
          "data": {
            "text/plain": [
              "dict_keys(['loss', 'accuracy', 'val_loss', 'val_accuracy'])"
            ]
          },
          "metadata": {},
          "execution_count": 25
        },
        {
          "output_type": "stream",
          "name": "stdout",
          "text": [
            "time: 4.75 ms (started: 2023-03-02 19:37:50 +00:00)\n"
          ]
        }
      ],
      "source": [
        "h=hs.history\n",
        "h.keys()\n"
      ]
    },
    {
      "cell_type": "markdown",
      "source": [
        "**Accurecy**"
      ],
      "metadata": {
        "id": "o8nkNh3Xis8D"
      }
    },
    {
      "cell_type": "code",
      "execution_count": 26,
      "metadata": {
        "id": "TIDF6Oko6fTr",
        "colab": {
          "base_uri": "https://localhost:8080/",
          "height": 299
        },
        "outputId": "35ffd2e0-a559-4802-d038-c6aebd425a58"
      },
      "outputs": [
        {
          "output_type": "display_data",
          "data": {
            "text/plain": [
              "<Figure size 432x288 with 1 Axes>"
            ],
            "image/png": "[encoded data removed]"
          },
          "metadata": {
            "needs_background": "light"
          }
        },
        {
          "output_type": "stream",
          "name": "stdout",
          "text": [
            "time: 185 ms (started: 2023-03-02 19:37:50 +00:00)\n"
          ]
        }
      ],
      "source": [
        "import matplotlib.pyplot as plt\n",
        "plt.plot(h['accuracy'])\n",
        "\n",
        "plt.title(\"accuracy\")\n",
        "plt.show()"
      ]
    },
    {
      "cell_type": "markdown",
      "source": [
        "**loss function**"
      ],
      "metadata": {
        "id": "061ODTNSizn7"
      }
    },
    {
      "cell_type": "code",
      "execution_count": 27,
      "metadata": {
        "id": "Na3ZKFpG7HWh",
        "colab": {
          "base_uri": "https://localhost:8080/",
          "height": 299
        },
        "outputId": "dc095cf3-2c79-4c87-f8af-dbff344c0cdc"
      },
      "outputs": [
        {
          "output_type": "display_data",
          "data": {
            "text/plain": [
              "<Figure size 432x288 with 1 Axes>"
            ],
            "image/png": "[encoded data removed]"
          },
          "metadata": {
            "needs_background": "light"
          }
        },
        {
          "output_type": "stream",
          "name": "stdout",
          "text": [
            "time: 170 ms (started: 2023-03-02 19:37:51 +00:00)\n"
          ]
        }
      ],
      "source": [
        "import matplotlib.pyplot as plt\n",
        "plt.plot(h['loss'])\n",
        "\n",
        "plt.title(\"loss\")\n",
        "plt.show()"
      ]
    },
    {
      "cell_type": "markdown",
      "metadata": {
        "id": "g-aXT49B7mVQ"
      },
      "source": [
        "**model Accurecy**\n"
      ]
    },
    {
      "cell_type": "code",
      "execution_count": 28,
      "metadata": {
        "id": "UVhqEE3v7bTh",
        "colab": {
          "base_uri": "https://localhost:8080/"
        },
        "outputId": "dbbe3b5d-9081-4274-b9c8-929c3943c17c"
      },
      "outputs": [
        {
          "output_type": "stream",
          "name": "stdout",
          "text": [
            "time: 384 ms (started: 2023-03-02 19:37:51 +00:00)\n"
          ]
        }
      ],
      "source": [
        "from keras.models import load_model\n",
        "model=load_model(\"/content/bestmodel.h5\")"
      ]
    },
    {
      "cell_type": "code",
      "execution_count": 29,
      "metadata": {
        "id": "ud87Db-Y-6nA",
        "colab": {
          "base_uri": "https://localhost:8080/"
        },
        "outputId": "76d192a4-2fa3-46b1-bf8b-0c7dbc6ddd97"
      },
      "outputs": [
        {
          "output_type": "stream",
          "name": "stdout",
          "text": [
            "the accurecy of our model is 58.571428060531616%\n",
            "time: 878 ms (started: 2023-03-02 19:37:51 +00:00)\n"
          ]
        }
      ],
      "source": [
        "acc=model.evaluate_generator(test_data)[1]\n",
        "print(f\"the accurecy of our model is {acc*100}%\")"
      ]
    },
    {
      "cell_type": "code",
      "execution_count": 30,
      "metadata": {
        "id": "279dj_jPLmNh",
        "colab": {
          "base_uri": "https://localhost:8080/"
        },
        "outputId": "7ff1d68b-17f8-42ac-aa38-fa4ade9e06c1"
      },
      "outputs": [
        {
          "output_type": "stream",
          "name": "stdout",
          "text": [
            "time: 4.2 ms (started: 2023-03-02 19:37:52 +00:00)\n"
          ]
        }
      ],
      "source": [
        "from keras.utils.image_dataset import load_image\n",
        "from tensorflow.keras.preprocessing.image import ImageDataGenerator\n",
        "from tensorflow.keras.preprocessing.image import load_img,img_to_array"
      ]
    },
    {
      "cell_type": "markdown",
      "source": [
        "**state our target class**"
      ],
      "metadata": {
        "id": "QipoHVqui_vy"
      }
    },
    {
      "cell_type": "code",
      "execution_count": 31,
      "metadata": {
        "id": "LGK6B1N4tcIu",
        "colab": {
          "base_uri": "https://localhost:8080/"
        },
        "outputId": "1aa2cbe1-1404-4c4c-b1d3-16a41ee8a721"
      },
      "outputs": [
        {
          "output_type": "execute_result",
          "data": {
            "text/plain": [
              "{'no': 0, 'yes': 1}"
            ]
          },
          "metadata": {},
          "execution_count": 31
        },
        {
          "output_type": "stream",
          "name": "stdout",
          "text": [
            "time: 5.02 ms (started: 2023-03-02 19:37:52 +00:00)\n"
          ]
        }
      ],
      "source": [
        "train_data.class_indices"
      ]
    },
    {
      "cell_type": "markdown",
      "source": [
        "**test our model by using testing set**"
      ],
      "metadata": {
        "id": "N8Dg6BfejE1y"
      }
    },
    {
      "cell_type": "code",
      "execution_count": 33,
      "metadata": {
        "id": "lLqZnFKyL_bC",
        "colab": {
          "base_uri": "https://localhost:8080/",
          "height": 324
        },
        "outputId": "a158043d-9085-41f7-966d-ffeeee178b81"
      },
      "outputs": [
        {
          "output_type": "display_data",
          "data": {
            "text/plain": [
              "<Figure size 432x288 with 1 Axes>"
            ],
            "image/png": "[encoded data removed]"
          },
          "metadata": {
            "needs_background": "light"
          }
        },
        {
          "output_type": "stream",
          "name": "stdout",
          "text": [
            "1/1 [==============================] - 0s 286ms/step\n",
            "the MRI is not having a tumor\n",
            "time: 536 ms (started: 2023-03-02 19:40:36 +00:00)\n"
          ]
        }
      ],
      "source": [
        "path=\"/content/test/no/14 no.jpg\"\n",
        "img=load_img(path,target_size=(244,244))\n",
        "input_arr=img_to_array(img)/255\n",
        "plt.imshow(input_arr)\n",
        "plt.show()\n",
        "input_arr.shape\n",
        "input_arr=np.expand_dims(input_arr,axis=0)\n",
        "y_pred = model.predict(input_arr)\n",
        "y_pred = np.round(y_pred).astype(int)[0][0]\n",
        "y_pred\n",
        "\n",
        "if y_pred==0:\n",
        "  print(\"the MRI is not having a tumor\")\n",
        "else:\n",
        "  print(\"the MRI is  having a tumor\")"
      ]
    },
    {
      "cell_type": "markdown",
      "source": [
        "**save the model using pickle library**"
      ],
      "metadata": {
        "id": "Y9fsYETTjPYD"
      }
    },
    {
      "cell_type": "code",
      "execution_count": 34,
      "metadata": {
        "id": "I4Ew79A3Q92h",
        "colab": {
          "base_uri": "https://localhost:8080/"
        },
        "outputId": "e84d381c-b5dd-4819-efab-85cd5919b6ca"
      },
      "outputs": [
        {
          "output_type": "stream",
          "name": "stdout",
          "text": [
            "Keras weights file (<HDF5 file \"variables.h5\" (mode r+)>) saving:\n",
            "...layers\n",
            "......conv2d\n",
            ".........vars\n",
            "............0\n",
            "............1\n",
            "......conv2d_1\n",
            ".........vars\n",
            "............0\n",
            "............1\n",
            "......conv2d_2\n",
            ".........vars\n",
            "............0\n",
            "............1\n",
            "......conv2d_3\n",
            ".........vars\n",
            "............0\n",
            "............1\n",
            "......dense\n",
            ".........vars\n",
            "............0\n",
            "............1\n",
            "......dense_1\n",
            ".........vars\n",
            "............0\n",
            "............1\n",
            "......dropout\n",
            ".........vars\n",
            "......flatten\n",
            ".........vars\n",
            "......max_pooling2d\n",
            ".........vars\n",
            "......max_pooling2d_1\n",
            ".........vars\n",
            "......max_pooling2d_2\n",
            ".........vars\n",
            "...metrics\n",
            "......mean\n",
            ".........vars\n",
            "............0\n",
            "............1\n",
            "......mean_metric_wrapper\n",
            ".........vars\n",
            "............0\n",
            "............1\n",
            "...optimizer\n",
            "......vars\n",
            ".........0\n",
            ".........1\n",
            ".........10\n",
            ".........11\n",
            ".........12\n",
            ".........13\n",
            ".........14\n",
            ".........15\n",
            ".........16\n",
            ".........17\n",
            ".........18\n",
            ".........19\n",
            ".........2\n",
            ".........20\n",
            ".........21\n",
            ".........22\n",
            ".........23\n",
            ".........24\n",
            ".........3\n",
            ".........4\n",
            ".........5\n",
            ".........6\n",
            ".........7\n",
            ".........8\n",
            ".........9\n",
            "...vars\n",
            "Keras model archive saving:\n",
            "File Name                                             Modified             Size\n",
            "metadata.json                                  2023-03-02 19:43:11           64\n",
            "config.json                                    2023-03-02 19:43:11         4652\n",
            "variables.h5                                   2023-03-02 19:43:11     78287456\n",
            "time: 637 ms (started: 2023-03-02 19:43:11 +00:00)\n"
          ]
        }
      ],
      "source": [
        "\n",
        "import pickle\n",
        "pickle.dump(hs,open('bestmodel.h%','wb'))"
      ]
    },
    {
      "cell_type": "markdown",
      "source": [
        " Model Deployment"
      ],
      "metadata": {
        "id": "l7oCJruojUBy"
      }
    },
    {
      "cell_type": "code",
      "execution_count": null,
      "metadata": {
        "id": "GeqF3FGzxqI1"
      },
      "outputs": [],
      "source": [
        "!pip install streamlit"
      ]
    },
    {
      "cell_type": "code",
      "execution_count": null,
      "metadata": {
        "id": "byKR4YqpzCWh"
      },
      "outputs": [],
      "source": [
        "!pip install pyngrok"
      ]
    },
    {
      "cell_type": "code",
      "execution_count": null,
      "metadata": {
        "id": "QT0X-lQfzG7w"
      },
      "outputs": [],
      "source": [
        "from pyngrok import ngrok"
      ]
    },
    {
      "cell_type": "code",
      "execution_count": null,
      "metadata": {
        "id": "VQbYUd3PAZG2"
      },
      "outputs": [],
      "source": [
        "!ngrok authtoken 2MPjHQ9CT3v75UGbad8xBCkIreH_4PeJE52KKNbTcwAcYn7dR"
      ]
    },
    {
      "cell_type": "code",
      "execution_count": null,
      "metadata": {
        "id": "0RuANbxAAjx2"
      },
      "outputs": [],
      "source": [
        "!streamlit run --server.port 80 app.py >/dev/null"
      ]
    },
    {
      "cell_type": "code",
      "execution_count": null,
      "metadata": {
        "id": "ovpd_XztzN2k"
      },
      "outputs": [],
      "source": [
        "%%writefile app.py\n",
        "import streamlit as st\n",
        "st.title('image classifier')"
      ]
    },
    {
      "cell_type": "code",
      "execution_count": null,
      "metadata": {
        "id": "5g4M4CIczRxk"
      },
      "outputs": [],
      "source": [
        "!nohup streamlit run app.py &\n",
        "url=ngrok.connect(port=\"8080\")\n",
        "url"
      ]
    },
    {
      "cell_type": "code",
      "execution_count": null,
      "metadata": {
        "id": "Qkz3KhWqEF30"
      },
      "outputs": [],
      "source": []
    }
  ],
  "metadata": {
    "colab": {
      "provenance": [],
      "mount_file_id": "1XcVDiyvRWv1WnDep1t69FCrPf5O1DB_d",
      "authorship_tag": "ABX9TyNK5o7lN0eKexbCk4SPkgTF",
      "include_colab_link": true
    },
    "gpuClass": "standard",
    "kernelspec": {
      "display_name": "Python 3",
      "name": "python3"
    },
    "language_info": {
      "name": "python"
    },
    "accelerator": "GPU"
  },
  "nbformat": 4,
  "nbformat_minor": 0
}