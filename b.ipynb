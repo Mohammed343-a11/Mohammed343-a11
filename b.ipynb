{
  "cells": [
    {
      "cell_type": "markdown",
      "metadata": {
        "id": "view-in-github",
        "colab_type": "text"
      },
      "source": [
        "<a href=\"https://colab.research.google.com/github/Mohammed343-a11/Mohammed343-a11/blob/main/b.ipynb\" target=\"_parent\"><img src=\"https://colab.research.google.com/assets/colab-badge.svg\" alt=\"Open In Colab\"/></a>"
      ]
    },
    {
      "cell_type": "markdown",
      "metadata": {
        "id": "PSNDaTjnREBn"
      },
      "source": [
        "**install a library for telling execution time**"
      ]
    },
    {
      "cell_type": "code",
      "source": [
        "from google.colab import drive  # go to my drive in order to get my dataset \n",
        "drive.mount('/content/drive')"
      ],
      "metadata": {
        "colab": {
          "base_uri": "https://localhost:8080/"
        },
        "id": "HWuBm7s1jHbw",
        "outputId": "d45b9adf-f676-4f1a-f546-009fb0d76c72"
      },
      "execution_count": 14,
      "outputs": [
        {
          "output_type": "stream",
          "name": "stdout",
          "text": [
            "Drive already mounted at /content/drive; to attempt to forcibly remount, call drive.mount(\"/content/drive\", force_remount=True).\n",
            "time: 2.72 s (started: 2023-03-13 04:46:13 +00:00)\n"
          ]
        }
      ]
    },
    {
      "cell_type": "code",
      "source": [],
      "metadata": {
        "id": "CvQm1efYOknO",
        "colab": {
          "base_uri": "https://localhost:8080/"
        },
        "outputId": "9e921877-c907-43bd-c02f-b94f3e21805f"
      },
      "execution_count": 14,
      "outputs": [
        {
          "output_type": "stream",
          "name": "stdout",
          "text": [
            "time: 2.73 s (started: 2023-03-13 04:46:13 +00:00)\n"
          ]
        }
      ]
    },
    {
      "cell_type": "code",
      "execution_count": 15,
      "metadata": {
        "id": "adbyJLIjQz1g",
        "colab": {
          "base_uri": "https://localhost:8080/"
        },
        "outputId": "7cbff1cc-6ede-46a3-9034-3d7608f417da"
      },
      "outputs": [
        {
          "output_type": "stream",
          "name": "stdout",
          "text": [
            "Looking in indexes: https://pypi.org/simple, https://us-python.pkg.dev/colab-wheels/public/simple/\n",
            "Requirement already satisfied: ipython-autotime in /usr/local/lib/python3.9/dist-packages (0.3.1)\n",
            "Requirement already satisfied: ipython in /usr/local/lib/python3.9/dist-packages (from ipython-autotime) (7.9.0)\n",
            "Requirement already satisfied: pexpect in /usr/local/lib/python3.9/dist-packages (from ipython->ipython-autotime) (4.8.0)\n",
            "Requirement already satisfied: setuptools>=18.5 in /usr/local/lib/python3.9/dist-packages (from ipython->ipython-autotime) (57.4.0)\n",
            "Requirement already satisfied: prompt-toolkit<2.1.0,>=2.0.0 in /usr/local/lib/python3.9/dist-packages (from ipython->ipython-autotime) (2.0.10)\n",
            "Requirement already satisfied: pickleshare in /usr/local/lib/python3.9/dist-packages (from ipython->ipython-autotime) (0.7.5)\n",
            "Requirement already satisfied: jedi>=0.10 in /usr/local/lib/python3.9/dist-packages (from ipython->ipython-autotime) (0.18.2)\n",
            "Requirement already satisfied: pygments in /usr/local/lib/python3.9/dist-packages (from ipython->ipython-autotime) (2.6.1)\n",
            "Requirement already satisfied: decorator in /usr/local/lib/python3.9/dist-packages (from ipython->ipython-autotime) (4.4.2)\n",
            "Requirement already satisfied: backcall in /usr/local/lib/python3.9/dist-packages (from ipython->ipython-autotime) (0.2.0)\n",
            "Requirement already satisfied: traitlets>=4.2 in /usr/local/lib/python3.9/dist-packages (from ipython->ipython-autotime) (5.7.1)\n",
            "Requirement already satisfied: parso<0.9.0,>=0.8.0 in /usr/local/lib/python3.9/dist-packages (from jedi>=0.10->ipython->ipython-autotime) (0.8.3)\n",
            "Requirement already satisfied: six>=1.9.0 in /usr/local/lib/python3.9/dist-packages (from prompt-toolkit<2.1.0,>=2.0.0->ipython->ipython-autotime) (1.15.0)\n",
            "Requirement already satisfied: wcwidth in /usr/local/lib/python3.9/dist-packages (from prompt-toolkit<2.1.0,>=2.0.0->ipython->ipython-autotime) (0.2.6)\n",
            "Requirement already satisfied: ptyprocess>=0.5 in /usr/local/lib/python3.9/dist-packages (from pexpect->ipython->ipython-autotime) (0.7.0)\n",
            "The autotime extension is already loaded. To reload it, use:\n",
            "  %reload_ext autotime\n",
            "time: 3.13 s (started: 2023-03-13 04:46:16 +00:00)\n"
          ]
        }
      ],
      "source": [
        "!pip install ipython-autotime # to see execution time for asingle cell\n",
        "%load_ext autotime"
      ]
    },
    {
      "cell_type": "markdown",
      "metadata": {
        "id": "0kgzhvnbRMiH"
      },
      "source": [
        "**import a warning statment**"
      ]
    },
    {
      "cell_type": "code",
      "execution_count": 16,
      "metadata": {
        "colab": {
          "base_uri": "https://localhost:8080/"
        },
        "id": "Wd5svMApPX0b",
        "outputId": "2ef0f1d0-c91e-466b-bae4-04a7b3ae931c"
      },
      "outputs": [
        {
          "output_type": "stream",
          "name": "stdout",
          "text": [
            "time: 518 µs (started: 2023-03-13 04:46:19 +00:00)\n"
          ]
        }
      ],
      "source": [
        "import warnings       # to get warning wen error come to us\n",
        "warnings.filterwarnings(\"ignore\")"
      ]
    },
    {
      "cell_type": "code",
      "execution_count": 17,
      "metadata": {
        "colab": {
          "base_uri": "https://localhost:8080/"
        },
        "id": "mBV_C0wxQUub",
        "outputId": "14df0d64-4bdb-4a50-e18e-def7da7f20f0"
      },
      "outputs": [
        {
          "output_type": "stream",
          "name": "stdout",
          "text": [
            "time: 746 µs (started: 2023-03-13 04:46:19 +00:00)\n"
          ]
        }
      ],
      "source": [
        "import numpy as np       #a libraru usedto do soe matmatical opperation\n",
        "import matplotlib.pyplot as plt  #used to draw different graph toexpressourdata or result\n",
        "import os     #to access internal operating system\n",
        "import math\n",
        "import shutil"
      ]
    },
    {
      "cell_type": "markdown",
      "metadata": {
        "id": "OvNWXoKGSHrf"
      },
      "source": [
        "**read my dataset**\n"
      ]
    },
    {
      "cell_type": "code",
      "execution_count": 18,
      "metadata": {
        "colab": {
          "base_uri": "https://localhost:8080/"
        },
        "id": "_rRND3ATSERK",
        "outputId": "010d3084-f3a6-4fc3-fefc-f7b4a7f0a082"
      },
      "outputs": [
        {
          "output_type": "stream",
          "name": "stdout",
          "text": [
            "time: 5.13 ms (started: 2023-03-13 04:46:19 +00:00)\n"
          ]
        }
      ],
      "source": [
        "ROOT_DIR=\"/content/drive/MyDrive/brain tumerre\"  #directory of my dataset\n",
        "number_of_images={}\n",
        "for dir in os.listdir(ROOT_DIR):\n",
        "  number_of_images[dir]=os.listdir(os.path.join(ROOT_DIR,dir))   \n"
      ]
    },
    {
      "cell_type": "markdown",
      "metadata": {
        "id": "o-2_Ah34Yb-5"
      },
      "source": [
        "list the directory of our dataset"
      ]
    },
    {
      "cell_type": "code",
      "execution_count": 19,
      "metadata": {
        "id": "kYWWZ7FvYTDI",
        "colab": {
          "base_uri": "https://localhost:8080/"
        },
        "outputId": "4657e49e-8fdd-462b-cc6d-5247748cd255"
      },
      "outputs": [
        {
          "output_type": "execute_result",
          "data": {
            "text/plain": [
              "['no', 'yes', '.ipynb_checkpoints']"
            ]
          },
          "metadata": {},
          "execution_count": 19
        },
        {
          "output_type": "stream",
          "name": "stdout",
          "text": [
            "time: 5.52 ms (started: 2023-03-13 04:46:19 +00:00)\n"
          ]
        }
      ],
      "source": [
        "os.listdir(\"/content/drive/MyDrive/brain tumerre\")  #list of folder orclass in our directory"
      ]
    },
    {
      "cell_type": "markdown",
      "metadata": {
        "id": "V19rdPhEXfc4"
      },
      "source": [
        "**see all the number of image**"
      ]
    },
    {
      "cell_type": "code",
      "execution_count": 20,
      "metadata": {
        "id": "kTHMEdgnXWhI",
        "colab": {
          "base_uri": "https://localhost:8080/"
        },
        "outputId": "15131b30-6e94-4a3e-da39-9550ce91189d"
      },
      "outputs": [
        {
          "output_type": "execute_result",
          "data": {
            "text/plain": [
              "dict_items([('no', ['34 no.jpg', 'no 5.jpeg', 'image(99).jpg', 'image(224).jpg', 'image (58).jpg', 'image(207).jpg', 'image(181).jpg', 'image (38).jpg', 'image(316).jpg', 'image(319).jpg', 'image(296).jpg', 'image(74).jpg', 'image(78).jpg', 'image(274).jpg', 'image (42).jpg', 'image (19).jpg']), ('yes', ['Y186.jpg', 'Y39.jpg', 'p (121).jpg', 'p (11).jpg', 'p (285).jpg', 'p (151).jpg', 'p (317).jpg', 'p (197).jpg', 'p (195).jpg', 'p (111).jpg', 'p (31).jpg', 'p (258).jpg', 'p (28).jpg', 'p (215).jpg', 'p (39).jpg', 'p (169).jpg', 'p (34).jpg']), ('.ipynb_checkpoints', [])])"
            ]
          },
          "metadata": {},
          "execution_count": 20
        },
        {
          "output_type": "stream",
          "name": "stdout",
          "text": [
            "time: 2.93 ms (started: 2023-03-13 04:46:19 +00:00)\n"
          ]
        }
      ],
      "source": [
        "number_of_images.items()   #number of singleimage item"
      ]
    },
    {
      "cell_type": "code",
      "execution_count": 21,
      "metadata": {
        "id": "Irl4KzL6Xa8B",
        "colab": {
          "base_uri": "https://localhost:8080/"
        },
        "outputId": "8aac2de1-a35d-4a3d-b0c5-dc059f01f396"
      },
      "outputs": [
        {
          "output_type": "stream",
          "name": "stdout",
          "text": [
            "time: 3.33 ms (started: 2023-03-13 04:46:19 +00:00)\n"
          ]
        }
      ],
      "source": [
        "number_of_images={}\n",
        "for dir in os.listdir(ROOT_DIR):\n",
        "  number_of_images[dir]=len(os.listdir(os.path.join(ROOT_DIR,dir)))"
      ]
    },
    {
      "cell_type": "markdown",
      "metadata": {
        "id": "iB_Om7pyX8RQ"
      },
      "source": [
        "**see length of tumered and non tumered brain**"
      ]
    },
    {
      "cell_type": "code",
      "execution_count": 22,
      "metadata": {
        "id": "FPDvDwgCXuJ_",
        "colab": {
          "base_uri": "https://localhost:8080/"
        },
        "outputId": "740dba45-07d6-4958-df98-11ee86105014"
      },
      "outputs": [
        {
          "output_type": "execute_result",
          "data": {
            "text/plain": [
              "dict_items([('no', 16), ('yes', 17), ('.ipynb_checkpoints', 0)])"
            ]
          },
          "metadata": {},
          "execution_count": 22
        },
        {
          "output_type": "stream",
          "name": "stdout",
          "text": [
            "time: 2.81 ms (started: 2023-03-13 04:46:19 +00:00)\n"
          ]
        }
      ],
      "source": [
        "number_of_images.items()"
      ]
    },
    {
      "cell_type": "markdown",
      "metadata": {
        "id": "QLlR6cc9dzzQ"
      },
      "source": [
        "**create traning folder**"
      ]
    },
    {
      "cell_type": "code",
      "execution_count": 23,
      "metadata": {
        "id": "xEunQLlqZEwQ",
        "colab": {
          "base_uri": "https://localhost:8080/",
          "height": 339
        },
        "outputId": "d67a681e-f43d-46d5-f348-60b3cc68d049"
      },
      "outputs": [
        {
          "output_type": "stream",
          "name": "stdout",
          "text": [
            "the folder exist\n",
            "the folder exist\n"
          ]
        },
        {
          "output_type": "error",
          "ename": "ValueError",
          "evalue": "ignored",
          "traceback": [
            "\u001b[0;31m---------------------------------------------------------------------------\u001b[0m",
            "\u001b[0;31mValueError\u001b[0m                                Traceback (most recent call last)",
            "\u001b[0;32m<ipython-input-23-6d2be42ef866>\u001b[0m in \u001b[0;36m<module>\u001b[0;34m\u001b[0m\n\u001b[1;32m      4\u001b[0m   \u001b[0;32mfor\u001b[0m \u001b[0mdir\u001b[0m \u001b[0;32min\u001b[0m \u001b[0mos\u001b[0m\u001b[0;34m.\u001b[0m\u001b[0mlistdir\u001b[0m\u001b[0;34m(\u001b[0m\u001b[0mROOT_DIR\u001b[0m\u001b[0;34m)\u001b[0m\u001b[0;34m:\u001b[0m\u001b[0;34m\u001b[0m\u001b[0;34m\u001b[0m\u001b[0m\n\u001b[1;32m      5\u001b[0m     \u001b[0mos\u001b[0m\u001b[0;34m.\u001b[0m\u001b[0mmakedirs\u001b[0m\u001b[0;34m(\u001b[0m\u001b[0;34m\"./train/\"\u001b[0m\u001b[0;34m+\u001b[0m\u001b[0mdir\u001b[0m\u001b[0;34m)\u001b[0m\u001b[0;34m\u001b[0m\u001b[0;34m\u001b[0m\u001b[0m\n\u001b[0;32m----> 6\u001b[0;31m     \u001b[0;32mfor\u001b[0m \u001b[0mimg\u001b[0m \u001b[0;32min\u001b[0m \u001b[0mnp\u001b[0m\u001b[0;34m.\u001b[0m\u001b[0mrandom\u001b[0m\u001b[0;34m.\u001b[0m\u001b[0mchoice\u001b[0m\u001b[0;34m(\u001b[0m\u001b[0ma\u001b[0m\u001b[0;34m=\u001b[0m\u001b[0mos\u001b[0m\u001b[0;34m.\u001b[0m\u001b[0mlistdir\u001b[0m\u001b[0;34m(\u001b[0m\u001b[0mos\u001b[0m\u001b[0;34m.\u001b[0m\u001b[0mpath\u001b[0m\u001b[0;34m.\u001b[0m\u001b[0mjoin\u001b[0m\u001b[0;34m(\u001b[0m\u001b[0mROOT_DIR\u001b[0m\u001b[0;34m,\u001b[0m\u001b[0mdir\u001b[0m\u001b[0;34m)\u001b[0m\u001b[0;34m)\u001b[0m\u001b[0;34m,\u001b[0m\u001b[0msize\u001b[0m\u001b[0;34m=\u001b[0m\u001b[0;34m(\u001b[0m\u001b[0mmath\u001b[0m\u001b[0;34m.\u001b[0m\u001b[0mfloor\u001b[0m\u001b[0;34m(\u001b[0m\u001b[0;36m80\u001b[0m\u001b[0;34m/\u001b[0m\u001b[0;36m100\u001b[0m\u001b[0;34m*\u001b[0m\u001b[0mnumber_of_images\u001b[0m\u001b[0;34m[\u001b[0m\u001b[0mdir\u001b[0m\u001b[0;34m]\u001b[0m\u001b[0;34m)\u001b[0m\u001b[0;34m-\u001b[0m\u001b[0;36m5\u001b[0m\u001b[0;34m)\u001b[0m\u001b[0;34m,\u001b[0m\u001b[0mreplace\u001b[0m\u001b[0;34m=\u001b[0m\u001b[0;32mFalse\u001b[0m\u001b[0;34m)\u001b[0m\u001b[0;34m:\u001b[0m\u001b[0;34m\u001b[0m\u001b[0;34m\u001b[0m\u001b[0m\n\u001b[0m\u001b[1;32m      7\u001b[0m       \u001b[0mO\u001b[0m\u001b[0;34m=\u001b[0m\u001b[0mos\u001b[0m\u001b[0;34m.\u001b[0m\u001b[0mpath\u001b[0m\u001b[0;34m.\u001b[0m\u001b[0mjoin\u001b[0m\u001b[0;34m(\u001b[0m\u001b[0mROOT_DIR\u001b[0m\u001b[0;34m,\u001b[0m\u001b[0mdir\u001b[0m\u001b[0;34m,\u001b[0m\u001b[0mimg\u001b[0m\u001b[0;34m)\u001b[0m\u001b[0;31m#path\u001b[0m\u001b[0;34m\u001b[0m\u001b[0;34m\u001b[0m\u001b[0m\n\u001b[1;32m      8\u001b[0m       \u001b[0mD\u001b[0m\u001b[0;34m=\u001b[0m\u001b[0mos\u001b[0m\u001b[0;34m.\u001b[0m\u001b[0mpath\u001b[0m\u001b[0;34m.\u001b[0m\u001b[0mjoin\u001b[0m\u001b[0;34m(\u001b[0m\u001b[0;34m\"./train\"\u001b[0m\u001b[0;34m,\u001b[0m\u001b[0mdir\u001b[0m\u001b[0;34m)\u001b[0m\u001b[0;34m\u001b[0m\u001b[0;34m\u001b[0m\u001b[0m\n",
            "\u001b[0;32mmtrand.pyx\u001b[0m in \u001b[0;36mnumpy.random.mtrand.RandomState.choice\u001b[0;34m()\u001b[0m\n",
            "\u001b[0;31mValueError\u001b[0m: 'a' cannot be empty unless no samples are taken"
          ]
        },
        {
          "output_type": "stream",
          "name": "stdout",
          "text": [
            "time: 6.94 s (started: 2023-03-13 04:46:19 +00:00)\n"
          ]
        }
      ],
      "source": [
        "if not os.path.exists(\"./train\"):\n",
        "  os.mkdir(\"./train\")   #maketrain folder directory\n",
        "  \n",
        "  for dir in os.listdir(ROOT_DIR):\n",
        "    os.makedirs(\"./train/\"+dir)\n",
        "    for img in np.random.choice(a=os.listdir(os.path.join(ROOT_DIR,dir)),size=(math.floor(80/100*number_of_images[dir])-5),replace=False):\n",
        "      O=os.path.join(ROOT_DIR,dir,img)#path\n",
        "      D=os.path.join(\"./train\",dir)\n",
        "      shutil.copy(O,D)\n",
        "      os.remove(O)\n",
        "    else:\n",
        "      print(\"the folder exist\")\n"
      ]
    },
    {
      "cell_type": "markdown",
      "source": [
        " **bold data spliting\n",
        "80%for traning\n",
        "10%validating\n",
        "10%testingtext** "
      ],
      "metadata": {
        "id": "gsgqKNy3eNmx"
      }
    },
    {
      "cell_type": "code",
      "execution_count": null,
      "metadata": {
        "id": "VZX8E_hWYMZ5"
      },
      "outputs": [],
      "source": [
        "def dataFolder(p,split):\n",
        "  if not os.path.exists(\"./\"+p):\n",
        "    os.mkdir(\"./\"+p)\n",
        "    for dir in os.listdir(ROOT_DIR):\n",
        "      os.makedirs(\"./\"+p+\"/\"+dir)\n",
        "      for img in np.random.choice(a=os.listdir(os.path.join(ROOT_DIR,dir)),size=(math.floor(split*number_of_images[dir])-5),replace=False):\n",
        "        O=os.path.join(ROOT_DIR,dir,img)#path\n",
        "        D=os.path.join(\"./\"+p,dir)\n",
        "        shutil.copy(O,D)\n",
        "        os.remove(O)\n",
        "    else:\n",
        "      print(f\"{p}the folder exist\")\n"
      ]
    },
    {
      "cell_type": "markdown",
      "source": [
        "**for traning**"
      ],
      "metadata": {
        "id": "mnkGw0QjeRmx"
      }
    },
    {
      "cell_type": "code",
      "execution_count": null,
      "metadata": {
        "id": "Mrv0BmuvhHW4"
      },
      "outputs": [],
      "source": [
        "dataFolder(\"train\",0.8)"
      ]
    },
    {
      "cell_type": "markdown",
      "source": [
        "**for validation**"
      ],
      "metadata": {
        "id": "JkV20wQ9eV1R"
      }
    },
    {
      "cell_type": "code",
      "execution_count": null,
      "metadata": {
        "id": "ZvwM_yr_hfUI"
      },
      "outputs": [],
      "source": [
        "dataFolder(\"val\",0.1)"
      ]
    },
    {
      "cell_type": "markdown",
      "source": [
        "**for validation**"
      ],
      "metadata": {
        "id": "v9nL2JcWeaTS"
      }
    },
    {
      "cell_type": "code",
      "execution_count": null,
      "metadata": {
        "id": "HJZZ9R1Jh8G_"
      },
      "outputs": [],
      "source": [
        "dataFolder(\"test\",0.1)"
      ]
    },
    {
      "cell_type": "markdown",
      "metadata": {
        "id": "c25f3LborZ6Y"
      },
      "source": [
        "**model building**"
      ]
    },
    {
      "cell_type": "code",
      "execution_count": null,
      "metadata": {
        "id": "VBz7AUV1rP1f"
      },
      "outputs": [],
      "source": [
        "from keras.utils import img_to_array #underling frame work for tensorflow\n",
        "from keras.utils.image_dataset import load_image\n",
        "from keras.layers import Conv2D,MaxPool2D,Dropout,Flatten,Dense,BatchNormalization,GlobalAveragePooling2D\n",
        "from keras.models import Sequential\n",
        "from keras.preprocessing.image import ImageDataGenerator\n",
        "import keras"
      ]
    },
    {
      "cell_type": "markdown",
      "metadata": {
        "id": "yzJHt5NOsmV4"
      },
      "source": [
        "** 2D CNN model**"
      ]
    },
    {
      "cell_type": "code",
      "execution_count": null,
      "metadata": {
        "id": "waW5gxU_qY6h"
      },
      "outputs": [],
      "source": [
        "from keras.backend import dropout\n",
        "from keras.engine import sequential\n",
        "model=Sequential()\n",
        "model.add(Conv2D(filters=16,kernel_size=(3,3),activation='relu',input_shape=(244,244,3)))   #input layer\n",
        "\n",
        "model.add(Conv2D(filters=32,kernel_size=(3,3),activation='relu'))   #hidden layer\n",
        "model.add(MaxPool2D(pool_size=(2,2)))\n",
        "\n",
        "model.add(Conv2D(filters=64,kernel_size=(3,3),activation='relu'))   #hidden layer\n",
        "model.add(MaxPool2D(pool_size=(2,2)))\n",
        "\n",
        "model.add(Conv2D(filters=128,kernel_size=(3,3),activation='relu'))    #hidden layer\n",
        "model.add(MaxPool2D(pool_size=(2,2)))\n",
        "\n",
        "model.add(Flatten())\n",
        "model.add(Dense(units=64,activation='relu'))\n",
        "model.add(Dropout(rate=0.25))\n",
        "model.add(Dense(units=1,activation='sigmoid'))      #outputlayer\n",
        "\n",
        "model.summary()\n",
        "\n"
      ]
    },
    {
      "cell_type": "markdown",
      "source": [
        "used optimizer and evaluation metrics"
      ],
      "metadata": {
        "id": "xKyjD3SjfjUK"
      }
    },
    {
      "cell_type": "code",
      "execution_count": null,
      "metadata": {
        "id": "e37u4-IJ3xXK"
      },
      "outputs": [],
      "source": [
        "import tensorflow as tf\n",
        "model.compile(optimizer='adam',loss = tf.keras.losses.binary_crossentropy,metrics=['accuracy'])\n"
      ]
    },
    {
      "cell_type": "markdown",
      "metadata": {
        "id": "d6-gMEai8kKA"
      },
      "source": [
        "**preparing ourdata using data generator**"
      ]
    },
    {
      "cell_type": "code",
      "execution_count": null,
      "metadata": {
        "id": "eLYWsS4f72UJ"
      },
      "outputs": [],
      "source": [
        "def preprocessingImages(path):\n",
        "  \"\"\"\n",
        "  \n",
        "  input:path\n",
        "  output:preprocessed image\n",
        "  \"\"\"\n",
        "  image_data=ImageDataGenerator(zoom_range=0.2,shear_range=0.2,rescale=1/255,horizontal_flip=True)  #preprocessing of image\n",
        "  image=image_data.flow_from_directory(directory=path,target_size=(244,244),batch_size=(32),class_mode='binary')\n",
        "  return image\n"
      ]
    },
    {
      "cell_type": "markdown",
      "metadata": {
        "id": "OKdUhQ89AKfx"
      },
      "source": [
        "**for traning**"
      ]
    },
    {
      "cell_type": "code",
      "execution_count": null,
      "metadata": {
        "id": "yGGdbHGU_CQR"
      },
      "outputs": [],
      "source": [
        "path='/content/train'\n",
        "train_data=preprocessingImages(path)"
      ]
    },
    {
      "cell_type": "markdown",
      "metadata": {
        "id": "8VH4OZK-AH3c"
      },
      "source": [
        "**for test data**"
      ]
    },
    {
      "cell_type": "code",
      "execution_count": null,
      "metadata": {
        "id": "MhVvsHUQ_x4H"
      },
      "outputs": [],
      "source": [
        "def preprocessingImages2(path):\n",
        "  \"\"\"\n",
        "  input:path\n",
        "  output:preprocessed image\n",
        "  \"\"\"\n",
        "  image_data=ImageDataGenerator(rescale=1/255)\n",
        "  image=image_data.flow_from_directory(directory=path,target_size=(244,244),batch_size=(32),class_mode='binary')\n",
        "  return image"
      ]
    },
    {
      "cell_type": "code",
      "execution_count": null,
      "metadata": {
        "id": "_uws_FcLAgoi"
      },
      "outputs": [],
      "source": [
        "path='/content/test'\n",
        "test_data=preprocessingImages2(path)"
      ]
    },
    {
      "cell_type": "markdown",
      "source": [
        "**for validating**"
      ],
      "metadata": {
        "id": "qetkFIVniTAc"
      }
    },
    {
      "cell_type": "code",
      "execution_count": null,
      "metadata": {
        "id": "GzPoRMSQAm2o"
      },
      "outputs": [],
      "source": [
        "path='/content/val'\n",
        "val_data=preprocessingImages2(path)"
      ]
    },
    {
      "cell_type": "markdown",
      "metadata": {
        "id": "he5W2lsbBAlX"
      },
      "source": [
        "**early stoping the model cheak point**"
      ]
    },
    {
      "cell_type": "code",
      "execution_count": null,
      "metadata": {
        "id": "c7MMuivCA17R"
      },
      "outputs": [],
      "source": [
        "from keras.callbacks import ModelCheckpoint,EarlyStopping\n",
        "#early stoping\n",
        "er=EarlyStopping(monitor=\"accuracy\",min_delta=0.001,patience=23,verbose=1,mode='auto')    #save the best model when their is best accurecy \n",
        "#model cheakpoint\n",
        "mc=ModelCheckpoint(monitor=\"accuracy\",filepath=\"./bestmodel.h5\",verbose=1,save_best_only=True,mode='auto')\n",
        "cd=[er,mc]"
      ]
    },
    {
      "cell_type": "markdown",
      "metadata": {
        "id": "ftoasA9_DHTE"
      },
      "source": [
        "**model traning**"
      ]
    },
    {
      "cell_type": "code",
      "execution_count": null,
      "metadata": {
        "id": "slo4FM7WDEwB"
      },
      "outputs": [],
      "source": [
        "hs=model.fit_generator(generator=train_data,\n",
        "                       steps_per_epoch =5,\n",
        "                       epochs=10,\n",
        "                       verbose=1,# what ever the execution is i wanna be shewn it\n",
        "                       validation_data=(val_data),\n",
        "                       validation_steps=16,\n",
        "                       callbacks=cd,\n",
        "                       )"
      ]
    },
    {
      "cell_type": "markdown",
      "metadata": {
        "id": "Bijwty_A1VQZ"
      },
      "source": [
        "**model graphical interpretation**"
      ]
    },
    {
      "cell_type": "code",
      "execution_count": null,
      "metadata": {
        "id": "dJYAEhSN0zjt"
      },
      "outputs": [],
      "source": [
        "h=hs.history\n",
        "h.keys()\n"
      ]
    },
    {
      "cell_type": "markdown",
      "source": [
        "**Accurecy**"
      ],
      "metadata": {
        "id": "o8nkNh3Xis8D"
      }
    },
    {
      "cell_type": "code",
      "execution_count": null,
      "metadata": {
        "id": "TIDF6Oko6fTr"
      },
      "outputs": [],
      "source": [
        "import matplotlib.pyplot as plt\n",
        "plt.plot(h['accuracy'])\n",
        "\n",
        "plt.title(\"accuracy\")\n",
        "plt.show()"
      ]
    },
    {
      "cell_type": "markdown",
      "source": [
        "**loss function**"
      ],
      "metadata": {
        "id": "061ODTNSizn7"
      }
    },
    {
      "cell_type": "code",
      "execution_count": null,
      "metadata": {
        "id": "Na3ZKFpG7HWh"
      },
      "outputs": [],
      "source": [
        "import matplotlib.pyplot as plt\n",
        "plt.plot(h['loss'])\n",
        "\n",
        "plt.title(\"loss\")\n",
        "plt.show()"
      ]
    },
    {
      "cell_type": "markdown",
      "metadata": {
        "id": "g-aXT49B7mVQ"
      },
      "source": [
        "**save the model**\n"
      ]
    },
    {
      "cell_type": "code",
      "execution_count": null,
      "metadata": {
        "id": "UVhqEE3v7bTh"
      },
      "outputs": [],
      "source": [
        "from keras.models import load_model\n",
        "model=load_model(\"/content/bestmodel.h5\")"
      ]
    },
    {
      "cell_type": "markdown",
      "source": [
        "show accurecy of the model for traning data"
      ],
      "metadata": {
        "id": "LI8xHbKb8PVR"
      }
    },
    {
      "cell_type": "code",
      "execution_count": null,
      "metadata": {
        "id": "ud87Db-Y-6nA"
      },
      "outputs": [],
      "source": [
        "acc=model.evaluate_generator(train_data)[1]\n",
        "print(f\"the accurecy of our model is {acc*100}%\")"
      ]
    },
    {
      "cell_type": "markdown",
      "source": [
        "show accurecy of the model for test data\n",
        "\n",
        "---\n",
        "\n"
      ],
      "metadata": {
        "id": "8ntmPfMz-Rrg"
      }
    },
    {
      "cell_type": "code",
      "source": [
        "acc=model.evaluate_generator(test_data)[1]\n",
        "print(f\"the accurecy of our model is {acc*100}%\")"
      ],
      "metadata": {
        "id": "cM443GX5-Dxa"
      },
      "execution_count": null,
      "outputs": []
    },
    {
      "cell_type": "markdown",
      "source": [
        "show accurecy of the model for validation data"
      ],
      "metadata": {
        "id": "_VmZRkMg_RBx"
      }
    },
    {
      "cell_type": "code",
      "source": [
        "acc=model.evaluate_generator(val_data)[1]\n",
        "print(f\"the accurecy of our model is {acc*100}%\")"
      ],
      "metadata": {
        "id": "sWTTL-7S_KeO"
      },
      "execution_count": null,
      "outputs": []
    },
    {
      "cell_type": "code",
      "execution_count": null,
      "metadata": {
        "id": "279dj_jPLmNh"
      },
      "outputs": [],
      "source": [
        "from keras.utils.image_dataset import load_image\n",
        "from tensorflow.keras.preprocessing.image import ImageDataGenerator\n",
        "from tensorflow.keras.preprocessing.image import load_img,img_to_array"
      ]
    },
    {
      "cell_type": "markdown",
      "source": [
        "**state our target class**"
      ],
      "metadata": {
        "id": "QipoHVqui_vy"
      }
    },
    {
      "cell_type": "code",
      "execution_count": null,
      "metadata": {
        "id": "LGK6B1N4tcIu"
      },
      "outputs": [],
      "source": [
        "train_data.class_indices"
      ]
    },
    {
      "cell_type": "markdown",
      "source": [
        "**test our model by using testing set**"
      ],
      "metadata": {
        "id": "N8Dg6BfejE1y"
      }
    },
    {
      "cell_type": "code",
      "execution_count": null,
      "metadata": {
        "id": "lLqZnFKyL_bC"
      },
      "outputs": [],
      "source": [
        "path=\"/content/train/yes/Y1.jpg\"\n",
        "img=load_img(path,target_size=(244,244))\n",
        "input_arr=img_to_array(img)/255\n",
        "plt.imshow(input_arr)\n",
        "plt.show()\n",
        "input_arr.shape\n",
        "input_arr=np.expand_dims(input_arr,axis=0)\n",
        "y_pred = model.predict(input_arr)\n",
        "y_pred = np.round(y_pred).astype(int)[0][0]\n",
        "y_pred\n",
        "\n",
        "if y_pred==0:\n",
        "  print(\"the MRI is not having a tumor\")\n",
        "else:\n",
        "  print(\"the MRI is  having a tumor\")"
      ]
    },
    {
      "cell_type": "markdown",
      "source": [
        "**save the model using pickle library**"
      ],
      "metadata": {
        "id": "Y9fsYETTjPYD"
      }
    },
    {
      "cell_type": "code",
      "execution_count": null,
      "metadata": {
        "id": "I4Ew79A3Q92h"
      },
      "outputs": [],
      "source": [
        "\n",
        "import pickle\n",
        "pickle.dump(hs,open('bestmodel.h%','wb'))"
      ]
    },
    {
      "cell_type": "markdown",
      "source": [
        " Model Deployment"
      ],
      "metadata": {
        "id": "l7oCJruojUBy"
      }
    },
    {
      "cell_type": "code",
      "execution_count": null,
      "metadata": {
        "id": "GeqF3FGzxqI1"
      },
      "outputs": [],
      "source": [
        "!pip install streamlit"
      ]
    },
    {
      "cell_type": "code",
      "execution_count": null,
      "metadata": {
        "id": "byKR4YqpzCWh"
      },
      "outputs": [],
      "source": [
        "!pip install pyngrok"
      ]
    },
    {
      "cell_type": "code",
      "execution_count": null,
      "metadata": {
        "id": "QT0X-lQfzG7w"
      },
      "outputs": [],
      "source": [
        "from pyngrok import ngrok"
      ]
    },
    {
      "cell_type": "code",
      "execution_count": null,
      "metadata": {
        "id": "VQbYUd3PAZG2"
      },
      "outputs": [],
      "source": [
        "!ngrok authtoken 2MPjHQ9CT3v75UGbad8xBCkIreH_4PeJE52KKNbTcwAcYn7dR"
      ]
    },
    {
      "cell_type": "code",
      "execution_count": null,
      "metadata": {
        "id": "0RuANbxAAjx2"
      },
      "outputs": [],
      "source": [
        "!streamlit run --server.port 80 app.py >/dev/null"
      ]
    },
    {
      "cell_type": "code",
      "execution_count": null,
      "metadata": {
        "id": "ovpd_XztzN2k"
      },
      "outputs": [],
      "source": [
        "%%writefile app.py\n",
        "import streamlit as st\n",
        "st.title('image classifier')"
      ]
    },
    {
      "cell_type": "code",
      "execution_count": null,
      "metadata": {
        "id": "5g4M4CIczRxk"
      },
      "outputs": [],
      "source": [
        "!nohup streamlit run app.py &\n",
        "url=ngrok.connect(port=\"8080\")\n",
        "url"
      ]
    }
  ],
  "metadata": {
    "colab": {
      "provenance": [],
      "authorship_tag": "ABX9TyOIUMFyRyMCmr+ciTzCLKxT",
      "include_colab_link": true
    },
    "gpuClass": "standard",
    "kernelspec": {
      "display_name": "Python 3",
      "name": "python3"
    },
    "language_info": {
      "name": "python"
    },
    "accelerator": "GPU"
  },
  "nbformat": 4,
  "nbformat_minor": 0
}