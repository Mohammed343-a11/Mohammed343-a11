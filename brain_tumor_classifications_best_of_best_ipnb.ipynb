{
  "cells": [
    {
      "cell_type": "markdown",
      "metadata": {
        "id": "view-in-github",
        "colab_type": "text"
      },
      "source": [
        "<a href=\"https://colab.research.google.com/github/Mohammed343-a11/Mohammed343-a11/blob/main/brain_tumor_classifications_best_of_best_ipnb.ipynb\" target=\"_parent\"><img src=\"https://colab.research.google.com/assets/colab-badge.svg\" alt=\"Open In Colab\"/></a>"
      ]
    },
    {
      "cell_type": "markdown",
      "metadata": {
        "id": "PSNDaTjnREBn"
      },
      "source": [
        "**install a library for telling execution time**"
      ]
    },
    {
      "cell_type": "code",
      "source": [
        "from google.colab import drive  # go to my drive in order to get my dataset \n",
        "drive.mount('/content/drive')"
      ],
      "metadata": {
        "colab": {
          "base_uri": "https://localhost:8080/"
        },
        "id": "HWuBm7s1jHbw",
        "outputId": "98105a37-8f43-4322-aa91-2a6c5081cef4"
      },
      "execution_count": 1,
      "outputs": [
        {
          "output_type": "stream",
          "name": "stdout",
          "text": [
            "Mounted at /content/drive\n"
          ]
        }
      ]
    },
    {
      "cell_type": "code",
      "source": [],
      "metadata": {
        "id": "CvQm1efYOknO"
      },
      "execution_count": 1,
      "outputs": []
    },
    {
      "cell_type": "code",
      "execution_count": 2,
      "metadata": {
        "id": "adbyJLIjQz1g",
        "colab": {
          "base_uri": "https://localhost:8080/"
        },
        "outputId": "0204fda4-05e9-4644-bdce-cff4b6a3b8bb"
      },
      "outputs": [
        {
          "output_type": "stream",
          "name": "stdout",
          "text": [
            "Looking in indexes: https://pypi.org/simple, https://us-python.pkg.dev/colab-wheels/public/simple/\n",
            "Collecting ipython-autotime\n",
            "  Downloading ipython_autotime-0.3.1-py2.py3-none-any.whl (6.8 kB)\n",
            "Requirement already satisfied: ipython in /usr/local/lib/python3.9/dist-packages (from ipython-autotime) (7.9.0)\n",
            "Requirement already satisfied: prompt-toolkit<2.1.0,>=2.0.0 in /usr/local/lib/python3.9/dist-packages (from ipython->ipython-autotime) (2.0.10)\n",
            "Requirement already satisfied: traitlets>=4.2 in /usr/local/lib/python3.9/dist-packages (from ipython->ipython-autotime) (5.7.1)\n",
            "Requirement already satisfied: backcall in /usr/local/lib/python3.9/dist-packages (from ipython->ipython-autotime) (0.2.0)\n",
            "Requirement already satisfied: pygments in /usr/local/lib/python3.9/dist-packages (from ipython->ipython-autotime) (2.6.1)\n",
            "Collecting jedi>=0.10\n",
            "  Downloading jedi-0.18.2-py2.py3-none-any.whl (1.6 MB)\n",
            "\u001b[2K     \u001b[90m━━━━━━━━━━━━━━━━━━━━━━━━━━━━━━━━━━━━━━━━\u001b[0m \u001b[32m1.6/1.6 MB\u001b[0m \u001b[31m59.0 MB/s\u001b[0m eta \u001b[36m0:00:00\u001b[0m\n",
            "\u001b[?25hRequirement already satisfied: pexpect in /usr/local/lib/python3.9/dist-packages (from ipython->ipython-autotime) (4.8.0)\n",
            "Requirement already satisfied: setuptools>=18.5 in /usr/local/lib/python3.9/dist-packages (from ipython->ipython-autotime) (57.4.0)\n",
            "Requirement already satisfied: pickleshare in /usr/local/lib/python3.9/dist-packages (from ipython->ipython-autotime) (0.7.5)\n",
            "Requirement already satisfied: decorator in /usr/local/lib/python3.9/dist-packages (from ipython->ipython-autotime) (4.4.2)\n",
            "Requirement already satisfied: parso<0.9.0,>=0.8.0 in /usr/local/lib/python3.9/dist-packages (from jedi>=0.10->ipython->ipython-autotime) (0.8.3)\n",
            "Requirement already satisfied: six>=1.9.0 in /usr/local/lib/python3.9/dist-packages (from prompt-toolkit<2.1.0,>=2.0.0->ipython->ipython-autotime) (1.15.0)\n",
            "Requirement already satisfied: wcwidth in /usr/local/lib/python3.9/dist-packages (from prompt-toolkit<2.1.0,>=2.0.0->ipython->ipython-autotime) (0.2.6)\n",
            "Requirement already satisfied: ptyprocess>=0.5 in /usr/local/lib/python3.9/dist-packages (from pexpect->ipython->ipython-autotime) (0.7.0)\n",
            "Installing collected packages: jedi, ipython-autotime\n",
            "Successfully installed ipython-autotime-0.3.1 jedi-0.18.2\n",
            "time: 371 µs (started: 2023-03-13 19:15:11 +00:00)\n"
          ]
        }
      ],
      "source": [
        "!pip install ipython-autotime # to see execution time for asingle cell\n",
        "%load_ext autotime"
      ]
    },
    {
      "cell_type": "markdown",
      "metadata": {
        "id": "0kgzhvnbRMiH"
      },
      "source": [
        "**import a warning statment**"
      ]
    },
    {
      "cell_type": "code",
      "execution_count": 3,
      "metadata": {
        "colab": {
          "base_uri": "https://localhost:8080/"
        },
        "id": "Wd5svMApPX0b",
        "outputId": "c8abf199-5ff7-4d9d-84aa-931a4f6202ab"
      },
      "outputs": [
        {
          "output_type": "stream",
          "name": "stdout",
          "text": [
            "time: 738 µs (started: 2023-03-13 19:15:11 +00:00)\n"
          ]
        }
      ],
      "source": [
        "import warnings       # to get warning wen error come to us\n",
        "warnings.filterwarnings(\"ignore\")"
      ]
    },
    {
      "cell_type": "code",
      "execution_count": 4,
      "metadata": {
        "colab": {
          "base_uri": "https://localhost:8080/"
        },
        "id": "mBV_C0wxQUub",
        "outputId": "6c8afdd4-4e5b-46d7-93cd-9cb13f3a9916"
      },
      "outputs": [
        {
          "output_type": "stream",
          "name": "stdout",
          "text": [
            "time: 724 µs (started: 2023-03-13 19:15:11 +00:00)\n"
          ]
        }
      ],
      "source": [
        "import numpy as np       #a libraru usedto do soe matmatical opperation\n",
        "import matplotlib.pyplot as plt  #used to draw different graph toexpressourdata or result\n",
        "import os     #to access internal operating system\n",
        "import math\n",
        "import shutil"
      ]
    },
    {
      "cell_type": "markdown",
      "metadata": {
        "id": "OvNWXoKGSHrf"
      },
      "source": [
        "**read my dataset**\n"
      ]
    },
    {
      "cell_type": "code",
      "execution_count": 5,
      "metadata": {
        "colab": {
          "base_uri": "https://localhost:8080/"
        },
        "id": "_rRND3ATSERK",
        "outputId": "d5d1b41f-ca43-448d-9d22-6f58f0cf8c3d"
      },
      "outputs": [
        {
          "output_type": "stream",
          "name": "stdout",
          "text": [
            "time: 3.76 s (started: 2023-03-13 19:15:11 +00:00)\n"
          ]
        }
      ],
      "source": [
        "ROOT_DIR=\"/content/drive/MyDrive/brain tumerre\"  #directory of my dataset\n",
        "number_of_images={}\n",
        "for dir in os.listdir(ROOT_DIR):\n",
        "  number_of_images[dir]=os.listdir(os.path.join(ROOT_DIR,dir))   \n"
      ]
    },
    {
      "cell_type": "markdown",
      "metadata": {
        "id": "o-2_Ah34Yb-5"
      },
      "source": [
        "list the directory of our dataset"
      ]
    },
    {
      "cell_type": "code",
      "execution_count": 6,
      "metadata": {
        "id": "kYWWZ7FvYTDI",
        "colab": {
          "base_uri": "https://localhost:8080/"
        },
        "outputId": "4ff91c97-1c9d-403e-cc3c-753081df0569"
      },
      "outputs": [
        {
          "output_type": "execute_result",
          "data": {
            "text/plain": [
              "['no', 'yes']"
            ]
          },
          "metadata": {},
          "execution_count": 6
        },
        {
          "output_type": "stream",
          "name": "stdout",
          "text": [
            "time: 9.76 ms (started: 2023-03-13 19:15:14 +00:00)\n"
          ]
        }
      ],
      "source": [
        "os.listdir(\"/content/drive/MyDrive/brain tumerre\")  #list of folder orclass in our directory"
      ]
    },
    {
      "cell_type": "markdown",
      "metadata": {
        "id": "V19rdPhEXfc4"
      },
      "source": [
        "**see all the number of image**"
      ]
    },
    {
      "cell_type": "code",
      "execution_count": 7,
      "metadata": {
        "id": "kTHMEdgnXWhI",
        "colab": {
          "base_uri": "https://localhost:8080/"
        },
        "outputId": "cee521d0-37bf-48ea-91c6-3d065e0af614"
      },
      "outputs": [
        {
          "output_type": "execute_result",
          "data": {
            "text/plain": [
              "dict_items([('no', ['1 no.jpeg', '10 no.jpg', '11 no.jpg', '20 no.jpg', '5 no.jpg', '48 no.jpeg', '22 no.jpg', 'N21.jpg', '24 no.jpg', '46 no.jpg', '15 no.jpg', '28 no.jpg', '14 no.jpg', '35 no.jpg', '30 no.jpg', 'N1.JPG', '43 no.jpg', 'N22.JPG', '6 no.jpg', '19 no.jpg', '7 no.jpg', '32 no.jpg', '41 no.jpg', '49 no.jpg', '40 no.jpg', '34 no.jpg', '12 no.jpg', '36 no.jpg', '18 no.jpg', '9 no.jpg', '26 no.jpg', '44no.jpg', 'N16.jpg', '42 no.jpg', '38 no.jpg', '33 no.jpg', '45 no.jpg', 'N17.jpg', '17 no.jpg', '2 no.jpeg', '3 no.jpg', '8 no.jpg', 'N11.jpg', '4 no.jpg', '47 no.jpg', '25 no.jpg', '21 no.jpg', 'N20.JPG', 'N19.JPG', 'N15.jpg', '23 no.jpg', '29 no.jpg', '39 no.jpg', '37 no.jpg', 'N2.JPG', '27 no.jpg', '13 no.jpg', '50 no.jpg', '31 no.jpg', 'no 97.jpg', 'no 2.jpg', 'N5.jpg', 'No12.jpg', 'No17.jpg', 'no 4.jpg', 'No19.jpg', 'no 98.jpg', 'no.jpg', 'no 91.jpeg', 'no 100.jpg', 'no 96.jpg', 'no 1.jpg', 'no 8.jpg', 'N3.jpg', 'N6.jpg', 'no 5.jpeg', 'no 89.jpg', 'no 6.jpg', 'No15.jpg', 'no 7.jpeg', 'no 90.jpg', 'no 92.jpg', 'No20.jpg', 'No11.jpg', 'No22.jpg', 'no 923.jpg', 'N26.JPG', 'no 99.jpg', 'no 3.jpg', 'No13.jpg', 'No18.jpg', 'no 94.jpg', 'no 9.png', 'No14.jpg', 'no 95.jpg', 'no 10.jpg', 'No21.jpg', 'No16.jpg', 'image(42).jpg', 'image(65).jpg', 'image(284).jpg', 'image(260).jpg', 'image(96).jpg', 'image(256).jpg', '1.jpg', 'image (14).jpg', 'image(41).jpg', 'image(73).jpg', 'image(156).jpg', 'image(232).jpg', 'image(63).jpg', 'image (40).jpg', 'image(71).jpg', 'image(296).jpg', 'image(139).jpg', 'image(130).jpg', 'image(30).jpg', 'image(202).jpg', 'image(325).jpg', 'image(239).jpg', 'image (25).jpg', 'image(274).jpg', 'image(131).jpg', 'image(283).jpg', 'image(159).jpg', 'image(262).jpg', 'image(154).jpg', 'image (11).jpg', 'image (29).jpg', 'image(303).jpg', 'image(45).jpg', 'image(75).jpg', 'image(44).jpg', 'image (61).jpg', 'image (19).jpg', 'image(147).jpg', 'image(178).jpg', 'image(245).jpg', 'image(113).jpg', 'image(196).jpg', 'image(199).jpg', 'image(143).jpg', 'image(106).jpg', 'image(151).jpg', 'image(212).jpg', 'image(216).jpg', 'image(95).jpg', 'image (23).jpg', '4.jpg', 'image(122).jpg', 'image(72).jpg', 'image(120).jpg', 'image(152).jpg', 'image(138).jpg', 'image(318).jpg', 'image(194).jpg', 'image(246).jpg', 'image (33).jpg', 'image(191).jpg', 'image (17).jpg', 'image (59).jpg', 'image(38).jpg', 'image (16).jpg', 'image(200).jpg', 'image(52).jpg', 'image(153).jpg', 'image(129).jpg', 'image (4).jpg', 'image(27).jpg', 'image(277).jpg', 'image(110).jpg', 'image(115).jpg', 'image(8).jpg', 'image(270).jpg', 'image (5).jpg', 'image(223).jpg', 'image(220).jpg', 'image(84).jpg', 'image(134).jpg', 'image (26).jpg', 'image(1).jpg', 'image(204).jpg', 'image(21).jpg', 'image(175).jpg', 'image (35).jpg', 'image(99).jpg', 'image (52).jpg', 'image(322).jpg', 'image (24).jpg', 'image(35).jpg', 'image(268).jpg', 'image(103).jpg', 'image(234).jpg', 'image(12).jpg', 'image(279).jpg', 'image.jpg', 'image(91).jpg', 'image(62).jpg', 'image(294).jpg', 'image(189).jpg', 'image(98).jpg', 'image(269).jpg', 'image(267).jpg', 'image(64).jpg', 'image(104).jpg', 'image (7).jpg', 'image(13).jpg', 'image(309).jpg', 'image(43).jpg', 'image(100).jpg', 'image(221).jpg', 'image(137).jpg', 'image(92).jpg', 'image (37).jpg', 'image(240).jpg', 'image(173).jpg', 'image(118).jpg', 'image(287).jpg', 'image(251).jpg', 'image(311).jpg', 'image(197).jpg', 'image(111).jpg', 'image(180).jpg', 'image (49).jpg', 'image(128).jpg', 'image (47).jpg', 'image(315).jpg', 'image(214).jpg', 'image(300).jpg', 'image (55).jpg', 'image(235).jpg', 'image (60).jpg', 'image(142).jpg', 'image(215).jpg', 'image(289).jpg', 'image(40).jpg', 'image(265).jpg', 'image (44).jpg', 'image(105).jpg', 'image(167).jpg', 'image(186).jpg', 'image (15).jpg', 'image(320).jpg', 'image(227).jpg', 'image(263).jpg', 'image(117).jpg', 'image(323).jpg', 'image(259).jpg', 'image(3).jpg', 'image(233).jpg', 'image(255).jpg', 'image(19).jpg', 'image(211).jpg', 'image(253).jpg', 'image(307).jpg', 'image(187).jpg', 'image (41).jpg', 'image(124).jpg', 'image(188).jpg', 'image(158).jpg', 'image (36).jpg', 'image(140).jpg', 'image(37).jpg', 'image(192).jpg', 'image(157).jpg', 'image(83).jpg', 'image(55).jpg', 'image (57).jpg', 'image(264).jpg', 'image(181).jpg', 'image(280).jpg', 'image(160).jpg', 'image(209).jpg', 'image(305).jpg', 'image(85).jpg', 'image(56).jpg', 'image (54).jpg', '2.jpg', 'image(51).jpg', 'image (32).jpg', 'image (43).jpg', 'image(313).jpg', 'image(162).jpg', 'image(225).jpg', 'image(326).jpg', 'image(169).jpg', 'image(67).jpg', 'image(207).jpg', 'image(53).jpg', 'image(90).jpg', 'image(290).jpg', 'image(314).jpg', 'image(150).jpg', 'image(266).jpg', 'image(165).jpg', 'image (6).jpg', 'image (28).jpg', 'image(22).jpg', 'image(87).jpg', 'image(119).jpg', 'image(47).jpg', 'image(271).jpg', 'image(80).jpg', '3.jpg', 'image(79).jpg', 'image(32).jpg', 'image(29).jpg', 'image(276).jpg', 'image(249).jpg', '6.jpg', 'image(34).jpg', 'image(282).jpg', 'image(183).jpg', 'image (58).jpg', 'image(281).jpg', 'image(18).jpg', 'image (48).jpg', 'image(298).jpg', 'image(179).jpg', 'image(88).jpg', 'image (38).jpg', 'image(317).jpg', 'image(123).jpg', 'image(7).jpg', 'image(136).jpg', 'image(15).jpg', 'image(257).jpg', 'image(20).jpg', 'image(146).jpg', 'image(121).jpg', 'image(184).jpg', 'image(286).jpg', 'image(76).jpg', 'image(127).jpg', 'image(213).jpg', 'image(190).jpg', 'image(24).jpg', 'image(81).jpg', 'image(244).jpg', 'image(247).jpg', 'image(168).jpg', 'image(39).jpg', 'image(132).jpg', 'image(6).jpg', 'image(86).jpg', 'image(174).jpg', 'image (21).jpg', 'image(36).jpg', 'image(125).jpg', 'image (10).jpg', 'image(11).jpg', 'image(218).jpg', 'image(17).jpg', 'image(25).jpg', 'image(327).jpg', 'image(144).jpg', 'image(195).jpg', 'image(243).jpg', 'image(295).jpg', 'image (30).jpg', '5.jpg', 'image(228).jpg', 'image(164).jpg', 'image(302).jpg', 'image (63).jpg', 'image(74).jpg', 'image (42).jpg', 'image (50).jpg', 'image(102).jpg', 'image(252).jpg', 'image(61).jpg', 'image(66).jpg', 'image(292).jpg', 'image(285).jpg', 'image(229).jpg', 'image(155).jpg', 'image (39).jpg', 'image(278).jpg', 'image(304).jpg', 'image(26).jpg', 'image(48).jpg', 'image(205).jpg', 'image(170).jpg', 'image(112).jpg', 'image(321).jpg', 'image(89).jpg', 'image(69).jpg', '8.jpg', 'image(107).jpg', 'image(272).jpg', 'image(219).jpg', 'image(301).jpg', 'image (12).jpg', 'image(210).jpg', 'image (56).jpg', 'image(254).jpg', 'image(78).jpg', 'image(101).jpg', 'image (9).jpg', 'image(177).jpg', 'image(60).jpg', 'image(77).jpg', 'image(193).jpg', 'image(242).jpg', 'image(50).jpg', 'image (27).jpg', 'image(176).jpg', 'image(57).jpg', 'image (34).jpg', 'image(10).jpg', 'image(248).jpg', 'image(2).jpg', 'image(293).jpg', 'image (51).jpg', 'image(4).jpg', 'image(141).jpg', 'image(238).jpg', 'image(206).jpg', 'image(172).jpg', 'image(28).jpg', 'image(231).jpg', 'image(198).jpg', 'image(312).jpg', 'image(49).jpg', 'image(135).jpg', 'image(5).jpg', 'image (45).jpg', 'image(163).jpg', 'image(308).jpg', 'image(224).jpg', 'image(275).jpg', 'image(299).jpg', 'image(250).jpg', 'image (62).jpg', 'image(114).jpg', 'image(126).jpg', 'image(54).jpg', 'image(316).jpg', 'image(171).jpg', 'image(273).jpg', 'image(93).jpg', 'image(108).jpg', '7.jpg', 'image(46).jpg', 'image(208).jpg', 'image(59).jpg', 'image(94).jpg', 'image(306).jpg', 'image(291).jpg', 'image(236).jpg', 'image(230).jpg', 'image(70).jpg', 'image(310).jpg', 'image(148).jpg', 'image(258).jpg', 'image(241).jpg', 'image(116).jpg', 'image (64).jpg', 'image(182).jpg', 'image(9).jpg', 'image(319).jpg', 'image(203).jpg', 'image(133).jpg', 'image (8).jpg', 'image(217).jpg', 'image(145).jpg', 'image(33).jpg', 'image (22).jpg', 'image(161).jpg', 'image(58).jpg', 'image(288).jpg', 'image(149).jpg', 'image (46).jpg', 'image(297).jpg', 'image(82).jpg', 'image(185).jpg', 'image(16).jpg', 'image (31).jpg', 'image(261).jpg', 'image(201).jpg', 'image(222).jpg', 'image (53).jpg', 'image(166).jpg', 'image(23).jpg', 'image (18).jpg', 'image(14).jpg', 'image(237).jpg', 'image(226).jpg', 'image (13).jpg', 'image(68).jpg', 'image(324).jpg', 'image (20).jpg', 'image(31).jpg']), ('yes', ['Y92.png', 'Y159.JPG', 'Y101.jpg', 'Y70.jpg', 'Y254.jpg', 'Y242.JPG', 'Y168.jpg', 'Y247.JPG', 'Y99.JPG', 'Y39.jpg', 'Y75.JPG', 'Y41.jpg', 'Y95.jpg', 'Y166.JPG', 'Y89.JPG', 'Y66.JPG', 'Y114.JPG', 'Y6.jpg', 'Y82.jpg', 'Y100.JPG', 'Y47.JPG', 'Y15.jpg', 'Y96.jpg', 'Y50.JPG', 'Y251.JPG', 'Y256.JPG', 'Y61.jpg', 'Y193.JPG', 'Y21.jpg', 'Y8.jpg', 'Y38.jpg', 'Y9.jpg', 'Y33.jpg', 'Y20.jpg', 'Y56.jpg', 'Y97.JPG', 'Y52.jpg', 'Y3.jpg', 'Y162.jpg', 'Y155.JPG', 'Y42.jpg', 'Y85.JPG', 'Y98.JPG', 'Y76.jpg', 'Y154.jpg', 'Y7.jpg', 'Y160.JPG', 'Y32.jpg', 'Y69.jpg', 'Y28.jpg', 'Y243.JPG', 'Y18.JPG', 'Y111.JPG', 'Y112.JPG', 'Y29.jpg', 'Y115.JPG', 'Y19.JPG', 'Y81.jpg', 'Y185.jpg', 'Y184.JPG', 'Y244.JPG', 'Y58.JPG', 'Y54.jpg', 'Y106.jpg', 'Y147.JPG', 'Y44.JPG', 'Y182.JPG', 'Y108.jpg', 'Y16.JPG', 'Y73.jpg', 'Y253.JPG', 'Y14.jpg', 'Y169.jpg', 'Y195.JPG', 'Y71.JPG', 'Y107.jpg', 'Y60.jpg', 'Y36.JPG', 'Y249.JPG', 'Y45.JPG', 'Y74.jpg', 'Y156.JPG', 'Y31.jpg', 'Y113.JPG', 'Y59.JPG', 'Y248.JPG', 'Y180.jpg', 'Y90.jpg', 'Y186.jpg', 'Y252.jpg', 'Y167.JPG', 'Y194.jpg', 'Y187.jpg', 'Y170.JPG', 'Y103.jpg', 'Y245.jpg', 'Y105.jpg', 'Y165.JPG', 'Y13.jpg', 'Y2.jpg', 'Y92.jpg', 'Y25.jpg', 'Y79.jpg', 'Y26.jpg', 'Y67.JPG', 'Y157.JPG', 'Y10.jpg', 'Y77.jpg', 'Y46.jpg', 'Y188.jpg', 'Y109.JPG', 'Y30.jpg', 'Y12.jpg', 'Y51.jpg', 'Y17.jpg', 'Y146.JPG', 'Y104.jpg', 'Y55.jpg', 'Y246.JPG', 'Y259.JPG', 'Y257.jpg', 'Y35.jpg', 'Y4.jpg', 'Y183.jpg', 'Y65.JPG', 'Y102.jpg', 'Y22.jpg', 'Y117.JPG', 'Y250.jpg', 'Y27.jpg', 'Y86.JPG', 'Y258.JPG', 'Y255.JPG', 'Y11.jpg', 'Y34.jpg', 'Y158.JPG', 'Y62.jpg', 'Y49.JPG', 'Y53.jpg', 'Y192.JPG', 'Y153.jpg', 'Y161.JPG', 'Y148.JPG', 'Y23.JPG', 'Y91.jpg', 'Y116.JPG', 'Y1.jpg', 'Y164.JPG', 'Y163.JPG', 'Y37.jpg', 'Y40.JPG', 'Y24.jpg', 'Y78.jpg', 'Y181.jpg', 'Y120.JPG', 'p (183).jpg', 'p (192).jpg', 'p (170).jpg', 'p (268).jpg', 'p (235) (1).jpg', 'p (132).jpg', 'p (144).jpg', 'p (129).jpg', 'p (152).jpg', 'p (310).jpg', 'p (258).jpg', 'p (44).jpg', 'p (43).jpg', 'p (160).jpg', 'p (252).jpg', 'p (161).jpg', 'p (118).jpg', 'p (169).jpg', 'p (277).jpg', 'p (301).jpg', 'p (299).jpg', 'p (116).jpg', 'p (223).jpg', 'p (38).jpg', 'p (143).jpg', 'p (196).jpg', 'p (29).jpg', 'p (293).jpg', 'p (171).jpg', 'p (239) (1).jpg', 'p (127).jpg', 'p (284).jpg', 'p (324).jpg', 'p (323).jpg', 'p (363).jpg', 'p (31).jpg', 'p (247).jpg', 'p (136).jpg', 'p (32).jpg', 'p (111).jpg', 'p (260).jpg', 'p (210).jpg', 'p (238) (1).jpg', 'p (139).jpg', 'p (352).jpg', 'p (295).jpg', 'p (274).jpg', 'p (267).jpg', 'p (185).jpg', 'p (259).jpg', 'p (48).jpg', 'p (245).jpg', 'p (187).jpg', 'p (200).jpg', 'p (142).jpg', 'p (148).jpg', 'p (184).jpg', 'p (193).jpg', 'p (178).jpg', 'p (221).jpg', 'p (345).jpg', 'p (40).jpg', 'p (101).jpg', 'p (282).jpg', 'p (182).jpg', 'p (344).jpg', 'p (28).jpg', 'p (329).jpg', 'p (214).jpg', 'p (211).jpg', 'p (335).jpg', 'p (12).jpg', 'p (206).jpg', 'p (11).jpg', 'p (123).jpg', 'p (194).jpg', 'p (342).jpg', 'p (191).jpg', 'p (362).jpg', 'p (296).jpg', 'p (219).jpg', 'p (348).jpg', 'p (237) (1).jpg', 'p (246).jpg', 'p (21).jpg', 'p (145).jpg', 'p (325).jpg', 'p (326).jpg', 'p (265).jpg', 'p (255).jpg', 'p (24).jpg', 'p (343).jpg', 'p (26).jpg', 'p (217).jpg', 'p (114).jpg', 'p (1).jpg', 'p (153).jpg', 'p (22).jpg', 'p (207).jpg', 'p (273).jpg', 'p (312).jpg', 'p (3).jpg', 'p (328).jpg', 'p (306).jpg', 'p (108).jpg', 'p (213).jpg', 'p (150).jpg', 'p (358).jpg', 'p (159).jpg', 'p (291).jpg', 'p (230).jpg', 'p (347).jpg', 'p (349).jpg', 'p (124).jpg', 'p (238).jpg', 'p (355).jpg', 'p (42).jpg', 'p (336).jpg', 'p (248).jpg', 'p (266).jpg', 'p (209).jpg', 'p (356).jpg', 'p (281).jpg', 'p (18).jpg', 'p (141).jpg', 'p (164).jpg', 'p (202).jpg', 'p (278).jpg', 'p (332).jpg', 'p (338).jpg', 'p (269).jpg', 'p (275).jpg', 'p (330).jpg', 'p (125).jpg', 'p (334).jpg', 'p (212).jpg', 'p (199).jpg', 'p (297).jpg', 'p (201).jpg', 'p (190).jpg', 'p (163).jpg', 'p (357).jpg', 'p (205).jpg', 'p (140).jpg', 'p (331).jpg', 'p (112).jpg', 'p (226).jpg', 'p (244).jpg', 'p (327).jpg', 'p (288).jpg', 'p (25).jpg', 'p (4).jpg', 'p (309).jpg', 'p (131).jpg', 'p (23).jpg', 'p (30).jpg', 'p (15).jpg', 'p (218).jpg', 'p (36).jpg', 'p (204).jpg', 'p (261).jpg', 'p (262).jpg', 'p (256).jpg', 'p (110).jpg', 'p (27).jpg', 'p (198).jpg', 'p (304).jpg', 'p (341).jpg', 'p (173).jpg', 'p (285).jpg', 'p (272).jpg', 'p (10).jpg', 'p (233).jpg', 'p (346).jpg', 'p (228).jpg', 'p (234) (1).jpg', 'p (120).jpg', 'p (250).jpg', 'p (168).jpg', 'p (105).jpg', 'p (303).jpg', 'p (294).jpg', 'p (197).jpg', 'p (253).jpg', 'p (149).jpg', 'p (314).jpg', 'p (257).jpg', 'p (236) (1).jpg', 'p (353).jpg', 'p (215).jpg', 'p (113).jpg', 'p (229).jpg', 'p (35).jpg', 'p (106).jpg', 'p (333).jpg', 'p (300).jpg', 'p (231).jpg', 'p (180).jpg', 'p (47).jpg', 'p (361).jpg', 'p (225).jpg', 'p (354).jpg', 'p (17).jpg', 'p (16).jpg', 'p (46).jpg', 'p (287).jpg', 'p (311).jpg', 'p (279).jpg', 'p (263).jpg', 'p (340).jpg', 'p (283).jpg', 'p (351).jpg', 'p (237).jpg', 'p (271).jpg', 'p (175).jpg', 'p (103).jpg', 'p (241).jpg', 'p (102).jpg', 'p (174).jpg', 'p (20).jpg', 'p (318).jpg', 'p (189).jpg', 'p (157).jpg', 'p (126).jpg', 'p (290).jpg', 'p (39).jpg', 'p (240).jpg', 'p (339).jpg', 'p (165).jpg', 'p (166).jpg', 'p (292).jpg', 'p (254).jpg', 'p (137).jpg', 'p (179).jpg', 'p (188).jpg', 'p (232).jpg', 'p (181).jpg', 'p (49).jpg', 'p (308).jpg', 'p (138).jpg', 'p (37).jpg', 'p (350).jpg', 'p (158).jpg', 'p (162).jpg', 'p (317).jpg', 'p (176).jpg', 'p (33).jpg', 'p (107).jpg', 'p (154).jpg', 'p (264).jpg', 'p (104).jpg', 'p (289).jpg', 'p (315).jpg', 'p (359).jpg', 'p (2).jpg', 'p (222).jpg', 'p (239).jpg', 'p (14).jpg', 'p (251).jpg', 'p (307).jpg', 'p (235).jpg', 'p (128).jpg', 'p (203).jpg', 'p (100).jpg', 'p (220).jpg', 'p (216).jpg', 'p (109).jpg', 'p (234).jpg', 'p (286).jpg', 'p (172).jpg', 'p (177).jpg', 'p (249).jpg', 'p (119).jpg', 'p (243).jpg', 'p (313).jpg', 'p (321).jpg', 'p (122).jpg', 'p (19).jpg', 'p (322).jpg', 'p (337).jpg', 'p (316).jpg', 'p (134).jpg', 'p (45).jpg', 'p (130).jpg', 'p (13).jpg', 'p (115).jpg', 'p (156).jpg', 'p (117).jpg', 'p (319).jpg', 'p (270).jpg', 'p (276).jpg', 'p (155).jpg', 'p (224).jpg', 'p (302).jpg', 'p (208).jpg', 'p (34).jpg', 'p (320).jpg', 'p (305).jpg', 'p (195).jpg', 'p (360).jpg', 'p (151).jpg', 'p (186).jpg', 'p (227).jpg', 'p (167).jpg', 'p (280).jpg', 'p (146).jpg', 'p (135).jpg', 'p (41).jpg', 'p (236).jpg', 'p (147).jpg', 'p (133).jpg', 'p (121).jpg', 'p (298).jpg', 'p (242).jpg', 'p (56).jpg', 'p (63).jpg', 'p (70).jpg', 'p (98).jpg', 'p (89).jpg', 'p (55).jpg', 'p (97).jpg', 'p (61).jpg', 'p (7).jpg', 'p (82).jpg', 'p (87).jpg', 'p (65).jpg', 'p (96).jpg', 'p (86).jpg', 'p (94).jpg', 'p (81).jpg', 'p (92).jpg', 'p (9).jpg', 'p (68).jpg', 'p (99).jpg', 'p (50).jpg', 'p (52).jpg', 'p (62).jpg', 'p (73).jpg', 'p (53).jpg', 'p (5).jpg', 'p (79).jpg', 'p (60).jpg', 'p (95).jpg', 'p (88).jpg', 'p (51).jpg', 'p (76).jpg', 'p (90).jpg', 'p (80).jpg', 'p (66).jpg', 'p (69).jpg', 'p (74).jpg', 'p (85).jpg', 'p (77).jpg', 'p (59).jpg', 'p (6).jpg', 'p (75).jpg', 'p (83).jpg', 'p (64).jpg', 'p (91).jpg', 'p (71).jpg', 'p (57).jpg', 'p (84).jpg', 'p (72).jpg', 'p (54).jpg', 'p (58).jpg', 'p (93).jpg', 'p (67).jpg', 'p (8).jpg', 'p (78).jpg'])])"
            ]
          },
          "metadata": {},
          "execution_count": 7
        },
        {
          "output_type": "stream",
          "name": "stdout",
          "text": [
            "time: 5.75 ms (started: 2023-03-13 19:15:14 +00:00)\n"
          ]
        }
      ],
      "source": [
        "number_of_images.items()   #number of singleimage item"
      ]
    },
    {
      "cell_type": "code",
      "execution_count": 8,
      "metadata": {
        "id": "Irl4KzL6Xa8B",
        "colab": {
          "base_uri": "https://localhost:8080/"
        },
        "outputId": "00bd3657-1d8d-4939-9f35-082b8f55ad0a"
      },
      "outputs": [
        {
          "output_type": "stream",
          "name": "stdout",
          "text": [
            "time: 20 ms (started: 2023-03-13 19:15:14 +00:00)\n"
          ]
        }
      ],
      "source": [
        "number_of_images={}\n",
        "for dir in os.listdir(ROOT_DIR):\n",
        "  number_of_images[dir]=len(os.listdir(os.path.join(ROOT_DIR,dir)))"
      ]
    },
    {
      "cell_type": "markdown",
      "metadata": {
        "id": "iB_Om7pyX8RQ"
      },
      "source": [
        "**see length of tumered and non tumered brain**"
      ]
    },
    {
      "cell_type": "code",
      "execution_count": 9,
      "metadata": {
        "id": "FPDvDwgCXuJ_",
        "colab": {
          "base_uri": "https://localhost:8080/"
        },
        "outputId": "26690161-77f4-4d97-d146-8c8aa85352d7"
      },
      "outputs": [
        {
          "output_type": "execute_result",
          "data": {
            "text/plain": [
              "dict_items([('no', 493), ('yes', 524)])"
            ]
          },
          "metadata": {},
          "execution_count": 9
        },
        {
          "output_type": "stream",
          "name": "stdout",
          "text": [
            "time: 5.32 ms (started: 2023-03-13 19:15:15 +00:00)\n"
          ]
        }
      ],
      "source": [
        "number_of_images.items()"
      ]
    },
    {
      "cell_type": "markdown",
      "metadata": {
        "id": "QLlR6cc9dzzQ"
      },
      "source": [
        "**create traning folder**"
      ]
    },
    {
      "cell_type": "code",
      "execution_count": 10,
      "metadata": {
        "id": "xEunQLlqZEwQ",
        "colab": {
          "base_uri": "https://localhost:8080/"
        },
        "outputId": "c49fca72-3136-4972-beb1-d8c96928e2e4"
      },
      "outputs": [
        {
          "output_type": "stream",
          "name": "stdout",
          "text": [
            "the folder exist\n",
            "the folder exist\n",
            "time: 18.9 s (started: 2023-03-13 19:15:15 +00:00)\n"
          ]
        }
      ],
      "source": [
        "if not os.path.exists(\"./train\"):\n",
        "  os.mkdir(\"./train\")   #maketrain folder directory\n",
        "  \n",
        "  for dir in os.listdir(ROOT_DIR):\n",
        "    os.makedirs(\"./train/\"+dir)\n",
        "    for img in np.random.choice(a=os.listdir(os.path.join(ROOT_DIR,dir)),size=(math.floor(80/100*number_of_images[dir])-5),replace=False):\n",
        "      O=os.path.join(ROOT_DIR,dir,img)#path\n",
        "      D=os.path.join(\"./train\",dir)\n",
        "      shutil.copy(O,D)\n",
        "      os.remove(O)\n",
        "    else:\n",
        "      print(\"the folder exist\")\n"
      ]
    },
    {
      "cell_type": "markdown",
      "source": [
        " **bold data spliting\n",
        "80%for traning\n",
        "10%validating\n",
        "10%testingtext** "
      ],
      "metadata": {
        "id": "gsgqKNy3eNmx"
      }
    },
    {
      "cell_type": "code",
      "execution_count": 11,
      "metadata": {
        "id": "VZX8E_hWYMZ5",
        "colab": {
          "base_uri": "https://localhost:8080/"
        },
        "outputId": "4de4abb9-2e52-4078-e91b-d27b5a9ba8b9"
      },
      "outputs": [
        {
          "output_type": "stream",
          "name": "stdout",
          "text": [
            "time: 1.58 ms (started: 2023-03-13 19:15:33 +00:00)\n"
          ]
        }
      ],
      "source": [
        "def dataFolder(p,split):\n",
        "  if not os.path.exists(\"./\"+p):\n",
        "    os.mkdir(\"./\"+p)\n",
        "    for dir in os.listdir(ROOT_DIR):\n",
        "      os.makedirs(\"./\"+p+\"/\"+dir)\n",
        "      for img in np.random.choice(a=os.listdir(os.path.join(ROOT_DIR,dir)),size=(math.floor(split*number_of_images[dir])-5),replace=False):\n",
        "        O=os.path.join(ROOT_DIR,dir,img)#path\n",
        "        D=os.path.join(\"./\"+p,dir)\n",
        "        shutil.copy(O,D)\n",
        "        os.remove(O)\n",
        "    else:\n",
        "      print(f\"{p}the folder exist\")\n"
      ]
    },
    {
      "cell_type": "markdown",
      "source": [
        "**for traning**"
      ],
      "metadata": {
        "id": "mnkGw0QjeRmx"
      }
    },
    {
      "cell_type": "code",
      "execution_count": 12,
      "metadata": {
        "id": "Mrv0BmuvhHW4",
        "colab": {
          "base_uri": "https://localhost:8080/"
        },
        "outputId": "46796958-e002-453a-db42-b39d09538caa"
      },
      "outputs": [
        {
          "output_type": "stream",
          "name": "stdout",
          "text": [
            "time: 512 µs (started: 2023-03-13 19:15:33 +00:00)\n"
          ]
        }
      ],
      "source": [
        "dataFolder(\"train\",0.8)"
      ]
    },
    {
      "cell_type": "markdown",
      "source": [
        "**for validation**"
      ],
      "metadata": {
        "id": "JkV20wQ9eV1R"
      }
    },
    {
      "cell_type": "code",
      "execution_count": 13,
      "metadata": {
        "id": "ZvwM_yr_hfUI",
        "colab": {
          "base_uri": "https://localhost:8080/"
        },
        "outputId": "b86515d4-a935-4df4-b493-e5157952d905"
      },
      "outputs": [
        {
          "output_type": "stream",
          "name": "stdout",
          "text": [
            "valthe folder exist\n",
            "time: 317 ms (started: 2023-03-13 19:15:33 +00:00)\n"
          ]
        }
      ],
      "source": [
        "dataFolder(\"val\",0.1)"
      ]
    },
    {
      "cell_type": "markdown",
      "source": [
        "**for validation**"
      ],
      "metadata": {
        "id": "v9nL2JcWeaTS"
      }
    },
    {
      "cell_type": "code",
      "execution_count": 14,
      "metadata": {
        "id": "HJZZ9R1Jh8G_",
        "colab": {
          "base_uri": "https://localhost:8080/"
        },
        "outputId": "4aac6734-19bd-4170-f3a2-34a8f3cb6e8c"
      },
      "outputs": [
        {
          "output_type": "stream",
          "name": "stdout",
          "text": [
            "testthe folder exist\n",
            "time: 520 ms (started: 2023-03-13 19:15:34 +00:00)\n"
          ]
        }
      ],
      "source": [
        "dataFolder(\"test\",0.1)"
      ]
    },
    {
      "cell_type": "markdown",
      "metadata": {
        "id": "c25f3LborZ6Y"
      },
      "source": [
        "**model building**"
      ]
    },
    {
      "cell_type": "code",
      "execution_count": 15,
      "metadata": {
        "id": "VBz7AUV1rP1f",
        "colab": {
          "base_uri": "https://localhost:8080/"
        },
        "outputId": "8f31c585-d09a-4534-952f-aec6bba33e36"
      },
      "outputs": [
        {
          "output_type": "stream",
          "name": "stdout",
          "text": [
            "time: 4.77 s (started: 2023-03-13 19:15:34 +00:00)\n"
          ]
        }
      ],
      "source": [
        "from keras.utils import img_to_array #underling frame work for tensorflow\n",
        "from keras.utils.image_dataset import load_image\n",
        "from keras.layers import Conv2D,MaxPool2D,Dropout,Flatten,Dense,BatchNormalization,GlobalAveragePooling2D\n",
        "from keras.models import Sequential\n",
        "from keras.preprocessing.image import ImageDataGenerator\n",
        "import keras"
      ]
    },
    {
      "cell_type": "markdown",
      "metadata": {
        "id": "yzJHt5NOsmV4"
      },
      "source": [
        "** 2D CNN model**"
      ]
    },
    {
      "cell_type": "code",
      "execution_count": 16,
      "metadata": {
        "id": "waW5gxU_qY6h",
        "colab": {
          "base_uri": "https://localhost:8080/"
        },
        "outputId": "f3b7679d-b092-485f-fb93-088ad9729fd1"
      },
      "outputs": [
        {
          "output_type": "stream",
          "name": "stdout",
          "text": [
            "Model: \"sequential\"\n",
            "_________________________________________________________________\n",
            " Layer (type)                Output Shape              Param #   \n",
            "=================================================================\n",
            " conv2d (Conv2D)             (None, 242, 242, 16)      448       \n",
            "                                                                 \n",
            " conv2d_1 (Conv2D)           (None, 240, 240, 32)      4640      \n",
            "                                                                 \n",
            " max_pooling2d (MaxPooling2D  (None, 120, 120, 32)     0         \n",
            " )                                                               \n",
            "                                                                 \n",
            " conv2d_2 (Conv2D)           (None, 118, 118, 64)      18496     \n",
            "                                                                 \n",
            " max_pooling2d_1 (MaxPooling  (None, 59, 59, 64)       0         \n",
            " 2D)                                                             \n",
            "                                                                 \n",
            " conv2d_3 (Conv2D)           (None, 57, 57, 128)       73856     \n",
            "                                                                 \n",
            " max_pooling2d_2 (MaxPooling  (None, 28, 28, 128)      0         \n",
            " 2D)                                                             \n",
            "                                                                 \n",
            " flatten (Flatten)           (None, 100352)            0         \n",
            "                                                                 \n",
            " dense (Dense)               (None, 64)                6422592   \n",
            "                                                                 \n",
            " dropout (Dropout)           (None, 64)                0         \n",
            "                                                                 \n",
            " dense_1 (Dense)             (None, 1)                 65        \n",
            "                                                                 \n",
            "=================================================================\n",
            "Total params: 6,520,097\n",
            "Trainable params: 6,520,097\n",
            "Non-trainable params: 0\n",
            "_________________________________________________________________\n",
            "time: 5.24 s (started: 2023-03-13 19:15:39 +00:00)\n"
          ]
        }
      ],
      "source": [
        "from keras.backend import dropout\n",
        "from keras.engine import sequential\n",
        "model=Sequential()\n",
        "model.add(Conv2D(filters=16,kernel_size=(3,3),activation='relu',input_shape=(244,244,3)))   #input layer\n",
        "\n",
        "model.add(Conv2D(filters=32,kernel_size=(3,3),activation='relu'))   #hidden layer\n",
        "model.add(MaxPool2D(pool_size=(2,2)))\n",
        "\n",
        "model.add(Conv2D(filters=64,kernel_size=(3,3),activation='relu'))   #hidden layer\n",
        "model.add(MaxPool2D(pool_size=(2,2)))\n",
        "\n",
        "model.add(Conv2D(filters=128,kernel_size=(3,3),activation='relu'))    #hidden layer\n",
        "model.add(MaxPool2D(pool_size=(2,2)))\n",
        "\n",
        "model.add(Flatten())\n",
        "model.add(Dense(units=64,activation='relu'))\n",
        "model.add(Dropout(rate=0.25))\n",
        "model.add(Dense(units=1,activation='sigmoid'))      #outputlayer\n",
        "\n",
        "model.summary()\n",
        "\n"
      ]
    },
    {
      "cell_type": "markdown",
      "source": [
        "used optimizer and evaluation metrics"
      ],
      "metadata": {
        "id": "xKyjD3SjfjUK"
      }
    },
    {
      "cell_type": "code",
      "execution_count": 17,
      "metadata": {
        "id": "e37u4-IJ3xXK",
        "colab": {
          "base_uri": "https://localhost:8080/"
        },
        "outputId": "b7ec9029-06c8-4509-ba12-eed4239867e9"
      },
      "outputs": [
        {
          "output_type": "stream",
          "name": "stdout",
          "text": [
            "time: 76.8 ms (started: 2023-03-13 19:15:44 +00:00)\n"
          ]
        }
      ],
      "source": [
        "import tensorflow as tf\n",
        "model.compile(optimizer='adam',loss = tf.keras.losses.binary_crossentropy,metrics=['accuracy'])\n"
      ]
    },
    {
      "cell_type": "markdown",
      "metadata": {
        "id": "d6-gMEai8kKA"
      },
      "source": [
        "**preparing ourdata using data generator**"
      ]
    },
    {
      "cell_type": "code",
      "execution_count": 18,
      "metadata": {
        "id": "eLYWsS4f72UJ",
        "colab": {
          "base_uri": "https://localhost:8080/"
        },
        "outputId": "d53d5820-2c66-47d8-d2a0-6a5adbd0894e"
      },
      "outputs": [
        {
          "output_type": "stream",
          "name": "stdout",
          "text": [
            "time: 702 µs (started: 2023-03-13 19:15:44 +00:00)\n"
          ]
        }
      ],
      "source": [
        "def preprocessingImages(path):\n",
        "  \"\"\"\n",
        "  \n",
        "  input:path\n",
        "  output:preprocessed image\n",
        "  \"\"\"\n",
        "  image_data=ImageDataGenerator(zoom_range=0.2,shear_range=0.2,rescale=1/255,horizontal_flip=True)  #preprocessing of image\n",
        "  image=image_data.flow_from_directory(directory=path,target_size=(244,244),batch_size=(32),class_mode='binary')\n",
        "  return image\n"
      ]
    },
    {
      "cell_type": "markdown",
      "metadata": {
        "id": "OKdUhQ89AKfx"
      },
      "source": [
        "**for traning**"
      ]
    },
    {
      "cell_type": "code",
      "execution_count": 19,
      "metadata": {
        "id": "yGGdbHGU_CQR",
        "colab": {
          "base_uri": "https://localhost:8080/"
        },
        "outputId": "fe356eeb-a64f-4ffc-a099-fe8b46bb9948"
      },
      "outputs": [
        {
          "output_type": "stream",
          "name": "stdout",
          "text": [
            "Found 803 images belonging to 2 classes.\n",
            "time: 21.1 ms (started: 2023-03-13 19:15:44 +00:00)\n"
          ]
        }
      ],
      "source": [
        "path='/content/train'\n",
        "train_data=preprocessingImages(path)"
      ]
    },
    {
      "cell_type": "markdown",
      "metadata": {
        "id": "8VH4OZK-AH3c"
      },
      "source": [
        "**for test data**"
      ]
    },
    {
      "cell_type": "code",
      "execution_count": 20,
      "metadata": {
        "id": "MhVvsHUQ_x4H",
        "colab": {
          "base_uri": "https://localhost:8080/"
        },
        "outputId": "ad984582-16b2-4ccf-fd13-f28d0e0c83f1"
      },
      "outputs": [
        {
          "output_type": "stream",
          "name": "stdout",
          "text": [
            "time: 707 µs (started: 2023-03-13 19:15:44 +00:00)\n"
          ]
        }
      ],
      "source": [
        "def preprocessingImages2(path):\n",
        "  \"\"\"\n",
        "  input:path\n",
        "  output:preprocessed image\n",
        "  \"\"\"\n",
        "  image_data=ImageDataGenerator(rescale=1/255)\n",
        "  image=image_data.flow_from_directory(directory=path,target_size=(244,244),batch_size=(32),class_mode='binary')\n",
        "  return image"
      ]
    },
    {
      "cell_type": "code",
      "execution_count": 21,
      "metadata": {
        "id": "_uws_FcLAgoi",
        "colab": {
          "base_uri": "https://localhost:8080/"
        },
        "outputId": "a8482871-916d-4a94-e2ad-35c3ffa71e82"
      },
      "outputs": [
        {
          "output_type": "stream",
          "name": "stdout",
          "text": [
            "Found 91 images belonging to 2 classes.\n",
            "time: 9.51 ms (started: 2023-03-13 19:15:44 +00:00)\n"
          ]
        }
      ],
      "source": [
        "path='/content/test'\n",
        "test_data=preprocessingImages2(path)"
      ]
    },
    {
      "cell_type": "markdown",
      "source": [
        "**for validating**"
      ],
      "metadata": {
        "id": "qetkFIVniTAc"
      }
    },
    {
      "cell_type": "code",
      "execution_count": 22,
      "metadata": {
        "id": "GzPoRMSQAm2o",
        "colab": {
          "base_uri": "https://localhost:8080/"
        },
        "outputId": "f60a7bc8-d0be-4d7a-ead5-223d39f427c0"
      },
      "outputs": [
        {
          "output_type": "stream",
          "name": "stdout",
          "text": [
            "Found 91 images belonging to 2 classes.\n",
            "time: 7.71 ms (started: 2023-03-13 19:15:45 +00:00)\n"
          ]
        }
      ],
      "source": [
        "path='/content/val'\n",
        "val_data=preprocessingImages2(path)"
      ]
    },
    {
      "cell_type": "markdown",
      "metadata": {
        "id": "he5W2lsbBAlX"
      },
      "source": [
        "**early stoping the model cheak point**"
      ]
    },
    {
      "cell_type": "code",
      "execution_count": 115,
      "metadata": {
        "id": "c7MMuivCA17R",
        "colab": {
          "base_uri": "https://localhost:8080/"
        },
        "outputId": "d8774851-69b4-4d35-aee0-458d80186e66"
      },
      "outputs": [
        {
          "output_type": "stream",
          "name": "stdout",
          "text": [
            "time: 1.23 ms (started: 2023-03-13 20:08:46 +00:00)\n"
          ]
        }
      ],
      "source": [
        "from keras.callbacks import ModelCheckpoint,EarlyStopping\n",
        "#early stoping\n",
        "er=EarlyStopping(monitor=\"accuracy\",min_delta=0.001,patience=23,verbose=1,mode='auto')    #save the best model when their is best accurecy \n",
        "#model cheakpoint\n",
        "mc=ModelCheckpoint(monitor=\"accuracy\",filepath=\"./bestmodel.h5\",verbose=1,save_best_only=True,mode='auto')\n",
        "cd=[er,mc]"
      ]
    },
    {
      "cell_type": "markdown",
      "source": [
        " in early stopping\n",
        "min_delta: Minimum change in the monitored quantity to qualify as an improvement, i.e. an absolute change of less than min_delta, will count as no improvement. patience: Number of epochs with no improvement after which training will be stopped. verbose: Verbosity mode, 0 or 1"
      ],
      "metadata": {
        "id": "eqnEmEIRm8wS"
      }
    },
    {
      "cell_type": "markdown",
      "metadata": {
        "id": "ftoasA9_DHTE"
      },
      "source": [
        "**model traning**"
      ]
    },
    {
      "cell_type": "code",
      "execution_count": 116,
      "metadata": {
        "id": "slo4FM7WDEwB",
        "colab": {
          "base_uri": "https://localhost:8080/"
        },
        "outputId": "d097f19b-f985-4011-a18c-3c06dbec74f3"
      },
      "outputs": [
        {
          "output_type": "stream",
          "name": "stdout",
          "text": [
            "Epoch 1/39\n",
            "9/9 [==============================] - ETA: 0s - loss: 0.1016 - accuracy: 0.9514"
          ]
        },
        {
          "output_type": "stream",
          "name": "stderr",
          "text": [
            "WARNING:tensorflow:Your input ran out of data; interrupting training. Make sure that your dataset or generator can generate at least `steps_per_epoch * epochs` batches (in this case, 16 batches). You may need to use the repeat() function when building your dataset.\n"
          ]
        },
        {
          "output_type": "stream",
          "name": "stdout",
          "text": [
            "\n",
            "Epoch 1: accuracy improved from -inf to 0.95139, saving model to ./bestmodel.h5\n",
            "9/9 [==============================] - 5s 574ms/step - loss: 0.1016 - accuracy: 0.9514 - val_loss: 0.0946 - val_accuracy: 0.9560\n",
            "Epoch 2/39\n",
            "9/9 [==============================] - ETA: 0s - loss: 0.0871 - accuracy: 0.9583\n",
            "Epoch 2: accuracy improved from 0.95139 to 0.95833, saving model to ./bestmodel.h5\n",
            "9/9 [==============================] - 6s 665ms/step - loss: 0.0871 - accuracy: 0.9583\n",
            "Epoch 3/39\n",
            "9/9 [==============================] - ETA: 0s - loss: 0.0774 - accuracy: 0.9792\n",
            "Epoch 3: accuracy improved from 0.95833 to 0.97917, saving model to ./bestmodel.h5\n",
            "9/9 [==============================] - 5s 548ms/step - loss: 0.0774 - accuracy: 0.9792\n",
            "Epoch 4/39\n",
            "9/9 [==============================] - ETA: 0s - loss: 0.0654 - accuracy: 0.9722\n",
            "Epoch 4: accuracy did not improve from 0.97917\n",
            "9/9 [==============================] - 5s 567ms/step - loss: 0.0654 - accuracy: 0.9722\n",
            "Epoch 5/39\n",
            "9/9 [==============================] - ETA: 0s - loss: 0.0759 - accuracy: 0.9618\n",
            "Epoch 5: accuracy did not improve from 0.97917\n",
            "9/9 [==============================] - 4s 455ms/step - loss: 0.0759 - accuracy: 0.9618\n",
            "Epoch 6/39\n",
            "9/9 [==============================] - ETA: 0s - loss: 0.0737 - accuracy: 0.9653\n",
            "Epoch 6: accuracy did not improve from 0.97917\n",
            "9/9 [==============================] - 6s 628ms/step - loss: 0.0737 - accuracy: 0.9653\n",
            "Epoch 7/39\n",
            "9/9 [==============================] - ETA: 0s - loss: 0.0769 - accuracy: 0.9722\n",
            "Epoch 7: accuracy did not improve from 0.97917\n",
            "9/9 [==============================] - 4s 465ms/step - loss: 0.0769 - accuracy: 0.9722\n",
            "Epoch 8/39\n",
            "9/9 [==============================] - ETA: 0s - loss: 0.0502 - accuracy: 0.9768\n",
            "Epoch 8: accuracy did not improve from 0.97917\n",
            "9/9 [==============================] - 5s 603ms/step - loss: 0.0502 - accuracy: 0.9768\n",
            "Epoch 9/39\n",
            "9/9 [==============================] - ETA: 0s - loss: 0.0676 - accuracy: 0.9722\n",
            "Epoch 9: accuracy did not improve from 0.97917\n",
            "9/9 [==============================] - 4s 458ms/step - loss: 0.0676 - accuracy: 0.9722\n",
            "Epoch 10/39\n",
            "9/9 [==============================] - ETA: 0s - loss: 0.0518 - accuracy: 0.9826\n",
            "Epoch 10: accuracy improved from 0.97917 to 0.98264, saving model to ./bestmodel.h5\n",
            "9/9 [==============================] - 4s 495ms/step - loss: 0.0518 - accuracy: 0.9826\n",
            "Epoch 11/39\n",
            "9/9 [==============================] - ETA: 0s - loss: 0.0626 - accuracy: 0.9688\n",
            "Epoch 11: accuracy did not improve from 0.98264\n",
            "9/9 [==============================] - 6s 628ms/step - loss: 0.0626 - accuracy: 0.9688\n",
            "Epoch 12/39\n",
            "9/9 [==============================] - ETA: 0s - loss: 0.0378 - accuracy: 0.9861\n",
            "Epoch 12: accuracy improved from 0.98264 to 0.98611, saving model to ./bestmodel.h5\n",
            "9/9 [==============================] - 5s 525ms/step - loss: 0.0378 - accuracy: 0.9861\n",
            "Epoch 13/39\n",
            "9/9 [==============================] - ETA: 0s - loss: 0.0753 - accuracy: 0.9653\n",
            "Epoch 13: accuracy did not improve from 0.98611\n",
            "9/9 [==============================] - 5s 530ms/step - loss: 0.0753 - accuracy: 0.9653\n",
            "Epoch 14/39\n",
            "9/9 [==============================] - ETA: 0s - loss: 0.1225 - accuracy: 0.9479\n",
            "Epoch 14: accuracy did not improve from 0.98611\n",
            "9/9 [==============================] - 4s 471ms/step - loss: 0.1225 - accuracy: 0.9479\n",
            "Epoch 15/39\n",
            "9/9 [==============================] - ETA: 0s - loss: 0.1457 - accuracy: 0.9382\n",
            "Epoch 15: accuracy did not improve from 0.98611\n",
            "9/9 [==============================] - 7s 752ms/step - loss: 0.1457 - accuracy: 0.9382\n",
            "Epoch 16/39\n",
            "9/9 [==============================] - ETA: 0s - loss: 0.0616 - accuracy: 0.9757\n",
            "Epoch 16: accuracy did not improve from 0.98611\n",
            "9/9 [==============================] - 4s 474ms/step - loss: 0.0616 - accuracy: 0.9757\n",
            "Epoch 17/39\n",
            "9/9 [==============================] - ETA: 0s - loss: 0.0904 - accuracy: 0.9757\n",
            "Epoch 17: accuracy did not improve from 0.98611\n",
            "9/9 [==============================] - 5s 532ms/step - loss: 0.0904 - accuracy: 0.9757\n",
            "Epoch 18/39\n",
            "9/9 [==============================] - ETA: 0s - loss: 0.0494 - accuracy: 0.9757\n",
            "Epoch 18: accuracy did not improve from 0.98611\n",
            "9/9 [==============================] - 5s 550ms/step - loss: 0.0494 - accuracy: 0.9757\n",
            "Epoch 19/39\n",
            "9/9 [==============================] - ETA: 0s - loss: 0.0628 - accuracy: 0.9722\n",
            "Epoch 19: accuracy did not improve from 0.98611\n",
            "9/9 [==============================] - 6s 630ms/step - loss: 0.0628 - accuracy: 0.9722\n",
            "Epoch 20/39\n",
            "9/9 [==============================] - ETA: 0s - loss: 0.0510 - accuracy: 0.9807\n",
            "Epoch 20: accuracy did not improve from 0.98611\n",
            "9/9 [==============================] - 4s 403ms/step - loss: 0.0510 - accuracy: 0.9807\n",
            "Epoch 21/39\n",
            "9/9 [==============================] - ETA: 0s - loss: 0.1010 - accuracy: 0.9479\n",
            "Epoch 21: accuracy did not improve from 0.98611\n",
            "9/9 [==============================] - 4s 472ms/step - loss: 0.1010 - accuracy: 0.9479\n",
            "Epoch 22/39\n",
            "9/9 [==============================] - ETA: 0s - loss: 0.0738 - accuracy: 0.9691\n",
            "Epoch 22: accuracy did not improve from 0.98611\n",
            "9/9 [==============================] - 6s 648ms/step - loss: 0.0738 - accuracy: 0.9691\n",
            "Epoch 23/39\n",
            "9/9 [==============================] - ETA: 0s - loss: 0.0686 - accuracy: 0.9757\n",
            "Epoch 23: accuracy did not improve from 0.98611\n",
            "9/9 [==============================] - 4s 454ms/step - loss: 0.0686 - accuracy: 0.9757\n",
            "Epoch 24/39\n",
            "8/9 [=========================>....] - ETA: 0s - loss: 0.0978 - accuracy: 0.9609\n",
            "Epoch 24: accuracy did not improve from 0.98611\n",
            "9/9 [==============================] - 6s 617ms/step - loss: 0.0967 - accuracy: 0.9614\n",
            "Epoch 25/39\n",
            "9/9 [==============================] - ETA: 0s - loss: 0.0662 - accuracy: 0.9757\n",
            "Epoch 25: accuracy did not improve from 0.98611\n",
            "9/9 [==============================] - 4s 462ms/step - loss: 0.0662 - accuracy: 0.9757\n",
            "Epoch 26/39\n",
            "9/9 [==============================] - ETA: 0s - loss: 0.0529 - accuracy: 0.9722\n",
            "Epoch 26: accuracy did not improve from 0.98611\n",
            "9/9 [==============================] - 6s 609ms/step - loss: 0.0529 - accuracy: 0.9722\n",
            "Epoch 27/39\n",
            "9/9 [==============================] - ETA: 0s - loss: 0.0727 - accuracy: 0.9792\n",
            "Epoch 27: accuracy did not improve from 0.98611\n",
            "9/9 [==============================] - 4s 465ms/step - loss: 0.0727 - accuracy: 0.9792\n",
            "Epoch 28/39\n",
            "9/9 [==============================] - ETA: 0s - loss: 0.0513 - accuracy: 0.9807\n",
            "Epoch 28: accuracy did not improve from 0.98611\n",
            "9/9 [==============================] - 4s 457ms/step - loss: 0.0513 - accuracy: 0.9807\n",
            "Epoch 29/39\n",
            "9/9 [==============================] - ETA: 0s - loss: 0.0797 - accuracy: 0.9653\n",
            "Epoch 29: accuracy did not improve from 0.98611\n",
            "9/9 [==============================] - 5s 550ms/step - loss: 0.0797 - accuracy: 0.9653\n",
            "Epoch 30/39\n",
            "9/9 [==============================] - ETA: 0s - loss: 0.1120 - accuracy: 0.9688\n",
            "Epoch 30: accuracy did not improve from 0.98611\n",
            "9/9 [==============================] - 6s 654ms/step - loss: 0.1120 - accuracy: 0.9688\n",
            "Epoch 31/39\n",
            "9/9 [==============================] - ETA: 0s - loss: 0.0456 - accuracy: 0.9768\n",
            "Epoch 31: accuracy did not improve from 0.98611\n",
            "9/9 [==============================] - 6s 609ms/step - loss: 0.0456 - accuracy: 0.9768\n",
            "Epoch 32/39\n",
            "9/9 [==============================] - ETA: 0s - loss: 0.0458 - accuracy: 0.9826\n",
            "Epoch 32: accuracy did not improve from 0.98611\n",
            "9/9 [==============================] - 5s 512ms/step - loss: 0.0458 - accuracy: 0.9826\n",
            "Epoch 33/39\n",
            "9/9 [==============================] - ETA: 0s - loss: 0.0487 - accuracy: 0.9861\n",
            "Epoch 33: accuracy did not improve from 0.98611\n",
            "9/9 [==============================] - 5s 566ms/step - loss: 0.0487 - accuracy: 0.9861\n",
            "Epoch 34/39\n",
            "9/9 [==============================] - ETA: 0s - loss: 0.0301 - accuracy: 0.9884\n",
            "Epoch 34: accuracy improved from 0.98611 to 0.98842, saving model to ./bestmodel.h5\n",
            "9/9 [==============================] - 4s 451ms/step - loss: 0.0301 - accuracy: 0.9884\n",
            "Epoch 35/39\n",
            "9/9 [==============================] - ETA: 0s - loss: 0.1182 - accuracy: 0.9653\n",
            "Epoch 35: accuracy did not improve from 0.98842\n",
            "9/9 [==============================] - 5s 505ms/step - loss: 0.1182 - accuracy: 0.9653\n",
            "Epoch 36/39\n",
            "9/9 [==============================] - ETA: 0s - loss: 0.3425 - accuracy: 0.8803\n",
            "Epoch 36: accuracy did not improve from 0.98842\n",
            "9/9 [==============================] - 5s 489ms/step - loss: 0.3425 - accuracy: 0.8803\n",
            "Epoch 37/39\n",
            "9/9 [==============================] - ETA: 0s - loss: 0.1980 - accuracy: 0.9097\n",
            "Epoch 37: accuracy did not improve from 0.98842\n",
            "9/9 [==============================] - 4s 457ms/step - loss: 0.1980 - accuracy: 0.9097\n",
            "Epoch 38/39\n",
            "8/9 [=========================>....] - ETA: 0s - loss: 0.1443 - accuracy: 0.9531\n",
            "Epoch 38: accuracy did not improve from 0.98842\n",
            "9/9 [==============================] - 5s 556ms/step - loss: 0.1436 - accuracy: 0.9537\n",
            "Epoch 39/39\n",
            "9/9 [==============================] - ETA: 0s - loss: 0.1460 - accuracy: 0.9306\n",
            "Epoch 39: accuracy did not improve from 0.98842\n",
            "9/9 [==============================] - 5s 557ms/step - loss: 0.1460 - accuracy: 0.9306\n",
            "time: 4min 54s (started: 2023-03-13 20:08:49 +00:00)\n"
          ]
        }
      ],
      "source": [
        "hs=model.fit_generator(generator=train_data,\n",
        "                       steps_per_epoch =9,\n",
        "                       epochs=39,\n",
        "                       verbose=1,# what ever the execution is i wanna be shewn it\n",
        "                       validation_data=(val_data),\n",
        "                       validation_steps=16,\n",
        "                       callbacks=cd,\n",
        "                       )"
      ]
    },
    {
      "cell_type": "markdown",
      "metadata": {
        "id": "Bijwty_A1VQZ"
      },
      "source": [
        "**model graphical interpretation**"
      ]
    },
    {
      "cell_type": "code",
      "execution_count": 118,
      "metadata": {
        "id": "dJYAEhSN0zjt",
        "colab": {
          "base_uri": "https://localhost:8080/"
        },
        "outputId": "46fb51fb-fff1-4c3e-ac5d-f1e3d28487bf"
      },
      "outputs": [
        {
          "output_type": "execute_result",
          "data": {
            "text/plain": [
              "dict_keys(['loss', 'accuracy', 'val_loss', 'val_accuracy'])"
            ]
          },
          "metadata": {},
          "execution_count": 118
        },
        {
          "output_type": "stream",
          "name": "stdout",
          "text": [
            "time: 2.32 ms (started: 2023-03-13 20:15:15 +00:00)\n"
          ]
        }
      ],
      "source": [
        "h=hs.history\n",
        "h.keys()\n"
      ]
    },
    {
      "cell_type": "markdown",
      "source": [
        "**Accurecy**"
      ],
      "metadata": {
        "id": "o8nkNh3Xis8D"
      }
    },
    {
      "cell_type": "code",
      "execution_count": 117,
      "metadata": {
        "id": "TIDF6Oko6fTr",
        "colab": {
          "base_uri": "https://localhost:8080/",
          "height": 299
        },
        "outputId": "d494e8bb-1960-4dfb-edc4-76d3571de39d"
      },
      "outputs": [
        {
          "output_type": "display_data",
          "data": {
            "text/plain": [
              "<Figure size 432x288 with 1 Axes>"
            ],
            "image/png": "[encoded data removed]"
          },
          "metadata": {
            "needs_background": "light"
          }
        },
        {
          "output_type": "stream",
          "name": "stdout",
          "text": [
            "time: 140 ms (started: 2023-03-13 20:15:09 +00:00)\n"
          ]
        }
      ],
      "source": [
        "import matplotlib.pyplot as plt\n",
        "plt.plot(h['accuracy'])\n",
        "\n",
        "plt.title(\"accuracy\")\n",
        "plt.show()"
      ]
    },
    {
      "cell_type": "markdown",
      "source": [
        "**loss function**"
      ],
      "metadata": {
        "id": "061ODTNSizn7"
      }
    },
    {
      "cell_type": "code",
      "execution_count": 119,
      "metadata": {
        "id": "Na3ZKFpG7HWh",
        "colab": {
          "base_uri": "https://localhost:8080/",
          "height": 299
        },
        "outputId": "294a47a1-96e8-4784-cc18-af82e74294be"
      },
      "outputs": [
        {
          "output_type": "display_data",
          "data": {
            "text/plain": [
              "<Figure size 432x288 with 1 Axes>"
            ],
            "image/png": "[encoded data removed]"
          },
          "metadata": {
            "needs_background": "light"
          }
        },
        {
          "output_type": "stream",
          "name": "stdout",
          "text": [
            "time: 212 ms (started: 2023-03-13 20:15:20 +00:00)\n"
          ]
        }
      ],
      "source": [
        "import matplotlib.pyplot as plt\n",
        "plt.plot(h['loss'])\n",
        "\n",
        "plt.title(\"loss\")\n",
        "plt.show()"
      ]
    },
    {
      "cell_type": "markdown",
      "metadata": {
        "id": "g-aXT49B7mVQ"
      },
      "source": [
        "**save the model**\n"
      ]
    },
    {
      "cell_type": "code",
      "execution_count": 120,
      "metadata": {
        "id": "UVhqEE3v7bTh",
        "colab": {
          "base_uri": "https://localhost:8080/"
        },
        "outputId": "21744954-a546-4115-ed4e-7752cf5d6275"
      },
      "outputs": [
        {
          "output_type": "stream",
          "name": "stdout",
          "text": [
            "time: 299 ms (started: 2023-03-13 20:15:25 +00:00)\n"
          ]
        }
      ],
      "source": [
        "from keras.models import load_model\n",
        "model=load_model(\"/content/bestmodel.h5\")"
      ]
    },
    {
      "cell_type": "markdown",
      "source": [
        "show accurecy of the model for traning data"
      ],
      "metadata": {
        "id": "LI8xHbKb8PVR"
      }
    },
    {
      "cell_type": "code",
      "execution_count": 121,
      "metadata": {
        "id": "ud87Db-Y-6nA",
        "colab": {
          "base_uri": "https://localhost:8080/"
        },
        "outputId": "a6a6484b-5126-44cb-9712-743a0b6f21ff"
      },
      "outputs": [
        {
          "output_type": "stream",
          "name": "stdout",
          "text": [
            "the accurecy of our model is 99.3773341178894%\n",
            "time: 21.5 s (started: 2023-03-13 20:15:31 +00:00)\n"
          ]
        }
      ],
      "source": [
        "acc=model.evaluate_generator(train_data)[1]\n",
        "print(f\"the accurecy of our model is {acc*100}%\")"
      ]
    },
    {
      "cell_type": "markdown",
      "source": [
        "show accurecy of the model for test data\n",
        "\n",
        "---\n",
        "\n"
      ],
      "metadata": {
        "id": "8ntmPfMz-Rrg"
      }
    },
    {
      "cell_type": "code",
      "source": [
        "acc=model.evaluate_generator(test_data)[1]\n",
        "print(f\"the accurecy of our model is {acc*100}%\")"
      ],
      "metadata": {
        "id": "cM443GX5-Dxa",
        "colab": {
          "base_uri": "https://localhost:8080/"
        },
        "outputId": "a5c0a8d1-eb66-442a-ed15-5eecc17c840f"
      },
      "execution_count": 122,
      "outputs": [
        {
          "output_type": "stream",
          "name": "stdout",
          "text": [
            "the accurecy of our model is 97.80219793319702%\n",
            "time: 490 ms (started: 2023-03-13 20:16:04 +00:00)\n"
          ]
        }
      ]
    },
    {
      "cell_type": "markdown",
      "source": [
        "show accurecy of the model for validation data"
      ],
      "metadata": {
        "id": "_VmZRkMg_RBx"
      }
    },
    {
      "cell_type": "code",
      "source": [
        "acc=model.evaluate_generator(val_data)[1]\n",
        "print(f\"the accurecy of our model is {acc*100}%\")"
      ],
      "metadata": {
        "id": "sWTTL-7S_KeO",
        "colab": {
          "base_uri": "https://localhost:8080/"
        },
        "outputId": "c5f85361-b56d-443c-9de0-ffd505e4f0a2"
      },
      "execution_count": 123,
      "outputs": [
        {
          "output_type": "stream",
          "name": "stdout",
          "text": [
            "the accurecy of our model is 93.40659379959106%\n",
            "time: 873 ms (started: 2023-03-13 20:16:11 +00:00)\n"
          ]
        }
      ]
    },
    {
      "cell_type": "code",
      "execution_count": 124,
      "metadata": {
        "id": "279dj_jPLmNh",
        "colab": {
          "base_uri": "https://localhost:8080/"
        },
        "outputId": "fb24f7fc-a8ec-4222-b5e2-72061bc3d551"
      },
      "outputs": [
        {
          "output_type": "stream",
          "name": "stdout",
          "text": [
            "time: 818 µs (started: 2023-03-13 20:16:15 +00:00)\n"
          ]
        }
      ],
      "source": [
        "from keras.utils.image_dataset import load_image\n",
        "from tensorflow.keras.preprocessing.image import ImageDataGenerator\n",
        "from tensorflow.keras.preprocessing.image import load_img,img_to_array"
      ]
    },
    {
      "cell_type": "markdown",
      "source": [
        "**state our target class**"
      ],
      "metadata": {
        "id": "QipoHVqui_vy"
      }
    },
    {
      "cell_type": "code",
      "execution_count": 125,
      "metadata": {
        "id": "LGK6B1N4tcIu",
        "colab": {
          "base_uri": "https://localhost:8080/"
        },
        "outputId": "519d939c-22d0-4d3b-be71-fc2e2f5f0564"
      },
      "outputs": [
        {
          "output_type": "execute_result",
          "data": {
            "text/plain": [
              "{'no': 0, 'yes': 1}"
            ]
          },
          "metadata": {},
          "execution_count": 125
        },
        {
          "output_type": "stream",
          "name": "stdout",
          "text": [
            "time: 2.67 ms (started: 2023-03-13 20:16:19 +00:00)\n"
          ]
        }
      ],
      "source": [
        "train_data.class_indices"
      ]
    },
    {
      "cell_type": "markdown",
      "source": [
        "**test our model by using testing set**"
      ],
      "metadata": {
        "id": "N8Dg6BfejE1y"
      }
    },
    {
      "cell_type": "code",
      "execution_count": 126,
      "metadata": {
        "id": "lLqZnFKyL_bC",
        "colab": {
          "base_uri": "https://localhost:8080/",
          "height": 324
        },
        "outputId": "a79925ca-8b7b-4095-fc5c-fdc863a55d6a"
      },
      "outputs": [
        {
          "output_type": "display_data",
          "data": {
            "text/plain": [
              "<Figure size 432x288 with 1 Axes>"
            ],
            "image/png": "[encoded data removed]"
          },
          "metadata": {
            "needs_background": "light"
          }
        },
        {
          "output_type": "stream",
          "name": "stdout",
          "text": [
            "1/1 [==============================] - 0s 118ms/step\n",
            "the MRI is not having a tumor\n",
            "time: 402 ms (started: 2023-03-13 20:16:26 +00:00)\n"
          ]
        }
      ],
      "source": [
        "path=\"/content/test/no/no 4.jpg\"\n",
        "img=load_img(path,target_size=(244,244))\n",
        "input_arr=img_to_array(img)/255\n",
        "plt.imshow(input_arr)\n",
        "plt.show()\n",
        "input_arr.shape\n",
        "input_arr=np.expand_dims(input_arr,axis=0)\n",
        "y_pred = model.predict(input_arr)\n",
        "y_pred = np.round(y_pred).astype(int)[0][0]\n",
        "y_pred\n",
        "\n",
        "if y_pred==1:\n",
        "  print(\"the MRI is  having a tumor\")\n",
        "else:\n",
        "  print(\"the MRI is not having a tumor\")"
      ]
    },
    {
      "cell_type": "markdown",
      "source": [
        "**save the model using pickle library**"
      ],
      "metadata": {
        "id": "Y9fsYETTjPYD"
      }
    },
    {
      "cell_type": "markdown",
      "source": [
        " Model Deployment"
      ],
      "metadata": {
        "id": "l7oCJruojUBy"
      }
    },
    {
      "cell_type": "code",
      "execution_count": 36,
      "metadata": {
        "id": "GeqF3FGzxqI1",
        "colab": {
          "base_uri": "https://localhost:8080/",
          "height": 1000
        },
        "outputId": "cf22b304-88fa-4735-f5b7-8a4054ee47d0"
      },
      "outputs": [
        {
          "output_type": "stream",
          "name": "stdout",
          "text": [
            "Looking in indexes: https://pypi.org/simple, https://us-python.pkg.dev/colab-wheels/public/simple/\n",
            "Collecting streamlit\n",
            "  Downloading streamlit-1.20.0-py2.py3-none-any.whl (9.6 MB)\n",
            "\u001b[2K     \u001b[90m━━━━━━━━━━━━━━━━━━━━━━━━━━━━━━━━━━━━━━━━\u001b[0m \u001b[32m9.6/9.6 MB\u001b[0m \u001b[31m25.3 MB/s\u001b[0m eta \u001b[36m0:00:00\u001b[0m\n",
            "\u001b[?25hRequirement already satisfied: packaging>=14.1 in /usr/local/lib/python3.9/dist-packages (from streamlit) (23.0)\n",
            "Collecting pympler>=0.9\n",
            "  Downloading Pympler-1.0.1-py3-none-any.whl (164 kB)\n",
            "\u001b[2K     \u001b[90m━━━━━━━━━━━━━━━━━━━━━━━━━━━━━━━━━━━━━━\u001b[0m \u001b[32m164.8/164.8 KB\u001b[0m \u001b[31m16.9 MB/s\u001b[0m eta \u001b[36m0:00:00\u001b[0m\n",
            "\u001b[?25hRequirement already satisfied: altair<5,>=3.2.0 in /usr/local/lib/python3.9/dist-packages (from streamlit) (4.2.2)\n",
            "Collecting gitpython!=3.1.19\n",
            "  Downloading GitPython-3.1.31-py3-none-any.whl (184 kB)\n",
            "\u001b[2K     \u001b[90m━━━━━━━━━━━━━━━━━━━━━━━━━━━━━━━━━━━━━━\u001b[0m \u001b[32m184.3/184.3 KB\u001b[0m \u001b[31m26.2 MB/s\u001b[0m eta \u001b[36m0:00:00\u001b[0m\n",
            "\u001b[?25hCollecting blinker>=1.0.0\n",
            "  Downloading blinker-1.5-py2.py3-none-any.whl (12 kB)\n",
            "Requirement already satisfied: toml in /usr/local/lib/python3.9/dist-packages (from streamlit) (0.10.2)\n",
            "Collecting rich>=10.11.0\n",
            "  Downloading rich-13.3.2-py3-none-any.whl (238 kB)\n",
            "\u001b[2K     \u001b[90m━━━━━━━━━━━━━━━━━━━━━━━━━━━━━━━━━━━━━━\u001b[0m \u001b[32m238.7/238.7 KB\u001b[0m \u001b[31m27.7 MB/s\u001b[0m eta \u001b[36m0:00:00\u001b[0m\n",
            "\u001b[?25hRequirement already satisfied: typing-extensions>=3.10.0.0 in /usr/local/lib/python3.9/dist-packages (from streamlit) (4.5.0)\n",
            "Requirement already satisfied: numpy in /usr/local/lib/python3.9/dist-packages (from streamlit) (1.22.4)\n",
            "Collecting semver\n",
            "  Downloading semver-2.13.0-py2.py3-none-any.whl (12 kB)\n",
            "Collecting watchdog\n",
            "  Downloading watchdog-2.3.1-py3-none-manylinux2014_x86_64.whl (80 kB)\n",
            "\u001b[2K     \u001b[90m━━━━━━━━━━━━━━━━━━━━━━━━━━━━━━━━━━━━━━━━\u001b[0m \u001b[32m80.6/80.6 KB\u001b[0m \u001b[31m11.1 MB/s\u001b[0m eta \u001b[36m0:00:00\u001b[0m\n",
            "\u001b[?25hRequirement already satisfied: python-dateutil in /usr/local/lib/python3.9/dist-packages (from streamlit) (2.8.2)\n",
            "Requirement already satisfied: pyarrow>=4.0 in /usr/local/lib/python3.9/dist-packages (from streamlit) (9.0.0)\n",
            "Requirement already satisfied: importlib-metadata>=1.4 in /usr/local/lib/python3.9/dist-packages (from streamlit) (6.0.0)\n",
            "Requirement already satisfied: tzlocal>=1.1 in /usr/local/lib/python3.9/dist-packages (from streamlit) (4.2)\n",
            "Requirement already satisfied: cachetools>=4.0 in /usr/local/lib/python3.9/dist-packages (from streamlit) (5.3.0)\n",
            "Collecting pydeck>=0.1.dev5\n",
            "  Downloading pydeck-0.8.0-py2.py3-none-any.whl (4.7 MB)\n",
            "\u001b[2K     \u001b[90m━━━━━━━━━━━━━━━━━━━━━━━━━━━━━━━━━━━━━━━━\u001b[0m \u001b[32m4.7/4.7 MB\u001b[0m \u001b[31m109.8 MB/s\u001b[0m eta \u001b[36m0:00:00\u001b[0m\n",
            "\u001b[?25hRequirement already satisfied: pillow>=6.2.0 in /usr/local/lib/python3.9/dist-packages (from streamlit) (8.4.0)\n",
            "Requirement already satisfied: pandas<2,>=0.25 in /usr/local/lib/python3.9/dist-packages (from streamlit) (1.4.4)\n",
            "Collecting validators>=0.2\n",
            "  Downloading validators-0.20.0.tar.gz (30 kB)\n",
            "  Preparing metadata (setup.py) ... \u001b[?25l\u001b[?25hdone\n",
            "Requirement already satisfied: protobuf<4,>=3.12 in /usr/local/lib/python3.9/dist-packages (from streamlit) (3.19.6)\n",
            "Requirement already satisfied: click>=7.0 in /usr/local/lib/python3.9/dist-packages (from streamlit) (8.1.3)\n",
            "Requirement already satisfied: requests>=2.4 in /usr/local/lib/python3.9/dist-packages (from streamlit) (2.25.1)\n",
            "Requirement already satisfied: tornado>=6.0.3 in /usr/local/lib/python3.9/dist-packages (from streamlit) (6.2)\n",
            "Requirement already satisfied: jsonschema>=3.0 in /usr/local/lib/python3.9/dist-packages (from altair<5,>=3.2.0->streamlit) (4.3.3)\n",
            "Requirement already satisfied: toolz in /usr/local/lib/python3.9/dist-packages (from altair<5,>=3.2.0->streamlit) (0.12.0)\n",
            "Requirement already satisfied: jinja2 in /usr/local/lib/python3.9/dist-packages (from altair<5,>=3.2.0->streamlit) (3.1.2)\n",
            "Requirement already satisfied: entrypoints in /usr/local/lib/python3.9/dist-packages (from altair<5,>=3.2.0->streamlit) (0.4)\n",
            "Collecting gitdb<5,>=4.0.1\n",
            "  Downloading gitdb-4.0.10-py3-none-any.whl (62 kB)\n",
            "\u001b[2K     \u001b[90m━━━━━━━━━━━━━━━━━━━━━━━━━━━━━━━━━━━━━━━━\u001b[0m \u001b[32m62.7/62.7 KB\u001b[0m \u001b[31m3.4 MB/s\u001b[0m eta \u001b[36m0:00:00\u001b[0m\n",
            "\u001b[?25hRequirement already satisfied: zipp>=0.5 in /usr/local/lib/python3.9/dist-packages (from importlib-metadata>=1.4->streamlit) (3.15.0)\n",
            "Requirement already satisfied: pytz>=2020.1 in /usr/local/lib/python3.9/dist-packages (from pandas<2,>=0.25->streamlit) (2022.7.1)\n",
            "Requirement already satisfied: six>=1.5 in /usr/local/lib/python3.9/dist-packages (from python-dateutil->streamlit) (1.15.0)\n",
            "Requirement already satisfied: chardet<5,>=3.0.2 in /usr/local/lib/python3.9/dist-packages (from requests>=2.4->streamlit) (4.0.0)\n",
            "Requirement already satisfied: urllib3<1.27,>=1.21.1 in /usr/local/lib/python3.9/dist-packages (from requests>=2.4->streamlit) (1.26.14)\n",
            "Requirement already satisfied: idna<3,>=2.5 in /usr/local/lib/python3.9/dist-packages (from requests>=2.4->streamlit) (2.10)\n",
            "Requirement already satisfied: certifi>=2017.4.17 in /usr/local/lib/python3.9/dist-packages (from requests>=2.4->streamlit) (2022.12.7)\n",
            "Collecting markdown-it-py<3.0.0,>=2.2.0\n",
            "  Downloading markdown_it_py-2.2.0-py3-none-any.whl (84 kB)\n",
            "\u001b[2K     \u001b[90m━━━━━━━━━━━━━━━━━━━━━━━━━━━━━━━━━━━━━━━━\u001b[0m \u001b[32m84.5/84.5 KB\u001b[0m \u001b[31m11.5 MB/s\u001b[0m eta \u001b[36m0:00:00\u001b[0m\n",
            "\u001b[?25hCollecting pygments<3.0.0,>=2.13.0\n",
            "  Downloading Pygments-2.14.0-py3-none-any.whl (1.1 MB)\n",
            "\u001b[2K     \u001b[90m━━━━━━━━━━━━━━━━━━━━━━━━━━━━━━━━━━━━━━━━\u001b[0m \u001b[32m1.1/1.1 MB\u001b[0m \u001b[31m81.4 MB/s\u001b[0m eta \u001b[36m0:00:00\u001b[0m\n",
            "\u001b[?25hRequirement already satisfied: pytz-deprecation-shim in /usr/local/lib/python3.9/dist-packages (from tzlocal>=1.1->streamlit) (0.1.0.post0)\n",
            "Requirement already satisfied: decorator>=3.4.0 in /usr/local/lib/python3.9/dist-packages (from validators>=0.2->streamlit) (4.4.2)\n",
            "Collecting smmap<6,>=3.0.1\n",
            "  Downloading smmap-5.0.0-py3-none-any.whl (24 kB)\n",
            "Requirement already satisfied: MarkupSafe>=2.0 in /usr/local/lib/python3.9/dist-packages (from jinja2->altair<5,>=3.2.0->streamlit) (2.1.2)\n",
            "Requirement already satisfied: pyrsistent!=0.17.0,!=0.17.1,!=0.17.2,>=0.14.0 in /usr/local/lib/python3.9/dist-packages (from jsonschema>=3.0->altair<5,>=3.2.0->streamlit) (0.19.3)\n",
            "Requirement already satisfied: attrs>=17.4.0 in /usr/local/lib/python3.9/dist-packages (from jsonschema>=3.0->altair<5,>=3.2.0->streamlit) (22.2.0)\n",
            "Collecting mdurl~=0.1\n",
            "  Downloading mdurl-0.1.2-py3-none-any.whl (10.0 kB)\n",
            "Requirement already satisfied: tzdata in /usr/local/lib/python3.9/dist-packages (from pytz-deprecation-shim->tzlocal>=1.1->streamlit) (2022.7)\n",
            "Building wheels for collected packages: validators\n",
            "  Building wheel for validators (setup.py) ... \u001b[?25l\u001b[?25hdone\n",
            "  Created wheel for validators: filename=validators-0.20.0-py3-none-any.whl size=19581 sha256=523ee53a9db2e3bc70a32898a9c0f29f45474ef5778450bb73f8d6ddd9669a30\n",
            "  Stored in directory: /root/.cache/pip/wheels/2d/f0/a8/1094fca7a7e5d0d12ff56e0c64675d72aa5cc81a5fc200e849\n",
            "Successfully built validators\n",
            "Installing collected packages: watchdog, validators, smmap, semver, pympler, pygments, mdurl, blinker, pydeck, markdown-it-py, gitdb, rich, gitpython, streamlit\n",
            "  Attempting uninstall: pygments\n",
            "    Found existing installation: Pygments 2.6.1\n",
            "    Uninstalling Pygments-2.6.1:\n",
            "      Successfully uninstalled Pygments-2.6.1\n",
            "Successfully installed blinker-1.5 gitdb-4.0.10 gitpython-3.1.31 markdown-it-py-2.2.0 mdurl-0.1.2 pydeck-0.8.0 pygments-2.14.0 pympler-1.0.1 rich-13.3.2 semver-2.13.0 smmap-5.0.0 streamlit-1.20.0 validators-0.20.0 watchdog-2.3.1\n"
          ]
        },
        {
          "output_type": "display_data",
          "data": {
            "application/vnd.colab-display-data+json": {
              "pip_warning": {
                "packages": [
                  "pygments"
                ]
              }
            }
          },
          "metadata": {}
        },
        {
          "output_type": "stream",
          "name": "stdout",
          "text": [
            "time: 16.2 s (started: 2023-03-13 19:18:15 +00:00)\n"
          ]
        }
      ],
      "source": [
        "!pip install streamlit"
      ]
    },
    {
      "cell_type": "markdown",
      "source": [
        "**file generator path**"
      ],
      "metadata": {
        "id": "qpnjQmq_jnJ9"
      }
    },
    {
      "cell_type": "code",
      "source": [
        "%%writefile app.py\n",
        "import streamlit as st\n",
        "import tensorflow as tf\n",
        "from tensorflow.keras.applications.imagenet_utils import decode_predictions\n",
        "import cv2\n",
        "from PIL import Image, ImageOps\n",
        "import numpy as np\n",
        " \n",
        "@st.cache(allow_output_mutation=True)\n",
        "def load_model():\n",
        "  model=tf.keras.models.load_model('/content/bestmodel.h5')\n",
        "  return model\n",
        "with st.spinner('Model is being loaded..'):\n",
        "  model=load_model()\n",
        " \n",
        "st.write(\"\"\"\n",
        "         # Image Classification\n",
        "         \"\"\"\n",
        "         )\n",
        " \n",
        "file = st.file_uploader(\"Upload the image to be classified U0001F447\", type=[\"jpg\", \"png\"])\n",
        "st.set_option('deprecation.showfileUploaderEncoding', False)\n",
        " \n",
        "def upload_predict(upload_image, model):\n",
        "    \n",
        "        size = (180,180)    \n",
        "        image = ImageOps.fit(upload_image, size, Image.ANTIALIAS)\n",
        "        image = np.asarray(image)\n",
        "        img = cv2.cvtColor(image, cv2.COLOR_BGR2RGB)\n",
        "        img_resize = cv2.resize(img, dsize=(224, 224),interpolation=cv2.INTER_CUBIC)\n",
        "        \n",
        "        img_reshape = img_resize[np.newaxis,...]\n",
        "    \n",
        "        prediction = model.predict(img_reshape)\n",
        "        pred_class=decode_predictions(prediction,top=1)\n",
        "        \n",
        "        return pred_class\n",
        "if file is None:\n",
        "    st.text(\"Please upload an image file\")\n",
        "else:\n",
        "    image = Image.open(file)\n",
        "    st.image(image, use_column_width=True)\n",
        "    predictions = upload_predict(image, model)\n",
        "    image_class = str(predictions[0][0][1])\n",
        "    score=np.round(predictions[0][0][2]) \n",
        "    st.write(\"The image is classified as\",image_class)\n",
        "    st.write(\"The similarity score is approximately\",score)\n",
        "    print(\"The image is classified as \",image_class, \"with a similarity score of\",score)"
      ],
      "metadata": {
        "id": "PJfopnpBr9dQ",
        "colab": {
          "base_uri": "https://localhost:8080/"
        },
        "outputId": "b2edad6a-70c8-40dc-e518-4067dca821c4"
      },
      "execution_count": 78,
      "outputs": [
        {
          "output_type": "stream",
          "name": "stdout",
          "text": [
            "Overwriting app.py\n",
            "time: 6.34 ms (started: 2023-03-13 19:42:09 +00:00)\n"
          ]
        }
      ]
    },
    {
      "cell_type": "code",
      "execution_count": 38,
      "metadata": {
        "id": "byKR4YqpzCWh",
        "colab": {
          "base_uri": "https://localhost:8080/"
        },
        "outputId": "caad7f4f-3505-4662-9cb1-80886293b5b6"
      },
      "outputs": [
        {
          "output_type": "stream",
          "name": "stdout",
          "text": [
            "Looking in indexes: https://pypi.org/simple, https://us-python.pkg.dev/colab-wheels/public/simple/\n",
            "Collecting pyngrok\n",
            "  Downloading pyngrok-5.2.1.tar.gz (761 kB)\n",
            "\u001b[2K     \u001b[90m━━━━━━━━━━━━━━━━━━━━━━━━━━━━━━━━━━━━━━\u001b[0m \u001b[32m761.3/761.3 KB\u001b[0m \u001b[31m36.3 MB/s\u001b[0m eta \u001b[36m0:00:00\u001b[0m\n",
            "\u001b[?25h  Preparing metadata (setup.py) ... \u001b[?25l\u001b[?25hdone\n",
            "Requirement already satisfied: PyYAML in /usr/local/lib/python3.9/dist-packages (from pyngrok) (6.0)\n",
            "Building wheels for collected packages: pyngrok\n",
            "  Building wheel for pyngrok (setup.py) ... \u001b[?25l\u001b[?25hdone\n",
            "  Created wheel for pyngrok: filename=pyngrok-5.2.1-py3-none-any.whl size=19792 sha256=917cdb1fe6a50d25f31bdeb413f50550734ac81f3ffeecbb8d574cc171062596\n",
            "  Stored in directory: /root/.cache/pip/wheels/f6/89/59/49d4249e00957e94813ac136a335d10ed2e09a856c5096f95c\n",
            "Successfully built pyngrok\n",
            "Installing collected packages: pyngrok\n",
            "Successfully installed pyngrok-5.2.1\n",
            "time: 5.5 s (started: 2023-03-13 19:18:32 +00:00)\n"
          ]
        }
      ],
      "source": [
        "!pip install pyngrok"
      ]
    },
    {
      "cell_type": "code",
      "execution_count": 39,
      "metadata": {
        "id": "QT0X-lQfzG7w",
        "colab": {
          "base_uri": "https://localhost:8080/"
        },
        "outputId": "82b7454b-6091-4b62-a9cc-7eef6024afe1"
      },
      "outputs": [
        {
          "output_type": "stream",
          "name": "stdout",
          "text": [
            "time: 23.7 ms (started: 2023-03-13 19:18:37 +00:00)\n"
          ]
        }
      ],
      "source": [
        "from pyngrok import ngrok"
      ]
    },
    {
      "cell_type": "code",
      "execution_count": 98,
      "metadata": {
        "id": "VQbYUd3PAZG2",
        "colab": {
          "base_uri": "https://localhost:8080/"
        },
        "outputId": "06c766df-9f85-48cc-dc95-6862fbd1d34f"
      },
      "outputs": [
        {
          "output_type": "stream",
          "name": "stdout",
          "text": [
            "Authtoken saved to configuration file: /root/.ngrok2/ngrok.yml\n",
            "time: 263 ms (started: 2023-03-13 19:50:51 +00:00)\n"
          ]
        }
      ],
      "source": [
        "!ngrok authtoken 2MPjHQ9CT3v75UGbad8xBCkIreH_4PeJE52KKNbTcwAcYn7dR"
      ]
    },
    {
      "cell_type": "code",
      "execution_count": 99,
      "metadata": {
        "id": "0RuANbxAAjx2",
        "colab": {
          "base_uri": "https://localhost:8080/"
        },
        "outputId": "72f97d6a-caf0-4295-f4f6-cc4c11eacae8"
      },
      "outputs": [
        {
          "output_type": "stream",
          "name": "stdout",
          "text": [
            "time: 52.7 s (started: 2023-03-13 19:50:53 +00:00)\n"
          ]
        }
      ],
      "source": [
        "!streamlit run --server.port 80 app.py >/dev/null"
      ]
    },
    {
      "cell_type": "code",
      "execution_count": 100,
      "metadata": {
        "id": "ovpd_XztzN2k",
        "colab": {
          "base_uri": "https://localhost:8080/"
        },
        "outputId": "4bf6dd91-eac7-4b8d-8725-e6dd60ba322e"
      },
      "outputs": [
        {
          "output_type": "stream",
          "name": "stdout",
          "text": [
            "Overwriting app.py\n",
            "time: 2.91 ms (started: 2023-03-13 19:51:49 +00:00)\n"
          ]
        }
      ],
      "source": [
        "%%writefile app.py\n",
        "import streamlit as st\n",
        "st.title('image classifier')"
      ]
    },
    {
      "cell_type": "code",
      "execution_count": 101,
      "metadata": {
        "id": "5g4M4CIczRxk",
        "colab": {
          "base_uri": "https://localhost:8080/"
        },
        "outputId": "0b281139-471b-470e-cf8a-3f08da2eda3b"
      },
      "outputs": [
        {
          "output_type": "stream",
          "name": "stdout",
          "text": [
            "nohup: appending output to 'nohup.out'\n"
          ]
        },
        {
          "output_type": "execute_result",
          "data": {
            "text/plain": [
              "<NgrokTunnel: \"http://cc55-34-87-76-218.ngrok.io\" -> \"http://localhost:80\">"
            ]
          },
          "metadata": {},
          "execution_count": 101
        },
        {
          "output_type": "stream",
          "name": "stdout",
          "text": [
            "time: 1.49 s (started: 2023-03-13 19:51:52 +00:00)\n"
          ]
        }
      ],
      "source": [
        "!nohup streamlit run app.py &\n",
        "url=ngrok.connect(port=\"8080\")\n",
        "url"
      ]
    }
  ],
  "metadata": {
    "colab": {
      "provenance": [],
      "authorship_tag": "ABX9TyObnIPS8Piez5kbdtzVwGDR",
      "include_colab_link": true
    },
    "gpuClass": "standard",
    "kernelspec": {
      "display_name": "Python 3",
      "name": "python3"
    },
    "language_info": {
      "name": "python"
    },
    "accelerator": "GPU"
  },
  "nbformat": 4,
  "nbformat_minor": 0
}